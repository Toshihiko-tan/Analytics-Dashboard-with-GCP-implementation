{
 "cells": [
  {
   "cell_type": "code",
   "execution_count": 1,
   "id": "2dcc0a99",
   "metadata": {},
   "outputs": [],
   "source": [
    "import pandas as pd\n",
    "import numpy as np\n",
    "import plotly.express as px"
   ]
  },
  {
   "cell_type": "code",
   "execution_count": 21,
   "id": "6b69d4c1",
   "metadata": {},
   "outputs": [
    {
     "data": {
      "text/html": [
       "<div>\n",
       "<style scoped>\n",
       "    .dataframe tbody tr th:only-of-type {\n",
       "        vertical-align: middle;\n",
       "    }\n",
       "\n",
       "    .dataframe tbody tr th {\n",
       "        vertical-align: top;\n",
       "    }\n",
       "\n",
       "    .dataframe thead th {\n",
       "        text-align: right;\n",
       "    }\n",
       "</style>\n",
       "<table border=\"1\" class=\"dataframe\">\n",
       "  <thead>\n",
       "    <tr style=\"text-align: right;\">\n",
       "      <th></th>\n",
       "      <th>Unnamed: 0.1</th>\n",
       "      <th>Unnamed: 0</th>\n",
       "      <th>LocationAbbr</th>\n",
       "      <th>DataSource</th>\n",
       "      <th>DataValueUnit</th>\n",
       "      <th>DataValue</th>\n",
       "      <th>DataValueAlt</th>\n",
       "      <th>LowConfidenceLimit</th>\n",
       "      <th>HighConfidenceLimit</th>\n",
       "      <th>TopicID</th>\n",
       "      <th>QuestionID</th>\n",
       "      <th>DataValueTypeID</th>\n",
       "      <th>StratificationCategoryID1</th>\n",
       "      <th>StratificationID1</th>\n",
       "      <th>Year</th>\n",
       "    </tr>\n",
       "  </thead>\n",
       "  <tbody>\n",
       "    <tr>\n",
       "      <th>0</th>\n",
       "      <td>0</td>\n",
       "      <td>3</td>\n",
       "      <td>ME</td>\n",
       "      <td>BRFSS</td>\n",
       "      <td>%</td>\n",
       "      <td>11.4</td>\n",
       "      <td>11.4</td>\n",
       "      <td>10.2</td>\n",
       "      <td>12.7</td>\n",
       "      <td>DIA</td>\n",
       "      <td>DIA01</td>\n",
       "      <td>CRDPREV</td>\n",
       "      <td>SEX</td>\n",
       "      <td>SEXM</td>\n",
       "      <td>2019</td>\n",
       "    </tr>\n",
       "    <tr>\n",
       "      <th>1</th>\n",
       "      <td>1</td>\n",
       "      <td>9</td>\n",
       "      <td>AL</td>\n",
       "      <td>BRFSS</td>\n",
       "      <td>%</td>\n",
       "      <td>5.0</td>\n",
       "      <td>5.0</td>\n",
       "      <td>3.6</td>\n",
       "      <td>6.8</td>\n",
       "      <td>DIA</td>\n",
       "      <td>DIA01</td>\n",
       "      <td>CRDPREV</td>\n",
       "      <td>AGE</td>\n",
       "      <td>AGE1844</td>\n",
       "      <td>2020</td>\n",
       "    </tr>\n",
       "    <tr>\n",
       "      <th>2</th>\n",
       "      <td>2</td>\n",
       "      <td>21</td>\n",
       "      <td>VT</td>\n",
       "      <td>BRFSS</td>\n",
       "      <td>%</td>\n",
       "      <td>9.3</td>\n",
       "      <td>9.3</td>\n",
       "      <td>8.0</td>\n",
       "      <td>10.8</td>\n",
       "      <td>DIA</td>\n",
       "      <td>DIA01</td>\n",
       "      <td>CRDPREV</td>\n",
       "      <td>SEX</td>\n",
       "      <td>SEXM</td>\n",
       "      <td>2020</td>\n",
       "    </tr>\n",
       "    <tr>\n",
       "      <th>3</th>\n",
       "      <td>3</td>\n",
       "      <td>22</td>\n",
       "      <td>VI</td>\n",
       "      <td>BRFSS</td>\n",
       "      <td>%</td>\n",
       "      <td>12.0</td>\n",
       "      <td>12.0</td>\n",
       "      <td>7.7</td>\n",
       "      <td>18.2</td>\n",
       "      <td>DIA</td>\n",
       "      <td>DIA01</td>\n",
       "      <td>CRDPREV</td>\n",
       "      <td>SEX</td>\n",
       "      <td>SEXM</td>\n",
       "      <td>2020</td>\n",
       "    </tr>\n",
       "    <tr>\n",
       "      <th>4</th>\n",
       "      <td>4</td>\n",
       "      <td>29</td>\n",
       "      <td>MA</td>\n",
       "      <td>BRFSS</td>\n",
       "      <td>%</td>\n",
       "      <td>9.2</td>\n",
       "      <td>9.2</td>\n",
       "      <td>8.0</td>\n",
       "      <td>10.6</td>\n",
       "      <td>DIA</td>\n",
       "      <td>DIA01</td>\n",
       "      <td>CRDPREV</td>\n",
       "      <td>SEX</td>\n",
       "      <td>SEXM</td>\n",
       "      <td>2021</td>\n",
       "    </tr>\n",
       "    <tr>\n",
       "      <th>5</th>\n",
       "      <td>5</td>\n",
       "      <td>35</td>\n",
       "      <td>KY</td>\n",
       "      <td>BRFSS</td>\n",
       "      <td>%</td>\n",
       "      <td>15.1</td>\n",
       "      <td>15.1</td>\n",
       "      <td>13.2</td>\n",
       "      <td>17.3</td>\n",
       "      <td>DIA</td>\n",
       "      <td>DIA01</td>\n",
       "      <td>CRDPREV</td>\n",
       "      <td>SEX</td>\n",
       "      <td>SEXF</td>\n",
       "      <td>2022</td>\n",
       "    </tr>\n",
       "    <tr>\n",
       "      <th>6</th>\n",
       "      <td>6</td>\n",
       "      <td>4404</td>\n",
       "      <td>CA</td>\n",
       "      <td>BRFSS</td>\n",
       "      <td>%</td>\n",
       "      <td>9.7</td>\n",
       "      <td>9.7</td>\n",
       "      <td>8.8</td>\n",
       "      <td>10.7</td>\n",
       "      <td>DIA</td>\n",
       "      <td>DIA01</td>\n",
       "      <td>CRDPREV</td>\n",
       "      <td>SEX</td>\n",
       "      <td>SEXF</td>\n",
       "      <td>2019</td>\n",
       "    </tr>\n",
       "    <tr>\n",
       "      <th>7</th>\n",
       "      <td>7</td>\n",
       "      <td>13600</td>\n",
       "      <td>AK</td>\n",
       "      <td>BRFSS</td>\n",
       "      <td>%</td>\n",
       "      <td>8.5</td>\n",
       "      <td>8.5</td>\n",
       "      <td>7.1</td>\n",
       "      <td>10.1</td>\n",
       "      <td>DIA</td>\n",
       "      <td>DIA01</td>\n",
       "      <td>CRDPREV</td>\n",
       "      <td>RACE</td>\n",
       "      <td>WHT</td>\n",
       "      <td>2019</td>\n",
       "    </tr>\n",
       "    <tr>\n",
       "      <th>8</th>\n",
       "      <td>8</td>\n",
       "      <td>13641</td>\n",
       "      <td>AR</td>\n",
       "      <td>NVSS</td>\n",
       "      <td>Number</td>\n",
       "      <td>43.0</td>\n",
       "      <td>43.0</td>\n",
       "      <td>NaN</td>\n",
       "      <td>NaN</td>\n",
       "      <td>DIA</td>\n",
       "      <td>DIA03</td>\n",
       "      <td>NMBR</td>\n",
       "      <td>RACE</td>\n",
       "      <td>HIS</td>\n",
       "      <td>2019</td>\n",
       "    </tr>\n",
       "    <tr>\n",
       "      <th>9</th>\n",
       "      <td>9</td>\n",
       "      <td>13802</td>\n",
       "      <td>AR</td>\n",
       "      <td>BRFSS</td>\n",
       "      <td>%</td>\n",
       "      <td>25.3</td>\n",
       "      <td>25.3</td>\n",
       "      <td>23.1</td>\n",
       "      <td>27.5</td>\n",
       "      <td>DIA</td>\n",
       "      <td>DIA01</td>\n",
       "      <td>CRDPREV</td>\n",
       "      <td>AGE</td>\n",
       "      <td>AGE65P</td>\n",
       "      <td>2019</td>\n",
       "    </tr>\n",
       "    <tr>\n",
       "      <th>10</th>\n",
       "      <td>10</td>\n",
       "      <td>13891</td>\n",
       "      <td>AR</td>\n",
       "      <td>PRAMS</td>\n",
       "      <td>%</td>\n",
       "      <td>9.2</td>\n",
       "      <td>9.2</td>\n",
       "      <td>6.1</td>\n",
       "      <td>13.7</td>\n",
       "      <td>DIA</td>\n",
       "      <td>DIA02</td>\n",
       "      <td>CRDPREV</td>\n",
       "      <td>RACE</td>\n",
       "      <td>WHT</td>\n",
       "      <td>2019</td>\n",
       "    </tr>\n",
       "    <tr>\n",
       "      <th>11</th>\n",
       "      <td>11</td>\n",
       "      <td>13903</td>\n",
       "      <td>AZ</td>\n",
       "      <td>NVSS</td>\n",
       "      <td>cases per 100,000</td>\n",
       "      <td>2.9</td>\n",
       "      <td>2.9</td>\n",
       "      <td>2.1</td>\n",
       "      <td>3.8</td>\n",
       "      <td>DIA</td>\n",
       "      <td>DIA04</td>\n",
       "      <td>CRDRATE</td>\n",
       "      <td>AGE</td>\n",
       "      <td>AGE4564</td>\n",
       "      <td>2019</td>\n",
       "    </tr>\n",
       "    <tr>\n",
       "      <th>12</th>\n",
       "      <td>12</td>\n",
       "      <td>13926</td>\n",
       "      <td>AL</td>\n",
       "      <td>BRFSS</td>\n",
       "      <td>%</td>\n",
       "      <td>15.3</td>\n",
       "      <td>15.3</td>\n",
       "      <td>8.4</td>\n",
       "      <td>26.1</td>\n",
       "      <td>DIA</td>\n",
       "      <td>DIA01</td>\n",
       "      <td>CRDPREV</td>\n",
       "      <td>RACE</td>\n",
       "      <td>AIAN</td>\n",
       "      <td>2019</td>\n",
       "    </tr>\n",
       "    <tr>\n",
       "      <th>13</th>\n",
       "      <td>13</td>\n",
       "      <td>13948</td>\n",
       "      <td>AR</td>\n",
       "      <td>NVSS</td>\n",
       "      <td>cases per 100,000</td>\n",
       "      <td>89.2</td>\n",
       "      <td>89.2</td>\n",
       "      <td>84.5</td>\n",
       "      <td>94.0</td>\n",
       "      <td>DIA</td>\n",
       "      <td>DIA03</td>\n",
       "      <td>CRDRATE</td>\n",
       "      <td>SEX</td>\n",
       "      <td>SEXF</td>\n",
       "      <td>2019</td>\n",
       "    </tr>\n",
       "    <tr>\n",
       "      <th>14</th>\n",
       "      <td>14</td>\n",
       "      <td>13951</td>\n",
       "      <td>AZ</td>\n",
       "      <td>BRFSS</td>\n",
       "      <td>%</td>\n",
       "      <td>22.7</td>\n",
       "      <td>22.7</td>\n",
       "      <td>17.2</td>\n",
       "      <td>29.2</td>\n",
       "      <td>DIA</td>\n",
       "      <td>DIA01</td>\n",
       "      <td>AGEADJPREV</td>\n",
       "      <td>RACE</td>\n",
       "      <td>AIAN</td>\n",
       "      <td>2019</td>\n",
       "    </tr>\n",
       "    <tr>\n",
       "      <th>15</th>\n",
       "      <td>15</td>\n",
       "      <td>13962</td>\n",
       "      <td>AR</td>\n",
       "      <td>BRFSS</td>\n",
       "      <td>%</td>\n",
       "      <td>12.1</td>\n",
       "      <td>12.1</td>\n",
       "      <td>10.7</td>\n",
       "      <td>13.7</td>\n",
       "      <td>DIA</td>\n",
       "      <td>DIA01</td>\n",
       "      <td>AGEADJPREV</td>\n",
       "      <td>SEX</td>\n",
       "      <td>SEXF</td>\n",
       "      <td>2019</td>\n",
       "    </tr>\n",
       "    <tr>\n",
       "      <th>16</th>\n",
       "      <td>16</td>\n",
       "      <td>14088</td>\n",
       "      <td>AK</td>\n",
       "      <td>NVSS</td>\n",
       "      <td>Number</td>\n",
       "      <td>192.0</td>\n",
       "      <td>192.0</td>\n",
       "      <td>NaN</td>\n",
       "      <td>NaN</td>\n",
       "      <td>DIA</td>\n",
       "      <td>DIA03</td>\n",
       "      <td>NMBR</td>\n",
       "      <td>RACE</td>\n",
       "      <td>WHT</td>\n",
       "      <td>2019</td>\n",
       "    </tr>\n",
       "    <tr>\n",
       "      <th>17</th>\n",
       "      <td>17</td>\n",
       "      <td>14098</td>\n",
       "      <td>AZ</td>\n",
       "      <td>NVSS</td>\n",
       "      <td>cases per 100,000</td>\n",
       "      <td>1.6</td>\n",
       "      <td>1.6</td>\n",
       "      <td>1.3</td>\n",
       "      <td>2.1</td>\n",
       "      <td>DIA</td>\n",
       "      <td>DIA04</td>\n",
       "      <td>CRDRATE</td>\n",
       "      <td>RACE</td>\n",
       "      <td>WHT</td>\n",
       "      <td>2019</td>\n",
       "    </tr>\n",
       "    <tr>\n",
       "      <th>18</th>\n",
       "      <td>18</td>\n",
       "      <td>14112</td>\n",
       "      <td>AL</td>\n",
       "      <td>NVSS</td>\n",
       "      <td>cases per 100,000</td>\n",
       "      <td>2.1</td>\n",
       "      <td>2.1</td>\n",
       "      <td>1.5</td>\n",
       "      <td>2.7</td>\n",
       "      <td>DIA</td>\n",
       "      <td>DIA04</td>\n",
       "      <td>CRDRATE</td>\n",
       "      <td>SEX</td>\n",
       "      <td>SEXF</td>\n",
       "      <td>2019</td>\n",
       "    </tr>\n",
       "    <tr>\n",
       "      <th>19</th>\n",
       "      <td>19</td>\n",
       "      <td>14196</td>\n",
       "      <td>AR</td>\n",
       "      <td>NVSS</td>\n",
       "      <td>cases per 100,000</td>\n",
       "      <td>1.8</td>\n",
       "      <td>1.8</td>\n",
       "      <td>1.2</td>\n",
       "      <td>2.7</td>\n",
       "      <td>DIA</td>\n",
       "      <td>DIA04</td>\n",
       "      <td>AGEADJRATE</td>\n",
       "      <td>SEX</td>\n",
       "      <td>SEXM</td>\n",
       "      <td>2019</td>\n",
       "    </tr>\n",
       "    <tr>\n",
       "      <th>20</th>\n",
       "      <td>20</td>\n",
       "      <td>14265</td>\n",
       "      <td>AK</td>\n",
       "      <td>BRFSS</td>\n",
       "      <td>%</td>\n",
       "      <td>2.0</td>\n",
       "      <td>2.0</td>\n",
       "      <td>1.2</td>\n",
       "      <td>3.5</td>\n",
       "      <td>DIA</td>\n",
       "      <td>DIA01</td>\n",
       "      <td>CRDPREV</td>\n",
       "      <td>AGE</td>\n",
       "      <td>AGE1844</td>\n",
       "      <td>2019</td>\n",
       "    </tr>\n",
       "    <tr>\n",
       "      <th>21</th>\n",
       "      <td>21</td>\n",
       "      <td>14291</td>\n",
       "      <td>AZ</td>\n",
       "      <td>NVSS</td>\n",
       "      <td>cases per 100,000</td>\n",
       "      <td>34.1</td>\n",
       "      <td>34.1</td>\n",
       "      <td>25.5</td>\n",
       "      <td>44.7</td>\n",
       "      <td>DIA</td>\n",
       "      <td>DIA03</td>\n",
       "      <td>CRDRATE</td>\n",
       "      <td>RACE</td>\n",
       "      <td>MRC</td>\n",
       "      <td>2019</td>\n",
       "    </tr>\n",
       "    <tr>\n",
       "      <th>22</th>\n",
       "      <td>22</td>\n",
       "      <td>14295</td>\n",
       "      <td>AZ</td>\n",
       "      <td>NVSS</td>\n",
       "      <td>cases per 100,000</td>\n",
       "      <td>40.5</td>\n",
       "      <td>40.5</td>\n",
       "      <td>32.6</td>\n",
       "      <td>48.4</td>\n",
       "      <td>DIA</td>\n",
       "      <td>DIA03</td>\n",
       "      <td>CRDRATE</td>\n",
       "      <td>RACE</td>\n",
       "      <td>ASN</td>\n",
       "      <td>2019</td>\n",
       "    </tr>\n",
       "    <tr>\n",
       "      <th>23</th>\n",
       "      <td>23</td>\n",
       "      <td>14424</td>\n",
       "      <td>AK</td>\n",
       "      <td>BRFSS</td>\n",
       "      <td>%</td>\n",
       "      <td>6.6</td>\n",
       "      <td>6.6</td>\n",
       "      <td>5.3</td>\n",
       "      <td>8.2</td>\n",
       "      <td>DIA</td>\n",
       "      <td>DIA01</td>\n",
       "      <td>CRDPREV</td>\n",
       "      <td>SEX</td>\n",
       "      <td>SEXM</td>\n",
       "      <td>2019</td>\n",
       "    </tr>\n",
       "    <tr>\n",
       "      <th>24</th>\n",
       "      <td>24</td>\n",
       "      <td>14458</td>\n",
       "      <td>AK</td>\n",
       "      <td>NVSS</td>\n",
       "      <td>cases per 100,000</td>\n",
       "      <td>39.9</td>\n",
       "      <td>39.9</td>\n",
       "      <td>28.8</td>\n",
       "      <td>53.7</td>\n",
       "      <td>DIA</td>\n",
       "      <td>DIA03</td>\n",
       "      <td>CRDRATE</td>\n",
       "      <td>RACE</td>\n",
       "      <td>AIAN</td>\n",
       "      <td>2019</td>\n",
       "    </tr>\n",
       "    <tr>\n",
       "      <th>25</th>\n",
       "      <td>25</td>\n",
       "      <td>14483</td>\n",
       "      <td>AR</td>\n",
       "      <td>BRFSS</td>\n",
       "      <td>%</td>\n",
       "      <td>18.7</td>\n",
       "      <td>18.7</td>\n",
       "      <td>15.1</td>\n",
       "      <td>22.8</td>\n",
       "      <td>DIA</td>\n",
       "      <td>DIA01</td>\n",
       "      <td>CRDPREV</td>\n",
       "      <td>RACE</td>\n",
       "      <td>BLK</td>\n",
       "      <td>2019</td>\n",
       "    </tr>\n",
       "    <tr>\n",
       "      <th>26</th>\n",
       "      <td>26</td>\n",
       "      <td>14492</td>\n",
       "      <td>AZ</td>\n",
       "      <td>NVSS</td>\n",
       "      <td>cases per 100,000</td>\n",
       "      <td>59.4</td>\n",
       "      <td>59.4</td>\n",
       "      <td>57.8</td>\n",
       "      <td>61.0</td>\n",
       "      <td>DIA</td>\n",
       "      <td>DIA03</td>\n",
       "      <td>AGEADJRATE</td>\n",
       "      <td>OVERALL</td>\n",
       "      <td>OVR</td>\n",
       "      <td>2019</td>\n",
       "    </tr>\n",
       "    <tr>\n",
       "      <th>27</th>\n",
       "      <td>27</td>\n",
       "      <td>14553</td>\n",
       "      <td>AZ</td>\n",
       "      <td>NVSS</td>\n",
       "      <td>Number</td>\n",
       "      <td>1256.0</td>\n",
       "      <td>1256.0</td>\n",
       "      <td>NaN</td>\n",
       "      <td>NaN</td>\n",
       "      <td>DIA</td>\n",
       "      <td>DIA03</td>\n",
       "      <td>NMBR</td>\n",
       "      <td>AGE</td>\n",
       "      <td>AGE4564</td>\n",
       "      <td>2019</td>\n",
       "    </tr>\n",
       "    <tr>\n",
       "      <th>28</th>\n",
       "      <td>28</td>\n",
       "      <td>14612</td>\n",
       "      <td>AR</td>\n",
       "      <td>NVSS</td>\n",
       "      <td>Number</td>\n",
       "      <td>56.0</td>\n",
       "      <td>56.0</td>\n",
       "      <td>NaN</td>\n",
       "      <td>NaN</td>\n",
       "      <td>DIA</td>\n",
       "      <td>DIA04</td>\n",
       "      <td>NMBR</td>\n",
       "      <td>OVERALL</td>\n",
       "      <td>OVR</td>\n",
       "      <td>2019</td>\n",
       "    </tr>\n",
       "    <tr>\n",
       "      <th>29</th>\n",
       "      <td>29</td>\n",
       "      <td>14752</td>\n",
       "      <td>AZ</td>\n",
       "      <td>BRFSS</td>\n",
       "      <td>%</td>\n",
       "      <td>11.4</td>\n",
       "      <td>11.4</td>\n",
       "      <td>10.0</td>\n",
       "      <td>13.0</td>\n",
       "      <td>DIA</td>\n",
       "      <td>DIA01</td>\n",
       "      <td>CRDPREV</td>\n",
       "      <td>SEX</td>\n",
       "      <td>SEXM</td>\n",
       "      <td>2019</td>\n",
       "    </tr>\n",
       "  </tbody>\n",
       "</table>\n",
       "</div>"
      ],
      "text/plain": [
       "    Unnamed: 0.1  Unnamed: 0 LocationAbbr DataSource      DataValueUnit  \\\n",
       "0              0           3           ME      BRFSS                  %   \n",
       "1              1           9           AL      BRFSS                  %   \n",
       "2              2          21           VT      BRFSS                  %   \n",
       "3              3          22           VI      BRFSS                  %   \n",
       "4              4          29           MA      BRFSS                  %   \n",
       "5              5          35           KY      BRFSS                  %   \n",
       "6              6        4404           CA      BRFSS                  %   \n",
       "7              7       13600           AK      BRFSS                  %   \n",
       "8              8       13641           AR       NVSS             Number   \n",
       "9              9       13802           AR      BRFSS                  %   \n",
       "10            10       13891           AR      PRAMS                  %   \n",
       "11            11       13903           AZ       NVSS  cases per 100,000   \n",
       "12            12       13926           AL      BRFSS                  %   \n",
       "13            13       13948           AR       NVSS  cases per 100,000   \n",
       "14            14       13951           AZ      BRFSS                  %   \n",
       "15            15       13962           AR      BRFSS                  %   \n",
       "16            16       14088           AK       NVSS             Number   \n",
       "17            17       14098           AZ       NVSS  cases per 100,000   \n",
       "18            18       14112           AL       NVSS  cases per 100,000   \n",
       "19            19       14196           AR       NVSS  cases per 100,000   \n",
       "20            20       14265           AK      BRFSS                  %   \n",
       "21            21       14291           AZ       NVSS  cases per 100,000   \n",
       "22            22       14295           AZ       NVSS  cases per 100,000   \n",
       "23            23       14424           AK      BRFSS                  %   \n",
       "24            24       14458           AK       NVSS  cases per 100,000   \n",
       "25            25       14483           AR      BRFSS                  %   \n",
       "26            26       14492           AZ       NVSS  cases per 100,000   \n",
       "27            27       14553           AZ       NVSS             Number   \n",
       "28            28       14612           AR       NVSS             Number   \n",
       "29            29       14752           AZ      BRFSS                  %   \n",
       "\n",
       "    DataValue  DataValueAlt  LowConfidenceLimit  HighConfidenceLimit TopicID  \\\n",
       "0        11.4          11.4                10.2                 12.7     DIA   \n",
       "1         5.0           5.0                 3.6                  6.8     DIA   \n",
       "2         9.3           9.3                 8.0                 10.8     DIA   \n",
       "3        12.0          12.0                 7.7                 18.2     DIA   \n",
       "4         9.2           9.2                 8.0                 10.6     DIA   \n",
       "5        15.1          15.1                13.2                 17.3     DIA   \n",
       "6         9.7           9.7                 8.8                 10.7     DIA   \n",
       "7         8.5           8.5                 7.1                 10.1     DIA   \n",
       "8        43.0          43.0                 NaN                  NaN     DIA   \n",
       "9        25.3          25.3                23.1                 27.5     DIA   \n",
       "10        9.2           9.2                 6.1                 13.7     DIA   \n",
       "11        2.9           2.9                 2.1                  3.8     DIA   \n",
       "12       15.3          15.3                 8.4                 26.1     DIA   \n",
       "13       89.2          89.2                84.5                 94.0     DIA   \n",
       "14       22.7          22.7                17.2                 29.2     DIA   \n",
       "15       12.1          12.1                10.7                 13.7     DIA   \n",
       "16      192.0         192.0                 NaN                  NaN     DIA   \n",
       "17        1.6           1.6                 1.3                  2.1     DIA   \n",
       "18        2.1           2.1                 1.5                  2.7     DIA   \n",
       "19        1.8           1.8                 1.2                  2.7     DIA   \n",
       "20        2.0           2.0                 1.2                  3.5     DIA   \n",
       "21       34.1          34.1                25.5                 44.7     DIA   \n",
       "22       40.5          40.5                32.6                 48.4     DIA   \n",
       "23        6.6           6.6                 5.3                  8.2     DIA   \n",
       "24       39.9          39.9                28.8                 53.7     DIA   \n",
       "25       18.7          18.7                15.1                 22.8     DIA   \n",
       "26       59.4          59.4                57.8                 61.0     DIA   \n",
       "27     1256.0        1256.0                 NaN                  NaN     DIA   \n",
       "28       56.0          56.0                 NaN                  NaN     DIA   \n",
       "29       11.4          11.4                10.0                 13.0     DIA   \n",
       "\n",
       "   QuestionID DataValueTypeID StratificationCategoryID1 StratificationID1  \\\n",
       "0       DIA01         CRDPREV                       SEX              SEXM   \n",
       "1       DIA01         CRDPREV                       AGE           AGE1844   \n",
       "2       DIA01         CRDPREV                       SEX              SEXM   \n",
       "3       DIA01         CRDPREV                       SEX              SEXM   \n",
       "4       DIA01         CRDPREV                       SEX              SEXM   \n",
       "5       DIA01         CRDPREV                       SEX              SEXF   \n",
       "6       DIA01         CRDPREV                       SEX              SEXF   \n",
       "7       DIA01         CRDPREV                      RACE               WHT   \n",
       "8       DIA03            NMBR                      RACE               HIS   \n",
       "9       DIA01         CRDPREV                       AGE            AGE65P   \n",
       "10      DIA02         CRDPREV                      RACE               WHT   \n",
       "11      DIA04         CRDRATE                       AGE           AGE4564   \n",
       "12      DIA01         CRDPREV                      RACE              AIAN   \n",
       "13      DIA03         CRDRATE                       SEX              SEXF   \n",
       "14      DIA01      AGEADJPREV                      RACE              AIAN   \n",
       "15      DIA01      AGEADJPREV                       SEX              SEXF   \n",
       "16      DIA03            NMBR                      RACE               WHT   \n",
       "17      DIA04         CRDRATE                      RACE               WHT   \n",
       "18      DIA04         CRDRATE                       SEX              SEXF   \n",
       "19      DIA04      AGEADJRATE                       SEX              SEXM   \n",
       "20      DIA01         CRDPREV                       AGE           AGE1844   \n",
       "21      DIA03         CRDRATE                      RACE               MRC   \n",
       "22      DIA03         CRDRATE                      RACE               ASN   \n",
       "23      DIA01         CRDPREV                       SEX              SEXM   \n",
       "24      DIA03         CRDRATE                      RACE              AIAN   \n",
       "25      DIA01         CRDPREV                      RACE               BLK   \n",
       "26      DIA03      AGEADJRATE                   OVERALL               OVR   \n",
       "27      DIA03            NMBR                       AGE           AGE4564   \n",
       "28      DIA04            NMBR                   OVERALL               OVR   \n",
       "29      DIA01         CRDPREV                       SEX              SEXM   \n",
       "\n",
       "    Year  \n",
       "0   2019  \n",
       "1   2020  \n",
       "2   2020  \n",
       "3   2020  \n",
       "4   2021  \n",
       "5   2022  \n",
       "6   2019  \n",
       "7   2019  \n",
       "8   2019  \n",
       "9   2019  \n",
       "10  2019  \n",
       "11  2019  \n",
       "12  2019  \n",
       "13  2019  \n",
       "14  2019  \n",
       "15  2019  \n",
       "16  2019  \n",
       "17  2019  \n",
       "18  2019  \n",
       "19  2019  \n",
       "20  2019  \n",
       "21  2019  \n",
       "22  2019  \n",
       "23  2019  \n",
       "24  2019  \n",
       "25  2019  \n",
       "26  2019  \n",
       "27  2019  \n",
       "28  2019  \n",
       "29  2019  "
      ]
     },
     "execution_count": 21,
     "metadata": {},
     "output_type": "execute_result"
    }
   ],
   "source": [
    "diabetes_data = pd.read_csv(\"diabetes_data.csv\")\n",
    "#diabetes_data.iloc[:30]"
   ]
  },
  {
   "cell_type": "code",
   "execution_count": 30,
   "id": "565615aa",
   "metadata": {},
   "outputs": [
    {
     "data": {
      "text/html": [
       "<div>\n",
       "<style scoped>\n",
       "    .dataframe tbody tr th:only-of-type {\n",
       "        vertical-align: middle;\n",
       "    }\n",
       "\n",
       "    .dataframe tbody tr th {\n",
       "        vertical-align: top;\n",
       "    }\n",
       "\n",
       "    .dataframe thead th {\n",
       "        text-align: right;\n",
       "    }\n",
       "</style>\n",
       "<table border=\"1\" class=\"dataframe\">\n",
       "  <thead>\n",
       "    <tr style=\"text-align: right;\">\n",
       "      <th></th>\n",
       "      <th>Unnamed: 0.1</th>\n",
       "      <th>Unnamed: 0</th>\n",
       "      <th>LocationAbbr</th>\n",
       "      <th>DataSource</th>\n",
       "      <th>DataValueUnit</th>\n",
       "      <th>DataValue</th>\n",
       "      <th>DataValueAlt</th>\n",
       "      <th>LowConfidenceLimit</th>\n",
       "      <th>HighConfidenceLimit</th>\n",
       "      <th>TopicID</th>\n",
       "      <th>QuestionID</th>\n",
       "      <th>DataValueTypeID</th>\n",
       "      <th>StratificationCategoryID1</th>\n",
       "      <th>StratificationID1</th>\n",
       "      <th>Year</th>\n",
       "    </tr>\n",
       "  </thead>\n",
       "  <tbody>\n",
       "    <tr>\n",
       "      <th>18</th>\n",
       "      <td>18</td>\n",
       "      <td>14112</td>\n",
       "      <td>AL</td>\n",
       "      <td>NVSS</td>\n",
       "      <td>cases per 100,000</td>\n",
       "      <td>2.1</td>\n",
       "      <td>2.1</td>\n",
       "      <td>1.5</td>\n",
       "      <td>2.7</td>\n",
       "      <td>DIA</td>\n",
       "      <td>DIA04</td>\n",
       "      <td>CRDRATE</td>\n",
       "      <td>SEX</td>\n",
       "      <td>SEXF</td>\n",
       "      <td>2019</td>\n",
       "    </tr>\n",
       "    <tr>\n",
       "      <th>137</th>\n",
       "      <td>137</td>\n",
       "      <td>21129</td>\n",
       "      <td>AR</td>\n",
       "      <td>NVSS</td>\n",
       "      <td>cases per 100,000</td>\n",
       "      <td>1.8</td>\n",
       "      <td>1.8</td>\n",
       "      <td>1.2</td>\n",
       "      <td>2.6</td>\n",
       "      <td>DIA</td>\n",
       "      <td>DIA04</td>\n",
       "      <td>CRDRATE</td>\n",
       "      <td>SEX</td>\n",
       "      <td>SEXF</td>\n",
       "      <td>2019</td>\n",
       "    </tr>\n",
       "    <tr>\n",
       "      <th>157</th>\n",
       "      <td>157</td>\n",
       "      <td>21962</td>\n",
       "      <td>AZ</td>\n",
       "      <td>NVSS</td>\n",
       "      <td>cases per 100,000</td>\n",
       "      <td>1.1</td>\n",
       "      <td>1.1</td>\n",
       "      <td>0.8</td>\n",
       "      <td>1.6</td>\n",
       "      <td>DIA</td>\n",
       "      <td>DIA04</td>\n",
       "      <td>CRDRATE</td>\n",
       "      <td>SEX</td>\n",
       "      <td>SEXF</td>\n",
       "      <td>2019</td>\n",
       "    </tr>\n",
       "    <tr>\n",
       "      <th>180</th>\n",
       "      <td>180</td>\n",
       "      <td>23334</td>\n",
       "      <td>AR</td>\n",
       "      <td>NVSS</td>\n",
       "      <td>cases per 100,000</td>\n",
       "      <td>2.0</td>\n",
       "      <td>2.0</td>\n",
       "      <td>1.3</td>\n",
       "      <td>2.8</td>\n",
       "      <td>DIA</td>\n",
       "      <td>DIA04</td>\n",
       "      <td>CRDRATE</td>\n",
       "      <td>SEX</td>\n",
       "      <td>SEXM</td>\n",
       "      <td>2019</td>\n",
       "    </tr>\n",
       "    <tr>\n",
       "      <th>207</th>\n",
       "      <td>207</td>\n",
       "      <td>24822</td>\n",
       "      <td>AL</td>\n",
       "      <td>NVSS</td>\n",
       "      <td>cases per 100,000</td>\n",
       "      <td>2.7</td>\n",
       "      <td>2.7</td>\n",
       "      <td>2.0</td>\n",
       "      <td>3.4</td>\n",
       "      <td>DIA</td>\n",
       "      <td>DIA04</td>\n",
       "      <td>CRDRATE</td>\n",
       "      <td>SEX</td>\n",
       "      <td>SEXM</td>\n",
       "      <td>2019</td>\n",
       "    </tr>\n",
       "    <tr>\n",
       "      <th>231</th>\n",
       "      <td>231</td>\n",
       "      <td>26190</td>\n",
       "      <td>AZ</td>\n",
       "      <td>NVSS</td>\n",
       "      <td>cases per 100,000</td>\n",
       "      <td>1.6</td>\n",
       "      <td>1.6</td>\n",
       "      <td>1.2</td>\n",
       "      <td>2.1</td>\n",
       "      <td>DIA</td>\n",
       "      <td>DIA04</td>\n",
       "      <td>CRDRATE</td>\n",
       "      <td>SEX</td>\n",
       "      <td>SEXM</td>\n",
       "      <td>2019</td>\n",
       "    </tr>\n",
       "    <tr>\n",
       "      <th>282</th>\n",
       "      <td>282</td>\n",
       "      <td>28000</td>\n",
       "      <td>GA</td>\n",
       "      <td>NVSS</td>\n",
       "      <td>cases per 100,000</td>\n",
       "      <td>1.2</td>\n",
       "      <td>1.2</td>\n",
       "      <td>0.9</td>\n",
       "      <td>1.5</td>\n",
       "      <td>DIA</td>\n",
       "      <td>DIA04</td>\n",
       "      <td>CRDRATE</td>\n",
       "      <td>SEX</td>\n",
       "      <td>SEXF</td>\n",
       "      <td>2019</td>\n",
       "    </tr>\n",
       "    <tr>\n",
       "      <th>333</th>\n",
       "      <td>333</td>\n",
       "      <td>29128</td>\n",
       "      <td>CO</td>\n",
       "      <td>NVSS</td>\n",
       "      <td>cases per 100,000</td>\n",
       "      <td>1.7</td>\n",
       "      <td>1.7</td>\n",
       "      <td>1.2</td>\n",
       "      <td>2.2</td>\n",
       "      <td>DIA</td>\n",
       "      <td>DIA04</td>\n",
       "      <td>CRDRATE</td>\n",
       "      <td>SEX</td>\n",
       "      <td>SEXM</td>\n",
       "      <td>2019</td>\n",
       "    </tr>\n",
       "    <tr>\n",
       "      <th>497</th>\n",
       "      <td>497</td>\n",
       "      <td>34076</td>\n",
       "      <td>FL</td>\n",
       "      <td>NVSS</td>\n",
       "      <td>cases per 100,000</td>\n",
       "      <td>0.9</td>\n",
       "      <td>0.9</td>\n",
       "      <td>0.7</td>\n",
       "      <td>1.1</td>\n",
       "      <td>DIA</td>\n",
       "      <td>DIA04</td>\n",
       "      <td>CRDRATE</td>\n",
       "      <td>SEX</td>\n",
       "      <td>SEXF</td>\n",
       "      <td>2019</td>\n",
       "    </tr>\n",
       "    <tr>\n",
       "      <th>531</th>\n",
       "      <td>531</td>\n",
       "      <td>35041</td>\n",
       "      <td>CA</td>\n",
       "      <td>NVSS</td>\n",
       "      <td>cases per 100,000</td>\n",
       "      <td>1.6</td>\n",
       "      <td>1.6</td>\n",
       "      <td>1.4</td>\n",
       "      <td>1.8</td>\n",
       "      <td>DIA</td>\n",
       "      <td>DIA04</td>\n",
       "      <td>CRDRATE</td>\n",
       "      <td>SEX</td>\n",
       "      <td>SEXM</td>\n",
       "      <td>2019</td>\n",
       "    </tr>\n",
       "    <tr>\n",
       "      <th>570</th>\n",
       "      <td>570</td>\n",
       "      <td>36185</td>\n",
       "      <td>GA</td>\n",
       "      <td>NVSS</td>\n",
       "      <td>cases per 100,000</td>\n",
       "      <td>1.6</td>\n",
       "      <td>1.6</td>\n",
       "      <td>1.3</td>\n",
       "      <td>2.0</td>\n",
       "      <td>DIA</td>\n",
       "      <td>DIA04</td>\n",
       "      <td>CRDRATE</td>\n",
       "      <td>SEX</td>\n",
       "      <td>SEXM</td>\n",
       "      <td>2019</td>\n",
       "    </tr>\n",
       "    <tr>\n",
       "      <th>589</th>\n",
       "      <td>589</td>\n",
       "      <td>36713</td>\n",
       "      <td>CT</td>\n",
       "      <td>NVSS</td>\n",
       "      <td>cases per 100,000</td>\n",
       "      <td>1.6</td>\n",
       "      <td>1.6</td>\n",
       "      <td>1.1</td>\n",
       "      <td>2.3</td>\n",
       "      <td>DIA</td>\n",
       "      <td>DIA04</td>\n",
       "      <td>CRDRATE</td>\n",
       "      <td>SEX</td>\n",
       "      <td>SEXM</td>\n",
       "      <td>2019</td>\n",
       "    </tr>\n",
       "    <tr>\n",
       "      <th>626</th>\n",
       "      <td>626</td>\n",
       "      <td>38065</td>\n",
       "      <td>CO</td>\n",
       "      <td>NVSS</td>\n",
       "      <td>cases per 100,000</td>\n",
       "      <td>1.3</td>\n",
       "      <td>1.3</td>\n",
       "      <td>0.9</td>\n",
       "      <td>1.8</td>\n",
       "      <td>DIA</td>\n",
       "      <td>DIA04</td>\n",
       "      <td>CRDRATE</td>\n",
       "      <td>SEX</td>\n",
       "      <td>SEXF</td>\n",
       "      <td>2019</td>\n",
       "    </tr>\n",
       "    <tr>\n",
       "      <th>628</th>\n",
       "      <td>628</td>\n",
       "      <td>38078</td>\n",
       "      <td>FL</td>\n",
       "      <td>NVSS</td>\n",
       "      <td>cases per 100,000</td>\n",
       "      <td>1.6</td>\n",
       "      <td>1.6</td>\n",
       "      <td>1.4</td>\n",
       "      <td>1.9</td>\n",
       "      <td>DIA</td>\n",
       "      <td>DIA04</td>\n",
       "      <td>CRDRATE</td>\n",
       "      <td>SEX</td>\n",
       "      <td>SEXM</td>\n",
       "      <td>2019</td>\n",
       "    </tr>\n",
       "    <tr>\n",
       "      <th>656</th>\n",
       "      <td>656</td>\n",
       "      <td>38692</td>\n",
       "      <td>CA</td>\n",
       "      <td>NVSS</td>\n",
       "      <td>cases per 100,000</td>\n",
       "      <td>1.3</td>\n",
       "      <td>1.3</td>\n",
       "      <td>1.2</td>\n",
       "      <td>1.5</td>\n",
       "      <td>DIA</td>\n",
       "      <td>DIA04</td>\n",
       "      <td>CRDRATE</td>\n",
       "      <td>SEX</td>\n",
       "      <td>SEXF</td>\n",
       "      <td>2019</td>\n",
       "    </tr>\n",
       "    <tr>\n",
       "      <th>690</th>\n",
       "      <td>690</td>\n",
       "      <td>39830</td>\n",
       "      <td>KY</td>\n",
       "      <td>NVSS</td>\n",
       "      <td>cases per 100,000</td>\n",
       "      <td>3.7</td>\n",
       "      <td>3.7</td>\n",
       "      <td>2.9</td>\n",
       "      <td>4.5</td>\n",
       "      <td>DIA</td>\n",
       "      <td>DIA04</td>\n",
       "      <td>CRDRATE</td>\n",
       "      <td>SEX</td>\n",
       "      <td>SEXF</td>\n",
       "      <td>2019</td>\n",
       "    </tr>\n",
       "    <tr>\n",
       "      <th>737</th>\n",
       "      <td>737</td>\n",
       "      <td>40942</td>\n",
       "      <td>KY</td>\n",
       "      <td>NVSS</td>\n",
       "      <td>cases per 100,000</td>\n",
       "      <td>3.2</td>\n",
       "      <td>3.2</td>\n",
       "      <td>2.5</td>\n",
       "      <td>4.1</td>\n",
       "      <td>DIA</td>\n",
       "      <td>DIA04</td>\n",
       "      <td>CRDRATE</td>\n",
       "      <td>SEX</td>\n",
       "      <td>SEXM</td>\n",
       "      <td>2019</td>\n",
       "    </tr>\n",
       "    <tr>\n",
       "      <th>827</th>\n",
       "      <td>827</td>\n",
       "      <td>43734</td>\n",
       "      <td>IN</td>\n",
       "      <td>NVSS</td>\n",
       "      <td>cases per 100,000</td>\n",
       "      <td>2.6</td>\n",
       "      <td>2.6</td>\n",
       "      <td>2.1</td>\n",
       "      <td>3.2</td>\n",
       "      <td>DIA</td>\n",
       "      <td>DIA04</td>\n",
       "      <td>CRDRATE</td>\n",
       "      <td>SEX</td>\n",
       "      <td>SEXM</td>\n",
       "      <td>2019</td>\n",
       "    </tr>\n",
       "    <tr>\n",
       "      <th>856</th>\n",
       "      <td>856</td>\n",
       "      <td>44403</td>\n",
       "      <td>IL</td>\n",
       "      <td>NVSS</td>\n",
       "      <td>cases per 100,000</td>\n",
       "      <td>1.0</td>\n",
       "      <td>1.0</td>\n",
       "      <td>0.8</td>\n",
       "      <td>1.3</td>\n",
       "      <td>DIA</td>\n",
       "      <td>DIA04</td>\n",
       "      <td>CRDRATE</td>\n",
       "      <td>SEX</td>\n",
       "      <td>SEXF</td>\n",
       "      <td>2019</td>\n",
       "    </tr>\n",
       "    <tr>\n",
       "      <th>859</th>\n",
       "      <td>859</td>\n",
       "      <td>44471</td>\n",
       "      <td>LA</td>\n",
       "      <td>NVSS</td>\n",
       "      <td>cases per 100,000</td>\n",
       "      <td>1.9</td>\n",
       "      <td>1.9</td>\n",
       "      <td>1.4</td>\n",
       "      <td>2.6</td>\n",
       "      <td>DIA</td>\n",
       "      <td>DIA04</td>\n",
       "      <td>CRDRATE</td>\n",
       "      <td>SEX</td>\n",
       "      <td>SEXM</td>\n",
       "      <td>2019</td>\n",
       "    </tr>\n",
       "    <tr>\n",
       "      <th>862</th>\n",
       "      <td>862</td>\n",
       "      <td>44651</td>\n",
       "      <td>IA</td>\n",
       "      <td>NVSS</td>\n",
       "      <td>cases per 100,000</td>\n",
       "      <td>1.3</td>\n",
       "      <td>1.3</td>\n",
       "      <td>0.8</td>\n",
       "      <td>2.0</td>\n",
       "      <td>DIA</td>\n",
       "      <td>DIA04</td>\n",
       "      <td>CRDRATE</td>\n",
       "      <td>SEX</td>\n",
       "      <td>SEXM</td>\n",
       "      <td>2019</td>\n",
       "    </tr>\n",
       "    <tr>\n",
       "      <th>993</th>\n",
       "      <td>993</td>\n",
       "      <td>48348</td>\n",
       "      <td>KS</td>\n",
       "      <td>NVSS</td>\n",
       "      <td>cases per 100,000</td>\n",
       "      <td>2.2</td>\n",
       "      <td>2.2</td>\n",
       "      <td>1.5</td>\n",
       "      <td>3.1</td>\n",
       "      <td>DIA</td>\n",
       "      <td>DIA04</td>\n",
       "      <td>CRDRATE</td>\n",
       "      <td>SEX</td>\n",
       "      <td>SEXM</td>\n",
       "      <td>2019</td>\n",
       "    </tr>\n",
       "    <tr>\n",
       "      <th>995</th>\n",
       "      <td>995</td>\n",
       "      <td>48411</td>\n",
       "      <td>LA</td>\n",
       "      <td>NVSS</td>\n",
       "      <td>cases per 100,000</td>\n",
       "      <td>1.3</td>\n",
       "      <td>1.3</td>\n",
       "      <td>0.9</td>\n",
       "      <td>1.8</td>\n",
       "      <td>DIA</td>\n",
       "      <td>DIA04</td>\n",
       "      <td>CRDRATE</td>\n",
       "      <td>SEX</td>\n",
       "      <td>SEXF</td>\n",
       "      <td>2019</td>\n",
       "    </tr>\n",
       "    <tr>\n",
       "      <th>1058</th>\n",
       "      <td>1058</td>\n",
       "      <td>49801</td>\n",
       "      <td>IN</td>\n",
       "      <td>NVSS</td>\n",
       "      <td>cases per 100,000</td>\n",
       "      <td>2.3</td>\n",
       "      <td>2.3</td>\n",
       "      <td>1.8</td>\n",
       "      <td>2.9</td>\n",
       "      <td>DIA</td>\n",
       "      <td>DIA04</td>\n",
       "      <td>CRDRATE</td>\n",
       "      <td>SEX</td>\n",
       "      <td>SEXF</td>\n",
       "      <td>2019</td>\n",
       "    </tr>\n",
       "    <tr>\n",
       "      <th>1116</th>\n",
       "      <td>1116</td>\n",
       "      <td>51381</td>\n",
       "      <td>IL</td>\n",
       "      <td>NVSS</td>\n",
       "      <td>cases per 100,000</td>\n",
       "      <td>1.7</td>\n",
       "      <td>1.7</td>\n",
       "      <td>1.3</td>\n",
       "      <td>2.0</td>\n",
       "      <td>DIA</td>\n",
       "      <td>DIA04</td>\n",
       "      <td>CRDRATE</td>\n",
       "      <td>SEX</td>\n",
       "      <td>SEXM</td>\n",
       "      <td>2019</td>\n",
       "    </tr>\n",
       "    <tr>\n",
       "      <th>1210</th>\n",
       "      <td>1210</td>\n",
       "      <td>54029</td>\n",
       "      <td>MS</td>\n",
       "      <td>NVSS</td>\n",
       "      <td>cases per 100,000</td>\n",
       "      <td>2.2</td>\n",
       "      <td>2.2</td>\n",
       "      <td>1.5</td>\n",
       "      <td>3.1</td>\n",
       "      <td>DIA</td>\n",
       "      <td>DIA04</td>\n",
       "      <td>CRDRATE</td>\n",
       "      <td>SEX</td>\n",
       "      <td>SEXM</td>\n",
       "      <td>2019</td>\n",
       "    </tr>\n",
       "    <tr>\n",
       "      <th>1221</th>\n",
       "      <td>1221</td>\n",
       "      <td>54483</td>\n",
       "      <td>MA</td>\n",
       "      <td>NVSS</td>\n",
       "      <td>cases per 100,000</td>\n",
       "      <td>1.5</td>\n",
       "      <td>1.5</td>\n",
       "      <td>1.1</td>\n",
       "      <td>2.0</td>\n",
       "      <td>DIA</td>\n",
       "      <td>DIA04</td>\n",
       "      <td>CRDRATE</td>\n",
       "      <td>SEX</td>\n",
       "      <td>SEXM</td>\n",
       "      <td>2019</td>\n",
       "    </tr>\n",
       "    <tr>\n",
       "      <th>1258</th>\n",
       "      <td>1258</td>\n",
       "      <td>55564</td>\n",
       "      <td>MI</td>\n",
       "      <td>NVSS</td>\n",
       "      <td>cases per 100,000</td>\n",
       "      <td>1.6</td>\n",
       "      <td>1.6</td>\n",
       "      <td>1.2</td>\n",
       "      <td>2.0</td>\n",
       "      <td>DIA</td>\n",
       "      <td>DIA04</td>\n",
       "      <td>CRDRATE</td>\n",
       "      <td>SEX</td>\n",
       "      <td>SEXM</td>\n",
       "      <td>2019</td>\n",
       "    </tr>\n",
       "    <tr>\n",
       "      <th>1347</th>\n",
       "      <td>1347</td>\n",
       "      <td>57858</td>\n",
       "      <td>MN</td>\n",
       "      <td>NVSS</td>\n",
       "      <td>cases per 100,000</td>\n",
       "      <td>2.7</td>\n",
       "      <td>2.7</td>\n",
       "      <td>2.1</td>\n",
       "      <td>3.4</td>\n",
       "      <td>DIA</td>\n",
       "      <td>DIA04</td>\n",
       "      <td>CRDRATE</td>\n",
       "      <td>SEX</td>\n",
       "      <td>SEXM</td>\n",
       "      <td>2019</td>\n",
       "    </tr>\n",
       "    <tr>\n",
       "      <th>1356</th>\n",
       "      <td>1356</td>\n",
       "      <td>58175</td>\n",
       "      <td>MO</td>\n",
       "      <td>NVSS</td>\n",
       "      <td>cases per 100,000</td>\n",
       "      <td>1.5</td>\n",
       "      <td>1.5</td>\n",
       "      <td>1.1</td>\n",
       "      <td>2.0</td>\n",
       "      <td>DIA</td>\n",
       "      <td>DIA04</td>\n",
       "      <td>CRDRATE</td>\n",
       "      <td>SEX</td>\n",
       "      <td>SEXM</td>\n",
       "      <td>2019</td>\n",
       "    </tr>\n",
       "  </tbody>\n",
       "</table>\n",
       "</div>"
      ],
      "text/plain": [
       "      Unnamed: 0.1  Unnamed: 0 LocationAbbr DataSource      DataValueUnit  \\\n",
       "18              18       14112           AL       NVSS  cases per 100,000   \n",
       "137            137       21129           AR       NVSS  cases per 100,000   \n",
       "157            157       21962           AZ       NVSS  cases per 100,000   \n",
       "180            180       23334           AR       NVSS  cases per 100,000   \n",
       "207            207       24822           AL       NVSS  cases per 100,000   \n",
       "231            231       26190           AZ       NVSS  cases per 100,000   \n",
       "282            282       28000           GA       NVSS  cases per 100,000   \n",
       "333            333       29128           CO       NVSS  cases per 100,000   \n",
       "497            497       34076           FL       NVSS  cases per 100,000   \n",
       "531            531       35041           CA       NVSS  cases per 100,000   \n",
       "570            570       36185           GA       NVSS  cases per 100,000   \n",
       "589            589       36713           CT       NVSS  cases per 100,000   \n",
       "626            626       38065           CO       NVSS  cases per 100,000   \n",
       "628            628       38078           FL       NVSS  cases per 100,000   \n",
       "656            656       38692           CA       NVSS  cases per 100,000   \n",
       "690            690       39830           KY       NVSS  cases per 100,000   \n",
       "737            737       40942           KY       NVSS  cases per 100,000   \n",
       "827            827       43734           IN       NVSS  cases per 100,000   \n",
       "856            856       44403           IL       NVSS  cases per 100,000   \n",
       "859            859       44471           LA       NVSS  cases per 100,000   \n",
       "862            862       44651           IA       NVSS  cases per 100,000   \n",
       "993            993       48348           KS       NVSS  cases per 100,000   \n",
       "995            995       48411           LA       NVSS  cases per 100,000   \n",
       "1058          1058       49801           IN       NVSS  cases per 100,000   \n",
       "1116          1116       51381           IL       NVSS  cases per 100,000   \n",
       "1210          1210       54029           MS       NVSS  cases per 100,000   \n",
       "1221          1221       54483           MA       NVSS  cases per 100,000   \n",
       "1258          1258       55564           MI       NVSS  cases per 100,000   \n",
       "1347          1347       57858           MN       NVSS  cases per 100,000   \n",
       "1356          1356       58175           MO       NVSS  cases per 100,000   \n",
       "\n",
       "      DataValue  DataValueAlt  LowConfidenceLimit  HighConfidenceLimit  \\\n",
       "18          2.1           2.1                 1.5                  2.7   \n",
       "137         1.8           1.8                 1.2                  2.6   \n",
       "157         1.1           1.1                 0.8                  1.6   \n",
       "180         2.0           2.0                 1.3                  2.8   \n",
       "207         2.7           2.7                 2.0                  3.4   \n",
       "231         1.6           1.6                 1.2                  2.1   \n",
       "282         1.2           1.2                 0.9                  1.5   \n",
       "333         1.7           1.7                 1.2                  2.2   \n",
       "497         0.9           0.9                 0.7                  1.1   \n",
       "531         1.6           1.6                 1.4                  1.8   \n",
       "570         1.6           1.6                 1.3                  2.0   \n",
       "589         1.6           1.6                 1.1                  2.3   \n",
       "626         1.3           1.3                 0.9                  1.8   \n",
       "628         1.6           1.6                 1.4                  1.9   \n",
       "656         1.3           1.3                 1.2                  1.5   \n",
       "690         3.7           3.7                 2.9                  4.5   \n",
       "737         3.2           3.2                 2.5                  4.1   \n",
       "827         2.6           2.6                 2.1                  3.2   \n",
       "856         1.0           1.0                 0.8                  1.3   \n",
       "859         1.9           1.9                 1.4                  2.6   \n",
       "862         1.3           1.3                 0.8                  2.0   \n",
       "993         2.2           2.2                 1.5                  3.1   \n",
       "995         1.3           1.3                 0.9                  1.8   \n",
       "1058        2.3           2.3                 1.8                  2.9   \n",
       "1116        1.7           1.7                 1.3                  2.0   \n",
       "1210        2.2           2.2                 1.5                  3.1   \n",
       "1221        1.5           1.5                 1.1                  2.0   \n",
       "1258        1.6           1.6                 1.2                  2.0   \n",
       "1347        2.7           2.7                 2.1                  3.4   \n",
       "1356        1.5           1.5                 1.1                  2.0   \n",
       "\n",
       "     TopicID QuestionID DataValueTypeID StratificationCategoryID1  \\\n",
       "18       DIA      DIA04         CRDRATE                       SEX   \n",
       "137      DIA      DIA04         CRDRATE                       SEX   \n",
       "157      DIA      DIA04         CRDRATE                       SEX   \n",
       "180      DIA      DIA04         CRDRATE                       SEX   \n",
       "207      DIA      DIA04         CRDRATE                       SEX   \n",
       "231      DIA      DIA04         CRDRATE                       SEX   \n",
       "282      DIA      DIA04         CRDRATE                       SEX   \n",
       "333      DIA      DIA04         CRDRATE                       SEX   \n",
       "497      DIA      DIA04         CRDRATE                       SEX   \n",
       "531      DIA      DIA04         CRDRATE                       SEX   \n",
       "570      DIA      DIA04         CRDRATE                       SEX   \n",
       "589      DIA      DIA04         CRDRATE                       SEX   \n",
       "626      DIA      DIA04         CRDRATE                       SEX   \n",
       "628      DIA      DIA04         CRDRATE                       SEX   \n",
       "656      DIA      DIA04         CRDRATE                       SEX   \n",
       "690      DIA      DIA04         CRDRATE                       SEX   \n",
       "737      DIA      DIA04         CRDRATE                       SEX   \n",
       "827      DIA      DIA04         CRDRATE                       SEX   \n",
       "856      DIA      DIA04         CRDRATE                       SEX   \n",
       "859      DIA      DIA04         CRDRATE                       SEX   \n",
       "862      DIA      DIA04         CRDRATE                       SEX   \n",
       "993      DIA      DIA04         CRDRATE                       SEX   \n",
       "995      DIA      DIA04         CRDRATE                       SEX   \n",
       "1058     DIA      DIA04         CRDRATE                       SEX   \n",
       "1116     DIA      DIA04         CRDRATE                       SEX   \n",
       "1210     DIA      DIA04         CRDRATE                       SEX   \n",
       "1221     DIA      DIA04         CRDRATE                       SEX   \n",
       "1258     DIA      DIA04         CRDRATE                       SEX   \n",
       "1347     DIA      DIA04         CRDRATE                       SEX   \n",
       "1356     DIA      DIA04         CRDRATE                       SEX   \n",
       "\n",
       "     StratificationID1  Year  \n",
       "18                SEXF  2019  \n",
       "137               SEXF  2019  \n",
       "157               SEXF  2019  \n",
       "180               SEXM  2019  \n",
       "207               SEXM  2019  \n",
       "231               SEXM  2019  \n",
       "282               SEXF  2019  \n",
       "333               SEXM  2019  \n",
       "497               SEXF  2019  \n",
       "531               SEXM  2019  \n",
       "570               SEXM  2019  \n",
       "589               SEXM  2019  \n",
       "626               SEXF  2019  \n",
       "628               SEXM  2019  \n",
       "656               SEXF  2019  \n",
       "690               SEXF  2019  \n",
       "737               SEXM  2019  \n",
       "827               SEXM  2019  \n",
       "856               SEXF  2019  \n",
       "859               SEXM  2019  \n",
       "862               SEXM  2019  \n",
       "993               SEXM  2019  \n",
       "995               SEXF  2019  \n",
       "1058              SEXF  2019  \n",
       "1116              SEXM  2019  \n",
       "1210              SEXM  2019  \n",
       "1221              SEXM  2019  \n",
       "1258              SEXM  2019  \n",
       "1347              SEXM  2019  \n",
       "1356              SEXM  2019  "
      ]
     },
     "execution_count": 30,
     "metadata": {},
     "output_type": "execute_result"
    }
   ],
   "source": [
    "gender_filtered_data = diabetes_data[\n",
    "    (diabetes_data['QuestionID'] == 'DIA04') &\n",
    "    (diabetes_data['Year'] == 2019) &\n",
    "    (diabetes_data['StratificationCategoryID1'] == 'SEX') &\n",
    "    (diabetes_data['DataValueTypeID'] == 'CRDRATE')\n",
    "]\n",
    "#gender_filtered_data.iloc[:30]"
   ]
  },
  {
   "cell_type": "code",
   "execution_count": 29,
   "id": "134d1bfb",
   "metadata": {},
   "outputs": [
    {
     "data": {
      "application/vnd.plotly.v1+json": {
       "config": {
        "plotlyServerURL": "https://plot.ly"
       },
       "data": [
        {
         "alignmentgroup": "True",
         "hovertemplate": "Gender=SEXF<br>LocationAbbr=%{x}<br>Mortality Rate per 100,000=%{y}<extra></extra>",
         "legendgroup": "SEXF",
         "marker": {
          "color": "pink",
          "pattern": {
           "shape": ""
          }
         },
         "name": "SEXF",
         "offsetgroup": "SEXF",
         "orientation": "v",
         "showlegend": true,
         "textposition": "auto",
         "type": "bar",
         "x": [
          "AL",
          "AR",
          "AZ",
          "CA",
          "CO",
          "CT",
          "FL",
          "GA",
          "IA",
          "ID",
          "IL",
          "IN",
          "KS",
          "KY",
          "LA",
          "MA",
          "MD",
          "MI",
          "MN",
          "MO",
          "MS",
          "NC",
          "NJ",
          "NM",
          "NV",
          "NY",
          "OH",
          "OK",
          "OR",
          "PA",
          "SC",
          "TN",
          "TX",
          "US",
          "UT",
          "VA",
          "WA",
          "WI",
          "WV"
         ],
         "xaxis": "x",
         "y": [
          3.3,
          2.9,
          1.8,
          1.9,
          2.1,
          1.6,
          1.4,
          2.4,
          1.5,
          2.4,
          1.6,
          2.8,
          2,
          3.7,
          1.9,
          1.2,
          2.9,
          1.9,
          1.8,
          1.9,
          2,
          1.6,
          2.1,
          2.6,
          2.7,
          2.1,
          1.9,
          2.8,
          1.8,
          1.8,
          3.5,
          3.1,
          2.5,
          2.1,
          null,
          1.6,
          1.6,
          1.8,
          3.1
         ],
         "yaxis": "y"
        },
        {
         "alignmentgroup": "True",
         "hovertemplate": "Gender=SEXM<br>LocationAbbr=%{x}<br>Mortality Rate per 100,000=%{y}<extra></extra>",
         "legendgroup": "SEXM",
         "marker": {
          "color": "lightblue",
          "pattern": {
           "shape": ""
          }
         },
         "name": "SEXM",
         "offsetgroup": "SEXM",
         "orientation": "v",
         "showlegend": true,
         "textposition": "auto",
         "type": "bar",
         "x": [
          "AL",
          "AR",
          "AZ",
          "CA",
          "CO",
          "CT",
          "FL",
          "GA",
          "IA",
          "ID",
          "IL",
          "IN",
          "KS",
          "KY",
          "LA",
          "MA",
          "MD",
          "MI",
          "MN",
          "MO",
          "MS",
          "NC",
          "NJ",
          "NM",
          "NV",
          "NY",
          "OH",
          "OK",
          "OR",
          "PA",
          "SC",
          "TN",
          "TX",
          "US",
          "UT",
          "VA",
          "WA",
          "WI",
          "WV"
         ],
         "xaxis": "x",
         "y": [
          4,
          3,
          2.7,
          2.7,
          3.4,
          2.8,
          2.9,
          2.5,
          3.8,
          2.2,
          2.6,
          3.5,
          2.9,
          4.9,
          2.4,
          2.3,
          3.6,
          2.5,
          3.2,
          2.8,
          4,
          2.2,
          2.8,
          5.6,
          5.1,
          3,
          2.8,
          4.9,
          2.8,
          2.6,
          5.4,
          3.8,
          3.7,
          3,
          2,
          1.9,
          2.9,
          2.8,
          2.9
         ],
         "yaxis": "y"
        }
       ],
       "layout": {
        "barmode": "group",
        "legend": {
         "title": {
          "text": "Gender"
         },
         "tracegroupgap": 0
        },
        "template": {
         "data": {
          "bar": [
           {
            "error_x": {
             "color": "#2a3f5f"
            },
            "error_y": {
             "color": "#2a3f5f"
            },
            "marker": {
             "line": {
              "color": "#E5ECF6",
              "width": 0.5
             },
             "pattern": {
              "fillmode": "overlay",
              "size": 10,
              "solidity": 0.2
             }
            },
            "type": "bar"
           }
          ],
          "barpolar": [
           {
            "marker": {
             "line": {
              "color": "#E5ECF6",
              "width": 0.5
             },
             "pattern": {
              "fillmode": "overlay",
              "size": 10,
              "solidity": 0.2
             }
            },
            "type": "barpolar"
           }
          ],
          "carpet": [
           {
            "aaxis": {
             "endlinecolor": "#2a3f5f",
             "gridcolor": "white",
             "linecolor": "white",
             "minorgridcolor": "white",
             "startlinecolor": "#2a3f5f"
            },
            "baxis": {
             "endlinecolor": "#2a3f5f",
             "gridcolor": "white",
             "linecolor": "white",
             "minorgridcolor": "white",
             "startlinecolor": "#2a3f5f"
            },
            "type": "carpet"
           }
          ],
          "choropleth": [
           {
            "colorbar": {
             "outlinewidth": 0,
             "ticks": ""
            },
            "type": "choropleth"
           }
          ],
          "contour": [
           {
            "colorbar": {
             "outlinewidth": 0,
             "ticks": ""
            },
            "colorscale": [
             [
              0,
              "#0d0887"
             ],
             [
              0.1111111111111111,
              "#46039f"
             ],
             [
              0.2222222222222222,
              "#7201a8"
             ],
             [
              0.3333333333333333,
              "#9c179e"
             ],
             [
              0.4444444444444444,
              "#bd3786"
             ],
             [
              0.5555555555555556,
              "#d8576b"
             ],
             [
              0.6666666666666666,
              "#ed7953"
             ],
             [
              0.7777777777777778,
              "#fb9f3a"
             ],
             [
              0.8888888888888888,
              "#fdca26"
             ],
             [
              1,
              "#f0f921"
             ]
            ],
            "type": "contour"
           }
          ],
          "contourcarpet": [
           {
            "colorbar": {
             "outlinewidth": 0,
             "ticks": ""
            },
            "type": "contourcarpet"
           }
          ],
          "heatmap": [
           {
            "colorbar": {
             "outlinewidth": 0,
             "ticks": ""
            },
            "colorscale": [
             [
              0,
              "#0d0887"
             ],
             [
              0.1111111111111111,
              "#46039f"
             ],
             [
              0.2222222222222222,
              "#7201a8"
             ],
             [
              0.3333333333333333,
              "#9c179e"
             ],
             [
              0.4444444444444444,
              "#bd3786"
             ],
             [
              0.5555555555555556,
              "#d8576b"
             ],
             [
              0.6666666666666666,
              "#ed7953"
             ],
             [
              0.7777777777777778,
              "#fb9f3a"
             ],
             [
              0.8888888888888888,
              "#fdca26"
             ],
             [
              1,
              "#f0f921"
             ]
            ],
            "type": "heatmap"
           }
          ],
          "heatmapgl": [
           {
            "colorbar": {
             "outlinewidth": 0,
             "ticks": ""
            },
            "colorscale": [
             [
              0,
              "#0d0887"
             ],
             [
              0.1111111111111111,
              "#46039f"
             ],
             [
              0.2222222222222222,
              "#7201a8"
             ],
             [
              0.3333333333333333,
              "#9c179e"
             ],
             [
              0.4444444444444444,
              "#bd3786"
             ],
             [
              0.5555555555555556,
              "#d8576b"
             ],
             [
              0.6666666666666666,
              "#ed7953"
             ],
             [
              0.7777777777777778,
              "#fb9f3a"
             ],
             [
              0.8888888888888888,
              "#fdca26"
             ],
             [
              1,
              "#f0f921"
             ]
            ],
            "type": "heatmapgl"
           }
          ],
          "histogram": [
           {
            "marker": {
             "pattern": {
              "fillmode": "overlay",
              "size": 10,
              "solidity": 0.2
             }
            },
            "type": "histogram"
           }
          ],
          "histogram2d": [
           {
            "colorbar": {
             "outlinewidth": 0,
             "ticks": ""
            },
            "colorscale": [
             [
              0,
              "#0d0887"
             ],
             [
              0.1111111111111111,
              "#46039f"
             ],
             [
              0.2222222222222222,
              "#7201a8"
             ],
             [
              0.3333333333333333,
              "#9c179e"
             ],
             [
              0.4444444444444444,
              "#bd3786"
             ],
             [
              0.5555555555555556,
              "#d8576b"
             ],
             [
              0.6666666666666666,
              "#ed7953"
             ],
             [
              0.7777777777777778,
              "#fb9f3a"
             ],
             [
              0.8888888888888888,
              "#fdca26"
             ],
             [
              1,
              "#f0f921"
             ]
            ],
            "type": "histogram2d"
           }
          ],
          "histogram2dcontour": [
           {
            "colorbar": {
             "outlinewidth": 0,
             "ticks": ""
            },
            "colorscale": [
             [
              0,
              "#0d0887"
             ],
             [
              0.1111111111111111,
              "#46039f"
             ],
             [
              0.2222222222222222,
              "#7201a8"
             ],
             [
              0.3333333333333333,
              "#9c179e"
             ],
             [
              0.4444444444444444,
              "#bd3786"
             ],
             [
              0.5555555555555556,
              "#d8576b"
             ],
             [
              0.6666666666666666,
              "#ed7953"
             ],
             [
              0.7777777777777778,
              "#fb9f3a"
             ],
             [
              0.8888888888888888,
              "#fdca26"
             ],
             [
              1,
              "#f0f921"
             ]
            ],
            "type": "histogram2dcontour"
           }
          ],
          "mesh3d": [
           {
            "colorbar": {
             "outlinewidth": 0,
             "ticks": ""
            },
            "type": "mesh3d"
           }
          ],
          "parcoords": [
           {
            "line": {
             "colorbar": {
              "outlinewidth": 0,
              "ticks": ""
             }
            },
            "type": "parcoords"
           }
          ],
          "pie": [
           {
            "automargin": true,
            "type": "pie"
           }
          ],
          "scatter": [
           {
            "fillpattern": {
             "fillmode": "overlay",
             "size": 10,
             "solidity": 0.2
            },
            "type": "scatter"
           }
          ],
          "scatter3d": [
           {
            "line": {
             "colorbar": {
              "outlinewidth": 0,
              "ticks": ""
             }
            },
            "marker": {
             "colorbar": {
              "outlinewidth": 0,
              "ticks": ""
             }
            },
            "type": "scatter3d"
           }
          ],
          "scattercarpet": [
           {
            "marker": {
             "colorbar": {
              "outlinewidth": 0,
              "ticks": ""
             }
            },
            "type": "scattercarpet"
           }
          ],
          "scattergeo": [
           {
            "marker": {
             "colorbar": {
              "outlinewidth": 0,
              "ticks": ""
             }
            },
            "type": "scattergeo"
           }
          ],
          "scattergl": [
           {
            "marker": {
             "colorbar": {
              "outlinewidth": 0,
              "ticks": ""
             }
            },
            "type": "scattergl"
           }
          ],
          "scattermapbox": [
           {
            "marker": {
             "colorbar": {
              "outlinewidth": 0,
              "ticks": ""
             }
            },
            "type": "scattermapbox"
           }
          ],
          "scatterpolar": [
           {
            "marker": {
             "colorbar": {
              "outlinewidth": 0,
              "ticks": ""
             }
            },
            "type": "scatterpolar"
           }
          ],
          "scatterpolargl": [
           {
            "marker": {
             "colorbar": {
              "outlinewidth": 0,
              "ticks": ""
             }
            },
            "type": "scatterpolargl"
           }
          ],
          "scatterternary": [
           {
            "marker": {
             "colorbar": {
              "outlinewidth": 0,
              "ticks": ""
             }
            },
            "type": "scatterternary"
           }
          ],
          "surface": [
           {
            "colorbar": {
             "outlinewidth": 0,
             "ticks": ""
            },
            "colorscale": [
             [
              0,
              "#0d0887"
             ],
             [
              0.1111111111111111,
              "#46039f"
             ],
             [
              0.2222222222222222,
              "#7201a8"
             ],
             [
              0.3333333333333333,
              "#9c179e"
             ],
             [
              0.4444444444444444,
              "#bd3786"
             ],
             [
              0.5555555555555556,
              "#d8576b"
             ],
             [
              0.6666666666666666,
              "#ed7953"
             ],
             [
              0.7777777777777778,
              "#fb9f3a"
             ],
             [
              0.8888888888888888,
              "#fdca26"
             ],
             [
              1,
              "#f0f921"
             ]
            ],
            "type": "surface"
           }
          ],
          "table": [
           {
            "cells": {
             "fill": {
              "color": "#EBF0F8"
             },
             "line": {
              "color": "white"
             }
            },
            "header": {
             "fill": {
              "color": "#C8D4E3"
             },
             "line": {
              "color": "white"
             }
            },
            "type": "table"
           }
          ]
         },
         "layout": {
          "annotationdefaults": {
           "arrowcolor": "#2a3f5f",
           "arrowhead": 0,
           "arrowwidth": 1
          },
          "autotypenumbers": "strict",
          "coloraxis": {
           "colorbar": {
            "outlinewidth": 0,
            "ticks": ""
           }
          },
          "colorscale": {
           "diverging": [
            [
             0,
             "#8e0152"
            ],
            [
             0.1,
             "#c51b7d"
            ],
            [
             0.2,
             "#de77ae"
            ],
            [
             0.3,
             "#f1b6da"
            ],
            [
             0.4,
             "#fde0ef"
            ],
            [
             0.5,
             "#f7f7f7"
            ],
            [
             0.6,
             "#e6f5d0"
            ],
            [
             0.7,
             "#b8e186"
            ],
            [
             0.8,
             "#7fbc41"
            ],
            [
             0.9,
             "#4d9221"
            ],
            [
             1,
             "#276419"
            ]
           ],
           "sequential": [
            [
             0,
             "#0d0887"
            ],
            [
             0.1111111111111111,
             "#46039f"
            ],
            [
             0.2222222222222222,
             "#7201a8"
            ],
            [
             0.3333333333333333,
             "#9c179e"
            ],
            [
             0.4444444444444444,
             "#bd3786"
            ],
            [
             0.5555555555555556,
             "#d8576b"
            ],
            [
             0.6666666666666666,
             "#ed7953"
            ],
            [
             0.7777777777777778,
             "#fb9f3a"
            ],
            [
             0.8888888888888888,
             "#fdca26"
            ],
            [
             1,
             "#f0f921"
            ]
           ],
           "sequentialminus": [
            [
             0,
             "#0d0887"
            ],
            [
             0.1111111111111111,
             "#46039f"
            ],
            [
             0.2222222222222222,
             "#7201a8"
            ],
            [
             0.3333333333333333,
             "#9c179e"
            ],
            [
             0.4444444444444444,
             "#bd3786"
            ],
            [
             0.5555555555555556,
             "#d8576b"
            ],
            [
             0.6666666666666666,
             "#ed7953"
            ],
            [
             0.7777777777777778,
             "#fb9f3a"
            ],
            [
             0.8888888888888888,
             "#fdca26"
            ],
            [
             1,
             "#f0f921"
            ]
           ]
          },
          "colorway": [
           "#636efa",
           "#EF553B",
           "#00cc96",
           "#ab63fa",
           "#FFA15A",
           "#19d3f3",
           "#FF6692",
           "#B6E880",
           "#FF97FF",
           "#FECB52"
          ],
          "font": {
           "color": "#2a3f5f"
          },
          "geo": {
           "bgcolor": "white",
           "lakecolor": "white",
           "landcolor": "#E5ECF6",
           "showlakes": true,
           "showland": true,
           "subunitcolor": "white"
          },
          "hoverlabel": {
           "align": "left"
          },
          "hovermode": "closest",
          "mapbox": {
           "style": "light"
          },
          "paper_bgcolor": "white",
          "plot_bgcolor": "#E5ECF6",
          "polar": {
           "angularaxis": {
            "gridcolor": "white",
            "linecolor": "white",
            "ticks": ""
           },
           "bgcolor": "#E5ECF6",
           "radialaxis": {
            "gridcolor": "white",
            "linecolor": "white",
            "ticks": ""
           }
          },
          "scene": {
           "xaxis": {
            "backgroundcolor": "#E5ECF6",
            "gridcolor": "white",
            "gridwidth": 2,
            "linecolor": "white",
            "showbackground": true,
            "ticks": "",
            "zerolinecolor": "white"
           },
           "yaxis": {
            "backgroundcolor": "#E5ECF6",
            "gridcolor": "white",
            "gridwidth": 2,
            "linecolor": "white",
            "showbackground": true,
            "ticks": "",
            "zerolinecolor": "white"
           },
           "zaxis": {
            "backgroundcolor": "#E5ECF6",
            "gridcolor": "white",
            "gridwidth": 2,
            "linecolor": "white",
            "showbackground": true,
            "ticks": "",
            "zerolinecolor": "white"
           }
          },
          "shapedefaults": {
           "line": {
            "color": "#2a3f5f"
           }
          },
          "ternary": {
           "aaxis": {
            "gridcolor": "white",
            "linecolor": "white",
            "ticks": ""
           },
           "baxis": {
            "gridcolor": "white",
            "linecolor": "white",
            "ticks": ""
           },
           "bgcolor": "#E5ECF6",
           "caxis": {
            "gridcolor": "white",
            "linecolor": "white",
            "ticks": ""
           }
          },
          "title": {
           "x": 0.05
          },
          "xaxis": {
           "automargin": true,
           "gridcolor": "white",
           "linecolor": "white",
           "ticks": "",
           "title": {
            "standoff": 15
           },
           "zerolinecolor": "white",
           "zerolinewidth": 2
          },
          "yaxis": {
           "automargin": true,
           "gridcolor": "white",
           "linecolor": "white",
           "ticks": "",
           "title": {
            "standoff": 15
           },
           "zerolinecolor": "white",
           "zerolinewidth": 2
          }
         }
        },
        "title": {
         "text": "Comparison of Male vs. Female Ketoacidosis Diabetes Mortality Rates by State"
        },
        "xaxis": {
         "anchor": "y",
         "domain": [
          0,
          1
         ],
         "title": {
          "text": "LocationAbbr"
         }
        },
        "yaxis": {
         "anchor": "x",
         "domain": [
          0,
          1
         ],
         "title": {
          "text": "Mortality Rate per 100,000"
         }
        }
       }
      },
      "text/html": [
       "<div>                            <div id=\"6dfb7249-7b91-464e-a1a4-b60f0566e3a7\" class=\"plotly-graph-div\" style=\"height:525px; width:100%;\"></div>            <script type=\"text/javascript\">                require([\"plotly\"], function(Plotly) {                    window.PLOTLYENV=window.PLOTLYENV || {};                                    if (document.getElementById(\"6dfb7249-7b91-464e-a1a4-b60f0566e3a7\")) {                    Plotly.newPlot(                        \"6dfb7249-7b91-464e-a1a4-b60f0566e3a7\",                        [{\"alignmentgroup\":\"True\",\"hovertemplate\":\"Gender=SEXF<br>LocationAbbr=%{x}<br>Mortality Rate per 100,000=%{y}<extra></extra>\",\"legendgroup\":\"SEXF\",\"marker\":{\"color\":\"pink\",\"pattern\":{\"shape\":\"\"}},\"name\":\"SEXF\",\"offsetgroup\":\"SEXF\",\"orientation\":\"v\",\"showlegend\":true,\"textposition\":\"auto\",\"x\":[\"AL\",\"AR\",\"AZ\",\"CA\",\"CO\",\"CT\",\"FL\",\"GA\",\"IA\",\"ID\",\"IL\",\"IN\",\"KS\",\"KY\",\"LA\",\"MA\",\"MD\",\"MI\",\"MN\",\"MO\",\"MS\",\"NC\",\"NJ\",\"NM\",\"NV\",\"NY\",\"OH\",\"OK\",\"OR\",\"PA\",\"SC\",\"TN\",\"TX\",\"US\",\"UT\",\"VA\",\"WA\",\"WI\",\"WV\"],\"xaxis\":\"x\",\"y\":[3.3,2.9,1.8,1.9,2.1,1.6,1.4,2.4,1.5,2.4,1.6,2.8,2.0,3.7,1.9,1.2,2.9,1.9,1.8,1.9,2.0,1.6,2.1,2.6,2.7,2.1,1.9,2.8,1.8,1.8,3.5,3.1,2.5,2.1,null,1.6,1.6,1.8,3.1],\"yaxis\":\"y\",\"type\":\"bar\"},{\"alignmentgroup\":\"True\",\"hovertemplate\":\"Gender=SEXM<br>LocationAbbr=%{x}<br>Mortality Rate per 100,000=%{y}<extra></extra>\",\"legendgroup\":\"SEXM\",\"marker\":{\"color\":\"lightblue\",\"pattern\":{\"shape\":\"\"}},\"name\":\"SEXM\",\"offsetgroup\":\"SEXM\",\"orientation\":\"v\",\"showlegend\":true,\"textposition\":\"auto\",\"x\":[\"AL\",\"AR\",\"AZ\",\"CA\",\"CO\",\"CT\",\"FL\",\"GA\",\"IA\",\"ID\",\"IL\",\"IN\",\"KS\",\"KY\",\"LA\",\"MA\",\"MD\",\"MI\",\"MN\",\"MO\",\"MS\",\"NC\",\"NJ\",\"NM\",\"NV\",\"NY\",\"OH\",\"OK\",\"OR\",\"PA\",\"SC\",\"TN\",\"TX\",\"US\",\"UT\",\"VA\",\"WA\",\"WI\",\"WV\"],\"xaxis\":\"x\",\"y\":[4.0,3.0,2.7,2.7,3.4,2.8,2.9,2.5,3.8,2.2,2.6,3.5,2.9,4.9,2.4,2.3,3.6,2.5,3.2,2.8,4.0,2.2,2.8,5.6,5.1,3.0,2.8,4.9,2.8,2.6,5.4,3.8,3.7,3.0,2.0,1.9,2.9,2.8,2.9],\"yaxis\":\"y\",\"type\":\"bar\"}],                        {\"template\":{\"data\":{\"histogram2dcontour\":[{\"type\":\"histogram2dcontour\",\"colorbar\":{\"outlinewidth\":0,\"ticks\":\"\"},\"colorscale\":[[0.0,\"#0d0887\"],[0.1111111111111111,\"#46039f\"],[0.2222222222222222,\"#7201a8\"],[0.3333333333333333,\"#9c179e\"],[0.4444444444444444,\"#bd3786\"],[0.5555555555555556,\"#d8576b\"],[0.6666666666666666,\"#ed7953\"],[0.7777777777777778,\"#fb9f3a\"],[0.8888888888888888,\"#fdca26\"],[1.0,\"#f0f921\"]]}],\"choropleth\":[{\"type\":\"choropleth\",\"colorbar\":{\"outlinewidth\":0,\"ticks\":\"\"}}],\"histogram2d\":[{\"type\":\"histogram2d\",\"colorbar\":{\"outlinewidth\":0,\"ticks\":\"\"},\"colorscale\":[[0.0,\"#0d0887\"],[0.1111111111111111,\"#46039f\"],[0.2222222222222222,\"#7201a8\"],[0.3333333333333333,\"#9c179e\"],[0.4444444444444444,\"#bd3786\"],[0.5555555555555556,\"#d8576b\"],[0.6666666666666666,\"#ed7953\"],[0.7777777777777778,\"#fb9f3a\"],[0.8888888888888888,\"#fdca26\"],[1.0,\"#f0f921\"]]}],\"heatmap\":[{\"type\":\"heatmap\",\"colorbar\":{\"outlinewidth\":0,\"ticks\":\"\"},\"colorscale\":[[0.0,\"#0d0887\"],[0.1111111111111111,\"#46039f\"],[0.2222222222222222,\"#7201a8\"],[0.3333333333333333,\"#9c179e\"],[0.4444444444444444,\"#bd3786\"],[0.5555555555555556,\"#d8576b\"],[0.6666666666666666,\"#ed7953\"],[0.7777777777777778,\"#fb9f3a\"],[0.8888888888888888,\"#fdca26\"],[1.0,\"#f0f921\"]]}],\"heatmapgl\":[{\"type\":\"heatmapgl\",\"colorbar\":{\"outlinewidth\":0,\"ticks\":\"\"},\"colorscale\":[[0.0,\"#0d0887\"],[0.1111111111111111,\"#46039f\"],[0.2222222222222222,\"#7201a8\"],[0.3333333333333333,\"#9c179e\"],[0.4444444444444444,\"#bd3786\"],[0.5555555555555556,\"#d8576b\"],[0.6666666666666666,\"#ed7953\"],[0.7777777777777778,\"#fb9f3a\"],[0.8888888888888888,\"#fdca26\"],[1.0,\"#f0f921\"]]}],\"contourcarpet\":[{\"type\":\"contourcarpet\",\"colorbar\":{\"outlinewidth\":0,\"ticks\":\"\"}}],\"contour\":[{\"type\":\"contour\",\"colorbar\":{\"outlinewidth\":0,\"ticks\":\"\"},\"colorscale\":[[0.0,\"#0d0887\"],[0.1111111111111111,\"#46039f\"],[0.2222222222222222,\"#7201a8\"],[0.3333333333333333,\"#9c179e\"],[0.4444444444444444,\"#bd3786\"],[0.5555555555555556,\"#d8576b\"],[0.6666666666666666,\"#ed7953\"],[0.7777777777777778,\"#fb9f3a\"],[0.8888888888888888,\"#fdca26\"],[1.0,\"#f0f921\"]]}],\"surface\":[{\"type\":\"surface\",\"colorbar\":{\"outlinewidth\":0,\"ticks\":\"\"},\"colorscale\":[[0.0,\"#0d0887\"],[0.1111111111111111,\"#46039f\"],[0.2222222222222222,\"#7201a8\"],[0.3333333333333333,\"#9c179e\"],[0.4444444444444444,\"#bd3786\"],[0.5555555555555556,\"#d8576b\"],[0.6666666666666666,\"#ed7953\"],[0.7777777777777778,\"#fb9f3a\"],[0.8888888888888888,\"#fdca26\"],[1.0,\"#f0f921\"]]}],\"mesh3d\":[{\"type\":\"mesh3d\",\"colorbar\":{\"outlinewidth\":0,\"ticks\":\"\"}}],\"scatter\":[{\"fillpattern\":{\"fillmode\":\"overlay\",\"size\":10,\"solidity\":0.2},\"type\":\"scatter\"}],\"parcoords\":[{\"type\":\"parcoords\",\"line\":{\"colorbar\":{\"outlinewidth\":0,\"ticks\":\"\"}}}],\"scatterpolargl\":[{\"type\":\"scatterpolargl\",\"marker\":{\"colorbar\":{\"outlinewidth\":0,\"ticks\":\"\"}}}],\"bar\":[{\"error_x\":{\"color\":\"#2a3f5f\"},\"error_y\":{\"color\":\"#2a3f5f\"},\"marker\":{\"line\":{\"color\":\"#E5ECF6\",\"width\":0.5},\"pattern\":{\"fillmode\":\"overlay\",\"size\":10,\"solidity\":0.2}},\"type\":\"bar\"}],\"scattergeo\":[{\"type\":\"scattergeo\",\"marker\":{\"colorbar\":{\"outlinewidth\":0,\"ticks\":\"\"}}}],\"scatterpolar\":[{\"type\":\"scatterpolar\",\"marker\":{\"colorbar\":{\"outlinewidth\":0,\"ticks\":\"\"}}}],\"histogram\":[{\"marker\":{\"pattern\":{\"fillmode\":\"overlay\",\"size\":10,\"solidity\":0.2}},\"type\":\"histogram\"}],\"scattergl\":[{\"type\":\"scattergl\",\"marker\":{\"colorbar\":{\"outlinewidth\":0,\"ticks\":\"\"}}}],\"scatter3d\":[{\"type\":\"scatter3d\",\"line\":{\"colorbar\":{\"outlinewidth\":0,\"ticks\":\"\"}},\"marker\":{\"colorbar\":{\"outlinewidth\":0,\"ticks\":\"\"}}}],\"scattermapbox\":[{\"type\":\"scattermapbox\",\"marker\":{\"colorbar\":{\"outlinewidth\":0,\"ticks\":\"\"}}}],\"scatterternary\":[{\"type\":\"scatterternary\",\"marker\":{\"colorbar\":{\"outlinewidth\":0,\"ticks\":\"\"}}}],\"scattercarpet\":[{\"type\":\"scattercarpet\",\"marker\":{\"colorbar\":{\"outlinewidth\":0,\"ticks\":\"\"}}}],\"carpet\":[{\"aaxis\":{\"endlinecolor\":\"#2a3f5f\",\"gridcolor\":\"white\",\"linecolor\":\"white\",\"minorgridcolor\":\"white\",\"startlinecolor\":\"#2a3f5f\"},\"baxis\":{\"endlinecolor\":\"#2a3f5f\",\"gridcolor\":\"white\",\"linecolor\":\"white\",\"minorgridcolor\":\"white\",\"startlinecolor\":\"#2a3f5f\"},\"type\":\"carpet\"}],\"table\":[{\"cells\":{\"fill\":{\"color\":\"#EBF0F8\"},\"line\":{\"color\":\"white\"}},\"header\":{\"fill\":{\"color\":\"#C8D4E3\"},\"line\":{\"color\":\"white\"}},\"type\":\"table\"}],\"barpolar\":[{\"marker\":{\"line\":{\"color\":\"#E5ECF6\",\"width\":0.5},\"pattern\":{\"fillmode\":\"overlay\",\"size\":10,\"solidity\":0.2}},\"type\":\"barpolar\"}],\"pie\":[{\"automargin\":true,\"type\":\"pie\"}]},\"layout\":{\"autotypenumbers\":\"strict\",\"colorway\":[\"#636efa\",\"#EF553B\",\"#00cc96\",\"#ab63fa\",\"#FFA15A\",\"#19d3f3\",\"#FF6692\",\"#B6E880\",\"#FF97FF\",\"#FECB52\"],\"font\":{\"color\":\"#2a3f5f\"},\"hovermode\":\"closest\",\"hoverlabel\":{\"align\":\"left\"},\"paper_bgcolor\":\"white\",\"plot_bgcolor\":\"#E5ECF6\",\"polar\":{\"bgcolor\":\"#E5ECF6\",\"angularaxis\":{\"gridcolor\":\"white\",\"linecolor\":\"white\",\"ticks\":\"\"},\"radialaxis\":{\"gridcolor\":\"white\",\"linecolor\":\"white\",\"ticks\":\"\"}},\"ternary\":{\"bgcolor\":\"#E5ECF6\",\"aaxis\":{\"gridcolor\":\"white\",\"linecolor\":\"white\",\"ticks\":\"\"},\"baxis\":{\"gridcolor\":\"white\",\"linecolor\":\"white\",\"ticks\":\"\"},\"caxis\":{\"gridcolor\":\"white\",\"linecolor\":\"white\",\"ticks\":\"\"}},\"coloraxis\":{\"colorbar\":{\"outlinewidth\":0,\"ticks\":\"\"}},\"colorscale\":{\"sequential\":[[0.0,\"#0d0887\"],[0.1111111111111111,\"#46039f\"],[0.2222222222222222,\"#7201a8\"],[0.3333333333333333,\"#9c179e\"],[0.4444444444444444,\"#bd3786\"],[0.5555555555555556,\"#d8576b\"],[0.6666666666666666,\"#ed7953\"],[0.7777777777777778,\"#fb9f3a\"],[0.8888888888888888,\"#fdca26\"],[1.0,\"#f0f921\"]],\"sequentialminus\":[[0.0,\"#0d0887\"],[0.1111111111111111,\"#46039f\"],[0.2222222222222222,\"#7201a8\"],[0.3333333333333333,\"#9c179e\"],[0.4444444444444444,\"#bd3786\"],[0.5555555555555556,\"#d8576b\"],[0.6666666666666666,\"#ed7953\"],[0.7777777777777778,\"#fb9f3a\"],[0.8888888888888888,\"#fdca26\"],[1.0,\"#f0f921\"]],\"diverging\":[[0,\"#8e0152\"],[0.1,\"#c51b7d\"],[0.2,\"#de77ae\"],[0.3,\"#f1b6da\"],[0.4,\"#fde0ef\"],[0.5,\"#f7f7f7\"],[0.6,\"#e6f5d0\"],[0.7,\"#b8e186\"],[0.8,\"#7fbc41\"],[0.9,\"#4d9221\"],[1,\"#276419\"]]},\"xaxis\":{\"gridcolor\":\"white\",\"linecolor\":\"white\",\"ticks\":\"\",\"title\":{\"standoff\":15},\"zerolinecolor\":\"white\",\"automargin\":true,\"zerolinewidth\":2},\"yaxis\":{\"gridcolor\":\"white\",\"linecolor\":\"white\",\"ticks\":\"\",\"title\":{\"standoff\":15},\"zerolinecolor\":\"white\",\"automargin\":true,\"zerolinewidth\":2},\"scene\":{\"xaxis\":{\"backgroundcolor\":\"#E5ECF6\",\"gridcolor\":\"white\",\"linecolor\":\"white\",\"showbackground\":true,\"ticks\":\"\",\"zerolinecolor\":\"white\",\"gridwidth\":2},\"yaxis\":{\"backgroundcolor\":\"#E5ECF6\",\"gridcolor\":\"white\",\"linecolor\":\"white\",\"showbackground\":true,\"ticks\":\"\",\"zerolinecolor\":\"white\",\"gridwidth\":2},\"zaxis\":{\"backgroundcolor\":\"#E5ECF6\",\"gridcolor\":\"white\",\"linecolor\":\"white\",\"showbackground\":true,\"ticks\":\"\",\"zerolinecolor\":\"white\",\"gridwidth\":2}},\"shapedefaults\":{\"line\":{\"color\":\"#2a3f5f\"}},\"annotationdefaults\":{\"arrowcolor\":\"#2a3f5f\",\"arrowhead\":0,\"arrowwidth\":1},\"geo\":{\"bgcolor\":\"white\",\"landcolor\":\"#E5ECF6\",\"subunitcolor\":\"white\",\"showland\":true,\"showlakes\":true,\"lakecolor\":\"white\"},\"title\":{\"x\":0.05},\"mapbox\":{\"style\":\"light\"}}},\"xaxis\":{\"anchor\":\"y\",\"domain\":[0.0,1.0],\"title\":{\"text\":\"LocationAbbr\"}},\"yaxis\":{\"anchor\":\"x\",\"domain\":[0.0,1.0],\"title\":{\"text\":\"Mortality Rate per 100,000\"}},\"legend\":{\"title\":{\"text\":\"Gender\"},\"tracegroupgap\":0},\"title\":{\"text\":\"Comparison of Male vs. Female Ketoacidosis Diabetes Mortality Rates by State\"},\"barmode\":\"group\"},                        {\"responsive\": true}                    ).then(function(){\n",
       "                            \n",
       "var gd = document.getElementById('6dfb7249-7b91-464e-a1a4-b60f0566e3a7');\n",
       "var x = new MutationObserver(function (mutations, observer) {{\n",
       "        var display = window.getComputedStyle(gd).display;\n",
       "        if (!display || display === 'none') {{\n",
       "            console.log([gd, 'removed!']);\n",
       "            Plotly.purge(gd);\n",
       "            observer.disconnect();\n",
       "        }}\n",
       "}});\n",
       "\n",
       "// Listen for the removal of the full notebook cells\n",
       "var notebookContainer = gd.closest('#notebook-container');\n",
       "if (notebookContainer) {{\n",
       "    x.observe(notebookContainer, {childList: true});\n",
       "}}\n",
       "\n",
       "// Listen for the clearing of the current output cell\n",
       "var outputEl = gd.closest('.output');\n",
       "if (outputEl) {{\n",
       "    x.observe(outputEl, {childList: true});\n",
       "}}\n",
       "\n",
       "                        })                };                });            </script>        </div>"
      ]
     },
     "metadata": {},
     "output_type": "display_data"
    }
   ],
   "source": [
    "pivot_gender_data = gender_filtered_data.pivot_table(\n",
    "    values='DataValue',\n",
    "    index='LocationAbbr',\n",
    "    columns='StratificationID1',\n",
    ")\n",
    "\n",
    "# Create a bar plot using Plotly to compare male vs. female diabetes mortality rates by state\n",
    "fig = px.bar(\n",
    "    pivot_gender_data.reset_index(),\n",
    "    x='LocationAbbr',\n",
    "    y=['SEXF', 'SEXM'],\n",
    "    title=\"Comparison of Male vs. Female Ketoacidosis Diabetes Mortality Rates by State\",\n",
    "    labels={'value': 'Mortality Rate per 100,000', 'variable': 'Gender'},\n",
    "    barmode='group',\n",
    "    color_discrete_map={'SEXF': 'pink', 'SEXM': 'lightblue'}\n",
    ")\n",
    "\n",
    "# Show the plot\n",
    "fig.show()\n"
   ]
  },
  {
   "cell_type": "code",
   "execution_count": null,
   "id": "2aa10359",
   "metadata": {},
   "outputs": [],
   "source": []
  }
 ],
 "metadata": {
  "kernelspec": {
   "display_name": "Python 3 (ipykernel)",
   "language": "python",
   "name": "python3"
  },
  "language_info": {
   "codemirror_mode": {
    "name": "ipython",
    "version": 3
   },
   "file_extension": ".py",
   "mimetype": "text/x-python",
   "name": "python",
   "nbconvert_exporter": "python",
   "pygments_lexer": "ipython3",
   "version": "3.11.5"
  }
 },
 "nbformat": 4,
 "nbformat_minor": 5
}
