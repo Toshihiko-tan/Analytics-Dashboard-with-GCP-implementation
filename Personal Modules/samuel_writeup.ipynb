{
 "cells": [
  {
   "cell_type": "markdown",
   "metadata": {},
   "source": [
    "Our goal is to predict the percentage of diabetes patients among adults using different predictors."
   ]
  },
  {
   "cell_type": "markdown",
   "metadata": {},
   "source": [
    "Then, we want to examine the total number of data points we have for each state, regardless the question. Our assumption is that the number of data points differ by states, where states with higher population, like New York, California, and Texas have more data points than others.\n",
    "\n",
    "We have created a heatmap to visualize the data points we have, with colors that are more yellow have more data points than others. Indeed, we can see from the heatmap that states with higher population, New York, Washington, California, and Texas have the most data points. Wyoming, South Dakota, North Dakota, Idaho, and Montana are agriculture states with less population, and hence have less data points than other states."
   ]
  },
  {
   "cell_type": "markdown",
   "metadata": {},
   "source": [
    "Then, we want to visualize our response variable, DIA01, or precentage of diabete patients among adults. Our assumption is that the percentage of diabetes among adults varies by states, but not by time.\n",
    "\n",
    "Again, we have created a heatmap with sliders to select the data year we have. For our response variable, we have four years of data, from 2019 to 2022. Immediately, we discovered that 2020 and 2021 have the exact same data. After using the original dataset to verify that this is indeed the case, we believe that this is due to government cannot collect data from people during the covid-19 pandemic, so the data was used for the consecutive two years. Other than that, we can see that there does to seem some effect of year on the percentage of diabetes patients among adults. Specifically, the year 2022 has generally lower diabete rates across all states than previous years.\n",
    "Also, we can see that there seems to be some significance relationship between state and percentage of diabete patients among adults. Specifically, southern states seem to have higher percentage of diabetes patients among adults than any other regions, but West Virginia has the highest percentage of diabetes patients among adults than any other states."
   ]
  },
  {
   "cell_type": "markdown",
   "metadata": {},
   "source": [
    "We have also visualized the percentage of Gestational diabetes among women with a recent live birth using a heatmap. Our assumption is that, again, this would differ much by states, and would have similar distribution to our response variable.\n",
    "\n",
    "From the heatmap, we can immediately see that there are many missing values for multiple states. Specifically, California, Texas, and Nevada are missing all three years of data from 2019 to 2021. These are some of the most populated states in Amercica, so we should definitely take that into consideration.\n",
    "We can see that the distribution of this variable, in fact, is quite different from our reponse variable, percentage of diabetes patients in adults. States like New York, South Dakota, Washington, and Oregon, which don't have very high percentage of diabetes patients in adults, have much higher percentage of Gestational diabetes among women with a recent live birth. This is quite different from our assumption, and it requires further inspection when we fit the machine learning model."
   ]
  },
  {
   "cell_type": "markdown",
   "metadata": {},
   "source": [
    "Then, we visualized another predictor variable, Diabetes Ketoacidosis Mortality Rate (per 100,000). We plot a pivottable by state and race. Our assumption is that Diabetes Ketoacidosis Mortality Rate will differ more by states and not much by race.\n",
    "\n",
    "Again, we can immediately see that the data is missing for most races except white and black. There is, however, valid data for all of the states. Therefore, we have to consider how representative this data is of the diverse ethnicities in America. We can immediately see that native Americans of Oklahoma, a state where native Americans reside traditionally, have the highest Diabetes Ketoacidosis Mortality Rate (per 100,000) across the years where the data is available. While other states generally have similar mortality rates, Kentucky and Nevada are two states that constantly have higher Diabetes Ketoacidosis Mortality Rate for both white and black demographics."
   ]
  },
  {
   "cell_type": "markdown",
   "metadata": {},
   "source": [
    "We have also plot the Diabetes Ketoacidosis Mortality Rate (per 100,000) against sex by state. Our assumption is that the Diabetes Ketoacidosis Mortality Rate is affected by sex. \n",
    "Indeed, our assumption is true, and we can see that the Diabetes Ketoacidosis Mortality Rate for male is higher in almost all the states across every year which data is available. In fact, in states like New Mexico, Nevada, and Oklohama, the Diabetes Ketoacidosis Mortality Rate for male is much higher than that of female's mortality rate."
   ]
  },
  {
   "cell_type": "markdown",
   "metadata": {},
   "source": [
    "We have also plotted the predictor variable Mortality Rate of diabetes with a line plot with data from 2019 to 2021. Our assumption is that it does change with time.\n",
    "\n",
    "After examining the line plot or all the states, we can see that for most of the states, the Mortality Rate of diabetes do increase with time from 2019 to 2021, as the mortality rate of 2021 is generally higher than the mortality rate of 2019. There are, however, some states, like New York, that have a decreasing diabetes mortality rate from 2020 to 2021."
   ]
  },
  {
   "cell_type": "markdown",
   "metadata": {},
   "source": [
    "Lastly, we plot the correlation heatmap of our predictor and response variable. Our assumption is that there are some correlation between the predictor variables, due to the nature of the predictor variables.\n",
    "\n",
    "The result is actually not quite what we were expecting. There doesn't seem to be high correlation between the predicting variables, so multicollinearity might not be as big a problem as we thought. The only pair we might need to keep an eye on are DIA03 and DIA04, further diagnosis might be needed in model selection process."
   ]
  },
  {
   "cell_type": "markdown",
   "metadata": {},
   "source": [
    "Below is the overview of our cleaned dataframe."
   ]
  },
  {
   "cell_type": "markdown",
   "metadata": {},
   "source": [
    "First, we want to display some basic histogram and barplots from the dataset. For the bar chart of QuestionID, we can see the count of questions representing our predictor variables: DIA02 (Gestational diabetes among women with a recent live birth), DIA03 (Diabetes mortality among all people, underlying or contributing cause), DIA04 (Diabetic ketoacidosis mortality among all people, underlying or contributing cause), and our response variable DIA01 (Diabetes among adults). We can see that DIA03 has the highest count, followed closely by DIA01 and DIA04, while DIA02 has the lowest count.\n",
    "For the histogram, we can examine the distribution of the data values and low/high confidence limit. Most of the variables displayed here seem to be heavily skewed to the right."
   ]
  },
  {
   "cell_type": "markdown",
   "metadata": {},
   "source": [
    "Then, we want to examine the count of different questions by states. Considering that the data points of each state are most likely determined by population size and how active the research of diabetes are in these states, we assumed that the distribution of count of questions by states wouldn't differ too much.\n",
    "\n",
    "However, the bar chart suggests that the distribution of count of questions by states do differ from questions and questions. While states like California, New York, and Washington mostly have high counts in all four questions, the other states vary quite a lot switching from question to question."
   ]
  },
  {
   "cell_type": "markdown",
   "metadata": {},
   "source": [
    "The Boxplot is great for displaying the relationship between different variables and the year they were recorded in. Our assumption is that all the data are conducted in a similar timeframe.\n",
    "\n",
    "Indeed, after examine different boxplots between year and multiple other features, like the location where the survey took place, we can confirm that indeed, most of the data are collected in a similar timeframe."
   ]
  },
  {
   "cell_type": "markdown",
   "metadata": {},
   "source": [
    "Then, we want to explore the correlation between predictor and response variables. Our assumption is that there is some correlation between the predictor variables, due to the way how these survey questions are structured, and that they are all about the topic of diabetes.\n",
    "\n",
    "For the predictor variables, we can see from the pair plots that there doesn't seem to be very high correlation between DIA04 and DIA01, DIA02, DIA03. There seems to be some weak positive correlation between DIA02 and DIA03, as well as DIA02 and DIA04. So there indeed seems to be some positive correlation between the predictor variables, like we assumed. For our response variable, We can see that DIA01 seems to have weak positive correlation betwen all DIA02, DIA03, and DIA04."
   ]
  }
 ],
 "metadata": {
  "language_info": {
   "name": "python"
  }
 },
 "nbformat": 4,
 "nbformat_minor": 2
}
