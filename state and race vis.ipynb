{
 "cells": [
  {
   "cell_type": "code",
   "execution_count": 1,
   "id": "db4f6644",
   "metadata": {},
   "outputs": [],
   "source": [
    "import pandas as pd\n",
    "import numpy as np\n",
    "import plotly.express as px"
   ]
  },
  {
   "cell_type": "code",
   "execution_count": 2,
   "id": "74e5f36a",
   "metadata": {},
   "outputs": [
    {
     "data": {
      "text/html": [
       "<div>\n",
       "<style scoped>\n",
       "    .dataframe tbody tr th:only-of-type {\n",
       "        vertical-align: middle;\n",
       "    }\n",
       "\n",
       "    .dataframe tbody tr th {\n",
       "        vertical-align: top;\n",
       "    }\n",
       "\n",
       "    .dataframe thead th {\n",
       "        text-align: right;\n",
       "    }\n",
       "</style>\n",
       "<table border=\"1\" class=\"dataframe\">\n",
       "  <thead>\n",
       "    <tr style=\"text-align: right;\">\n",
       "      <th></th>\n",
       "      <th>Unnamed: 0.1</th>\n",
       "      <th>Unnamed: 0</th>\n",
       "      <th>LocationAbbr</th>\n",
       "      <th>DataSource</th>\n",
       "      <th>DataValueUnit</th>\n",
       "      <th>DataValue</th>\n",
       "      <th>DataValueAlt</th>\n",
       "      <th>LowConfidenceLimit</th>\n",
       "      <th>HighConfidenceLimit</th>\n",
       "      <th>TopicID</th>\n",
       "      <th>QuestionID</th>\n",
       "      <th>DataValueTypeID</th>\n",
       "      <th>StratificationCategoryID1</th>\n",
       "      <th>StratificationID1</th>\n",
       "      <th>Year</th>\n",
       "    </tr>\n",
       "  </thead>\n",
       "  <tbody>\n",
       "    <tr>\n",
       "      <th>17</th>\n",
       "      <td>17</td>\n",
       "      <td>14098</td>\n",
       "      <td>AZ</td>\n",
       "      <td>NVSS</td>\n",
       "      <td>cases per 100,000</td>\n",
       "      <td>1.6</td>\n",
       "      <td>1.6</td>\n",
       "      <td>1.3</td>\n",
       "      <td>2.1</td>\n",
       "      <td>DIA</td>\n",
       "      <td>DIA04</td>\n",
       "      <td>CRDRATE</td>\n",
       "      <td>RACE</td>\n",
       "      <td>WHT</td>\n",
       "      <td>2019</td>\n",
       "    </tr>\n",
       "    <tr>\n",
       "      <th>34</th>\n",
       "      <td>34</td>\n",
       "      <td>15093</td>\n",
       "      <td>AL</td>\n",
       "      <td>NVSS</td>\n",
       "      <td>cases per 100,000</td>\n",
       "      <td>2.5</td>\n",
       "      <td>2.5</td>\n",
       "      <td>1.7</td>\n",
       "      <td>3.5</td>\n",
       "      <td>DIA</td>\n",
       "      <td>DIA04</td>\n",
       "      <td>CRDRATE</td>\n",
       "      <td>RACE</td>\n",
       "      <td>BLK</td>\n",
       "      <td>2019</td>\n",
       "    </tr>\n",
       "    <tr>\n",
       "      <th>72</th>\n",
       "      <td>72</td>\n",
       "      <td>17445</td>\n",
       "      <td>AL</td>\n",
       "      <td>NVSS</td>\n",
       "      <td>cases per 100,000</td>\n",
       "      <td>2.6</td>\n",
       "      <td>2.6</td>\n",
       "      <td>2.0</td>\n",
       "      <td>3.2</td>\n",
       "      <td>DIA</td>\n",
       "      <td>DIA04</td>\n",
       "      <td>CRDRATE</td>\n",
       "      <td>RACE</td>\n",
       "      <td>WHT</td>\n",
       "      <td>2019</td>\n",
       "    </tr>\n",
       "    <tr>\n",
       "      <th>151</th>\n",
       "      <td>151</td>\n",
       "      <td>21803</td>\n",
       "      <td>AR</td>\n",
       "      <td>NVSS</td>\n",
       "      <td>cases per 100,000</td>\n",
       "      <td>2.1</td>\n",
       "      <td>2.1</td>\n",
       "      <td>1.5</td>\n",
       "      <td>2.8</td>\n",
       "      <td>DIA</td>\n",
       "      <td>DIA04</td>\n",
       "      <td>CRDRATE</td>\n",
       "      <td>RACE</td>\n",
       "      <td>WHT</td>\n",
       "      <td>2019</td>\n",
       "    </tr>\n",
       "    <tr>\n",
       "      <th>163</th>\n",
       "      <td>163</td>\n",
       "      <td>22338</td>\n",
       "      <td>AZ</td>\n",
       "      <td>NVSS</td>\n",
       "      <td>cases per 100,000</td>\n",
       "      <td>0.9</td>\n",
       "      <td>0.9</td>\n",
       "      <td>0.5</td>\n",
       "      <td>1.3</td>\n",
       "      <td>DIA</td>\n",
       "      <td>DIA04</td>\n",
       "      <td>CRDRATE</td>\n",
       "      <td>RACE</td>\n",
       "      <td>HIS</td>\n",
       "      <td>2019</td>\n",
       "    </tr>\n",
       "    <tr>\n",
       "      <th>252</th>\n",
       "      <td>252</td>\n",
       "      <td>27083</td>\n",
       "      <td>FL</td>\n",
       "      <td>NVSS</td>\n",
       "      <td>cases per 100,000</td>\n",
       "      <td>1.5</td>\n",
       "      <td>1.5</td>\n",
       "      <td>1.2</td>\n",
       "      <td>1.7</td>\n",
       "      <td>DIA</td>\n",
       "      <td>DIA04</td>\n",
       "      <td>CRDRATE</td>\n",
       "      <td>RACE</td>\n",
       "      <td>WHT</td>\n",
       "      <td>2019</td>\n",
       "    </tr>\n",
       "    <tr>\n",
       "      <th>255</th>\n",
       "      <td>255</td>\n",
       "      <td>27144</td>\n",
       "      <td>CO</td>\n",
       "      <td>NVSS</td>\n",
       "      <td>cases per 100,000</td>\n",
       "      <td>1.6</td>\n",
       "      <td>1.6</td>\n",
       "      <td>1.2</td>\n",
       "      <td>2.1</td>\n",
       "      <td>DIA</td>\n",
       "      <td>DIA04</td>\n",
       "      <td>CRDRATE</td>\n",
       "      <td>RACE</td>\n",
       "      <td>WHT</td>\n",
       "      <td>2019</td>\n",
       "    </tr>\n",
       "    <tr>\n",
       "      <th>270</th>\n",
       "      <td>270</td>\n",
       "      <td>27561</td>\n",
       "      <td>CA</td>\n",
       "      <td>NVSS</td>\n",
       "      <td>cases per 100,000</td>\n",
       "      <td>1.2</td>\n",
       "      <td>1.2</td>\n",
       "      <td>1.0</td>\n",
       "      <td>1.3</td>\n",
       "      <td>DIA</td>\n",
       "      <td>DIA04</td>\n",
       "      <td>CRDRATE</td>\n",
       "      <td>RACE</td>\n",
       "      <td>HIS</td>\n",
       "      <td>2019</td>\n",
       "    </tr>\n",
       "    <tr>\n",
       "      <th>296</th>\n",
       "      <td>296</td>\n",
       "      <td>28359</td>\n",
       "      <td>GA</td>\n",
       "      <td>NVSS</td>\n",
       "      <td>cases per 100,000</td>\n",
       "      <td>1.8</td>\n",
       "      <td>1.8</td>\n",
       "      <td>1.4</td>\n",
       "      <td>2.4</td>\n",
       "      <td>DIA</td>\n",
       "      <td>DIA04</td>\n",
       "      <td>CRDRATE</td>\n",
       "      <td>RACE</td>\n",
       "      <td>BLK</td>\n",
       "      <td>2019</td>\n",
       "    </tr>\n",
       "    <tr>\n",
       "      <th>316</th>\n",
       "      <td>316</td>\n",
       "      <td>28787</td>\n",
       "      <td>FL</td>\n",
       "      <td>NVSS</td>\n",
       "      <td>cases per 100,000</td>\n",
       "      <td>1.9</td>\n",
       "      <td>1.9</td>\n",
       "      <td>1.4</td>\n",
       "      <td>2.4</td>\n",
       "      <td>DIA</td>\n",
       "      <td>DIA04</td>\n",
       "      <td>CRDRATE</td>\n",
       "      <td>RACE</td>\n",
       "      <td>BLK</td>\n",
       "      <td>2019</td>\n",
       "    </tr>\n",
       "    <tr>\n",
       "      <th>415</th>\n",
       "      <td>415</td>\n",
       "      <td>31882</td>\n",
       "      <td>CA</td>\n",
       "      <td>NVSS</td>\n",
       "      <td>cases per 100,000</td>\n",
       "      <td>1.0</td>\n",
       "      <td>1.0</td>\n",
       "      <td>0.8</td>\n",
       "      <td>1.3</td>\n",
       "      <td>DIA</td>\n",
       "      <td>DIA04</td>\n",
       "      <td>CRDRATE</td>\n",
       "      <td>RACE</td>\n",
       "      <td>ASN</td>\n",
       "      <td>2019</td>\n",
       "    </tr>\n",
       "    <tr>\n",
       "      <th>442</th>\n",
       "      <td>442</td>\n",
       "      <td>32573</td>\n",
       "      <td>CA</td>\n",
       "      <td>NVSS</td>\n",
       "      <td>cases per 100,000</td>\n",
       "      <td>1.8</td>\n",
       "      <td>1.8</td>\n",
       "      <td>1.6</td>\n",
       "      <td>2.1</td>\n",
       "      <td>DIA</td>\n",
       "      <td>DIA04</td>\n",
       "      <td>CRDRATE</td>\n",
       "      <td>RACE</td>\n",
       "      <td>WHT</td>\n",
       "      <td>2019</td>\n",
       "    </tr>\n",
       "    <tr>\n",
       "      <th>535</th>\n",
       "      <td>535</td>\n",
       "      <td>35088</td>\n",
       "      <td>FL</td>\n",
       "      <td>NVSS</td>\n",
       "      <td>cases per 100,000</td>\n",
       "      <td>0.6</td>\n",
       "      <td>0.6</td>\n",
       "      <td>0.4</td>\n",
       "      <td>0.8</td>\n",
       "      <td>DIA</td>\n",
       "      <td>DIA04</td>\n",
       "      <td>CRDRATE</td>\n",
       "      <td>RACE</td>\n",
       "      <td>HIS</td>\n",
       "      <td>2019</td>\n",
       "    </tr>\n",
       "    <tr>\n",
       "      <th>542</th>\n",
       "      <td>542</td>\n",
       "      <td>35298</td>\n",
       "      <td>CT</td>\n",
       "      <td>NVSS</td>\n",
       "      <td>cases per 100,000</td>\n",
       "      <td>1.2</td>\n",
       "      <td>1.2</td>\n",
       "      <td>0.8</td>\n",
       "      <td>1.7</td>\n",
       "      <td>DIA</td>\n",
       "      <td>DIA04</td>\n",
       "      <td>CRDRATE</td>\n",
       "      <td>RACE</td>\n",
       "      <td>WHT</td>\n",
       "      <td>2019</td>\n",
       "    </tr>\n",
       "    <tr>\n",
       "      <th>573</th>\n",
       "      <td>573</td>\n",
       "      <td>36227</td>\n",
       "      <td>GA</td>\n",
       "      <td>NVSS</td>\n",
       "      <td>cases per 100,000</td>\n",
       "      <td>1.4</td>\n",
       "      <td>1.4</td>\n",
       "      <td>1.1</td>\n",
       "      <td>1.8</td>\n",
       "      <td>DIA</td>\n",
       "      <td>DIA04</td>\n",
       "      <td>CRDRATE</td>\n",
       "      <td>RACE</td>\n",
       "      <td>WHT</td>\n",
       "      <td>2019</td>\n",
       "    </tr>\n",
       "    <tr>\n",
       "      <th>605</th>\n",
       "      <td>605</td>\n",
       "      <td>37116</td>\n",
       "      <td>CA</td>\n",
       "      <td>NVSS</td>\n",
       "      <td>cases per 100,000</td>\n",
       "      <td>2.8</td>\n",
       "      <td>2.8</td>\n",
       "      <td>2.1</td>\n",
       "      <td>3.6</td>\n",
       "      <td>DIA</td>\n",
       "      <td>DIA04</td>\n",
       "      <td>CRDRATE</td>\n",
       "      <td>RACE</td>\n",
       "      <td>BLK</td>\n",
       "      <td>2019</td>\n",
       "    </tr>\n",
       "    <tr>\n",
       "      <th>874</th>\n",
       "      <td>874</td>\n",
       "      <td>45087</td>\n",
       "      <td>LA</td>\n",
       "      <td>NVSS</td>\n",
       "      <td>cases per 100,000</td>\n",
       "      <td>2.1</td>\n",
       "      <td>2.1</td>\n",
       "      <td>1.5</td>\n",
       "      <td>3.0</td>\n",
       "      <td>DIA</td>\n",
       "      <td>DIA04</td>\n",
       "      <td>CRDRATE</td>\n",
       "      <td>RACE</td>\n",
       "      <td>BLK</td>\n",
       "      <td>2019</td>\n",
       "    </tr>\n",
       "    <tr>\n",
       "      <th>933</th>\n",
       "      <td>933</td>\n",
       "      <td>46660</td>\n",
       "      <td>IN</td>\n",
       "      <td>NVSS</td>\n",
       "      <td>cases per 100,000</td>\n",
       "      <td>2.7</td>\n",
       "      <td>2.7</td>\n",
       "      <td>2.2</td>\n",
       "      <td>3.1</td>\n",
       "      <td>DIA</td>\n",
       "      <td>DIA04</td>\n",
       "      <td>CRDRATE</td>\n",
       "      <td>RACE</td>\n",
       "      <td>WHT</td>\n",
       "      <td>2019</td>\n",
       "    </tr>\n",
       "    <tr>\n",
       "      <th>944</th>\n",
       "      <td>944</td>\n",
       "      <td>46890</td>\n",
       "      <td>IA</td>\n",
       "      <td>NVSS</td>\n",
       "      <td>cases per 100,000</td>\n",
       "      <td>1.3</td>\n",
       "      <td>1.3</td>\n",
       "      <td>0.9</td>\n",
       "      <td>1.8</td>\n",
       "      <td>DIA</td>\n",
       "      <td>DIA04</td>\n",
       "      <td>CRDRATE</td>\n",
       "      <td>RACE</td>\n",
       "      <td>WHT</td>\n",
       "      <td>2019</td>\n",
       "    </tr>\n",
       "    <tr>\n",
       "      <th>980</th>\n",
       "      <td>980</td>\n",
       "      <td>47895</td>\n",
       "      <td>IL</td>\n",
       "      <td>NVSS</td>\n",
       "      <td>cases per 100,000</td>\n",
       "      <td>1.3</td>\n",
       "      <td>1.3</td>\n",
       "      <td>1.0</td>\n",
       "      <td>1.6</td>\n",
       "      <td>DIA</td>\n",
       "      <td>DIA04</td>\n",
       "      <td>CRDRATE</td>\n",
       "      <td>RACE</td>\n",
       "      <td>WHT</td>\n",
       "      <td>2019</td>\n",
       "    </tr>\n",
       "    <tr>\n",
       "      <th>991</th>\n",
       "      <td>991</td>\n",
       "      <td>48227</td>\n",
       "      <td>KY</td>\n",
       "      <td>NVSS</td>\n",
       "      <td>cases per 100,000</td>\n",
       "      <td>3.5</td>\n",
       "      <td>3.5</td>\n",
       "      <td>2.9</td>\n",
       "      <td>4.1</td>\n",
       "      <td>DIA</td>\n",
       "      <td>DIA04</td>\n",
       "      <td>CRDRATE</td>\n",
       "      <td>RACE</td>\n",
       "      <td>WHT</td>\n",
       "      <td>2019</td>\n",
       "    </tr>\n",
       "    <tr>\n",
       "      <th>1007</th>\n",
       "      <td>1007</td>\n",
       "      <td>48828</td>\n",
       "      <td>IL</td>\n",
       "      <td>NVSS</td>\n",
       "      <td>cases per 100,000</td>\n",
       "      <td>2.7</td>\n",
       "      <td>2.7</td>\n",
       "      <td>2.0</td>\n",
       "      <td>3.6</td>\n",
       "      <td>DIA</td>\n",
       "      <td>DIA04</td>\n",
       "      <td>CRDRATE</td>\n",
       "      <td>RACE</td>\n",
       "      <td>BLK</td>\n",
       "      <td>2019</td>\n",
       "    </tr>\n",
       "    <tr>\n",
       "      <th>1018</th>\n",
       "      <td>1018</td>\n",
       "      <td>49050</td>\n",
       "      <td>LA</td>\n",
       "      <td>NVSS</td>\n",
       "      <td>cases per 100,000</td>\n",
       "      <td>1.5</td>\n",
       "      <td>1.5</td>\n",
       "      <td>1.1</td>\n",
       "      <td>2.0</td>\n",
       "      <td>DIA</td>\n",
       "      <td>DIA04</td>\n",
       "      <td>CRDRATE</td>\n",
       "      <td>RACE</td>\n",
       "      <td>WHT</td>\n",
       "      <td>2019</td>\n",
       "    </tr>\n",
       "    <tr>\n",
       "      <th>1144</th>\n",
       "      <td>1144</td>\n",
       "      <td>52202</td>\n",
       "      <td>KS</td>\n",
       "      <td>NVSS</td>\n",
       "      <td>cases per 100,000</td>\n",
       "      <td>1.8</td>\n",
       "      <td>1.8</td>\n",
       "      <td>1.3</td>\n",
       "      <td>2.5</td>\n",
       "      <td>DIA</td>\n",
       "      <td>DIA04</td>\n",
       "      <td>CRDRATE</td>\n",
       "      <td>RACE</td>\n",
       "      <td>WHT</td>\n",
       "      <td>2019</td>\n",
       "    </tr>\n",
       "    <tr>\n",
       "      <th>1226</th>\n",
       "      <td>1226</td>\n",
       "      <td>54713</td>\n",
       "      <td>ME</td>\n",
       "      <td>NVSS</td>\n",
       "      <td>cases per 100,000</td>\n",
       "      <td>1.8</td>\n",
       "      <td>1.8</td>\n",
       "      <td>1.1</td>\n",
       "      <td>2.7</td>\n",
       "      <td>DIA</td>\n",
       "      <td>DIA04</td>\n",
       "      <td>CRDRATE</td>\n",
       "      <td>RACE</td>\n",
       "      <td>WHT</td>\n",
       "      <td>2019</td>\n",
       "    </tr>\n",
       "    <tr>\n",
       "      <th>1248</th>\n",
       "      <td>1248</td>\n",
       "      <td>55303</td>\n",
       "      <td>MD</td>\n",
       "      <td>NVSS</td>\n",
       "      <td>cases per 100,000</td>\n",
       "      <td>2.1</td>\n",
       "      <td>2.1</td>\n",
       "      <td>1.7</td>\n",
       "      <td>2.7</td>\n",
       "      <td>DIA</td>\n",
       "      <td>DIA04</td>\n",
       "      <td>CRDRATE</td>\n",
       "      <td>RACE</td>\n",
       "      <td>WHT</td>\n",
       "      <td>2019</td>\n",
       "    </tr>\n",
       "    <tr>\n",
       "      <th>1313</th>\n",
       "      <td>1313</td>\n",
       "      <td>56994</td>\n",
       "      <td>MS</td>\n",
       "      <td>NVSS</td>\n",
       "      <td>cases per 100,000</td>\n",
       "      <td>1.5</td>\n",
       "      <td>1.5</td>\n",
       "      <td>1.0</td>\n",
       "      <td>2.2</td>\n",
       "      <td>DIA</td>\n",
       "      <td>DIA04</td>\n",
       "      <td>CRDRATE</td>\n",
       "      <td>RACE</td>\n",
       "      <td>WHT</td>\n",
       "      <td>2019</td>\n",
       "    </tr>\n",
       "    <tr>\n",
       "      <th>1414</th>\n",
       "      <td>1414</td>\n",
       "      <td>59534</td>\n",
       "      <td>MD</td>\n",
       "      <td>NVSS</td>\n",
       "      <td>cases per 100,000</td>\n",
       "      <td>3.4</td>\n",
       "      <td>3.4</td>\n",
       "      <td>2.6</td>\n",
       "      <td>4.3</td>\n",
       "      <td>DIA</td>\n",
       "      <td>DIA04</td>\n",
       "      <td>CRDRATE</td>\n",
       "      <td>RACE</td>\n",
       "      <td>BLK</td>\n",
       "      <td>2019</td>\n",
       "    </tr>\n",
       "    <tr>\n",
       "      <th>1425</th>\n",
       "      <td>1425</td>\n",
       "      <td>59821</td>\n",
       "      <td>MI</td>\n",
       "      <td>NVSS</td>\n",
       "      <td>cases per 100,000</td>\n",
       "      <td>1.4</td>\n",
       "      <td>1.4</td>\n",
       "      <td>1.1</td>\n",
       "      <td>1.6</td>\n",
       "      <td>DIA</td>\n",
       "      <td>DIA04</td>\n",
       "      <td>CRDRATE</td>\n",
       "      <td>RACE</td>\n",
       "      <td>WHT</td>\n",
       "      <td>2019</td>\n",
       "    </tr>\n",
       "    <tr>\n",
       "      <th>1474</th>\n",
       "      <td>1474</td>\n",
       "      <td>61263</td>\n",
       "      <td>MS</td>\n",
       "      <td>NVSS</td>\n",
       "      <td>cases per 100,000</td>\n",
       "      <td>2.0</td>\n",
       "      <td>2.0</td>\n",
       "      <td>1.2</td>\n",
       "      <td>3.0</td>\n",
       "      <td>DIA</td>\n",
       "      <td>DIA04</td>\n",
       "      <td>CRDRATE</td>\n",
       "      <td>RACE</td>\n",
       "      <td>BLK</td>\n",
       "      <td>2019</td>\n",
       "    </tr>\n",
       "  </tbody>\n",
       "</table>\n",
       "</div>"
      ],
      "text/plain": [
       "      Unnamed: 0.1  Unnamed: 0 LocationAbbr DataSource      DataValueUnit  \\\n",
       "17              17       14098           AZ       NVSS  cases per 100,000   \n",
       "34              34       15093           AL       NVSS  cases per 100,000   \n",
       "72              72       17445           AL       NVSS  cases per 100,000   \n",
       "151            151       21803           AR       NVSS  cases per 100,000   \n",
       "163            163       22338           AZ       NVSS  cases per 100,000   \n",
       "252            252       27083           FL       NVSS  cases per 100,000   \n",
       "255            255       27144           CO       NVSS  cases per 100,000   \n",
       "270            270       27561           CA       NVSS  cases per 100,000   \n",
       "296            296       28359           GA       NVSS  cases per 100,000   \n",
       "316            316       28787           FL       NVSS  cases per 100,000   \n",
       "415            415       31882           CA       NVSS  cases per 100,000   \n",
       "442            442       32573           CA       NVSS  cases per 100,000   \n",
       "535            535       35088           FL       NVSS  cases per 100,000   \n",
       "542            542       35298           CT       NVSS  cases per 100,000   \n",
       "573            573       36227           GA       NVSS  cases per 100,000   \n",
       "605            605       37116           CA       NVSS  cases per 100,000   \n",
       "874            874       45087           LA       NVSS  cases per 100,000   \n",
       "933            933       46660           IN       NVSS  cases per 100,000   \n",
       "944            944       46890           IA       NVSS  cases per 100,000   \n",
       "980            980       47895           IL       NVSS  cases per 100,000   \n",
       "991            991       48227           KY       NVSS  cases per 100,000   \n",
       "1007          1007       48828           IL       NVSS  cases per 100,000   \n",
       "1018          1018       49050           LA       NVSS  cases per 100,000   \n",
       "1144          1144       52202           KS       NVSS  cases per 100,000   \n",
       "1226          1226       54713           ME       NVSS  cases per 100,000   \n",
       "1248          1248       55303           MD       NVSS  cases per 100,000   \n",
       "1313          1313       56994           MS       NVSS  cases per 100,000   \n",
       "1414          1414       59534           MD       NVSS  cases per 100,000   \n",
       "1425          1425       59821           MI       NVSS  cases per 100,000   \n",
       "1474          1474       61263           MS       NVSS  cases per 100,000   \n",
       "\n",
       "      DataValue  DataValueAlt  LowConfidenceLimit  HighConfidenceLimit  \\\n",
       "17          1.6           1.6                 1.3                  2.1   \n",
       "34          2.5           2.5                 1.7                  3.5   \n",
       "72          2.6           2.6                 2.0                  3.2   \n",
       "151         2.1           2.1                 1.5                  2.8   \n",
       "163         0.9           0.9                 0.5                  1.3   \n",
       "252         1.5           1.5                 1.2                  1.7   \n",
       "255         1.6           1.6                 1.2                  2.1   \n",
       "270         1.2           1.2                 1.0                  1.3   \n",
       "296         1.8           1.8                 1.4                  2.4   \n",
       "316         1.9           1.9                 1.4                  2.4   \n",
       "415         1.0           1.0                 0.8                  1.3   \n",
       "442         1.8           1.8                 1.6                  2.1   \n",
       "535         0.6           0.6                 0.4                  0.8   \n",
       "542         1.2           1.2                 0.8                  1.7   \n",
       "573         1.4           1.4                 1.1                  1.8   \n",
       "605         2.8           2.8                 2.1                  3.6   \n",
       "874         2.1           2.1                 1.5                  3.0   \n",
       "933         2.7           2.7                 2.2                  3.1   \n",
       "944         1.3           1.3                 0.9                  1.8   \n",
       "980         1.3           1.3                 1.0                  1.6   \n",
       "991         3.5           3.5                 2.9                  4.1   \n",
       "1007        2.7           2.7                 2.0                  3.6   \n",
       "1018        1.5           1.5                 1.1                  2.0   \n",
       "1144        1.8           1.8                 1.3                  2.5   \n",
       "1226        1.8           1.8                 1.1                  2.7   \n",
       "1248        2.1           2.1                 1.7                  2.7   \n",
       "1313        1.5           1.5                 1.0                  2.2   \n",
       "1414        3.4           3.4                 2.6                  4.3   \n",
       "1425        1.4           1.4                 1.1                  1.6   \n",
       "1474        2.0           2.0                 1.2                  3.0   \n",
       "\n",
       "     TopicID QuestionID DataValueTypeID StratificationCategoryID1  \\\n",
       "17       DIA      DIA04         CRDRATE                      RACE   \n",
       "34       DIA      DIA04         CRDRATE                      RACE   \n",
       "72       DIA      DIA04         CRDRATE                      RACE   \n",
       "151      DIA      DIA04         CRDRATE                      RACE   \n",
       "163      DIA      DIA04         CRDRATE                      RACE   \n",
       "252      DIA      DIA04         CRDRATE                      RACE   \n",
       "255      DIA      DIA04         CRDRATE                      RACE   \n",
       "270      DIA      DIA04         CRDRATE                      RACE   \n",
       "296      DIA      DIA04         CRDRATE                      RACE   \n",
       "316      DIA      DIA04         CRDRATE                      RACE   \n",
       "415      DIA      DIA04         CRDRATE                      RACE   \n",
       "442      DIA      DIA04         CRDRATE                      RACE   \n",
       "535      DIA      DIA04         CRDRATE                      RACE   \n",
       "542      DIA      DIA04         CRDRATE                      RACE   \n",
       "573      DIA      DIA04         CRDRATE                      RACE   \n",
       "605      DIA      DIA04         CRDRATE                      RACE   \n",
       "874      DIA      DIA04         CRDRATE                      RACE   \n",
       "933      DIA      DIA04         CRDRATE                      RACE   \n",
       "944      DIA      DIA04         CRDRATE                      RACE   \n",
       "980      DIA      DIA04         CRDRATE                      RACE   \n",
       "991      DIA      DIA04         CRDRATE                      RACE   \n",
       "1007     DIA      DIA04         CRDRATE                      RACE   \n",
       "1018     DIA      DIA04         CRDRATE                      RACE   \n",
       "1144     DIA      DIA04         CRDRATE                      RACE   \n",
       "1226     DIA      DIA04         CRDRATE                      RACE   \n",
       "1248     DIA      DIA04         CRDRATE                      RACE   \n",
       "1313     DIA      DIA04         CRDRATE                      RACE   \n",
       "1414     DIA      DIA04         CRDRATE                      RACE   \n",
       "1425     DIA      DIA04         CRDRATE                      RACE   \n",
       "1474     DIA      DIA04         CRDRATE                      RACE   \n",
       "\n",
       "     StratificationID1  Year  \n",
       "17                 WHT  2019  \n",
       "34                 BLK  2019  \n",
       "72                 WHT  2019  \n",
       "151                WHT  2019  \n",
       "163                HIS  2019  \n",
       "252                WHT  2019  \n",
       "255                WHT  2019  \n",
       "270                HIS  2019  \n",
       "296                BLK  2019  \n",
       "316                BLK  2019  \n",
       "415                ASN  2019  \n",
       "442                WHT  2019  \n",
       "535                HIS  2019  \n",
       "542                WHT  2019  \n",
       "573                WHT  2019  \n",
       "605                BLK  2019  \n",
       "874                BLK  2019  \n",
       "933                WHT  2019  \n",
       "944                WHT  2019  \n",
       "980                WHT  2019  \n",
       "991                WHT  2019  \n",
       "1007               BLK  2019  \n",
       "1018               WHT  2019  \n",
       "1144               WHT  2019  \n",
       "1226               WHT  2019  \n",
       "1248               WHT  2019  \n",
       "1313               WHT  2019  \n",
       "1414               BLK  2019  \n",
       "1425               WHT  2019  \n",
       "1474               BLK  2019  "
      ]
     },
     "execution_count": 2,
     "metadata": {},
     "output_type": "execute_result"
    }
   ],
   "source": [
    "diabete_data = pd.read_csv(\"diabetes_data.csv\")\n",
    "filtered_data = diabete_data[(diabete_data['QuestionID'] == 'DIA04') &\n",
    "                    (diabete_data['StratificationCategoryID1'] == 'RACE') &\n",
    "                    (diabete_data['DataValueTypeID'] == 'CRDRATE')]\n",
    "#filtered_data.iloc[:30]"
   ]
  },
  {
   "cell_type": "code",
   "execution_count": 7,
   "id": "1fc8f823",
   "metadata": {},
   "outputs": [
    {
     "data": {
      "text/html": [
       "<div>\n",
       "<style scoped>\n",
       "    .dataframe tbody tr th:only-of-type {\n",
       "        vertical-align: middle;\n",
       "    }\n",
       "\n",
       "    .dataframe tbody tr th {\n",
       "        vertical-align: top;\n",
       "    }\n",
       "\n",
       "    .dataframe thead th {\n",
       "        text-align: right;\n",
       "    }\n",
       "</style>\n",
       "<table border=\"1\" class=\"dataframe\">\n",
       "  <thead>\n",
       "    <tr style=\"text-align: right;\">\n",
       "      <th></th>\n",
       "      <th>Unnamed: 0.1</th>\n",
       "      <th>Unnamed: 0</th>\n",
       "      <th>LocationAbbr</th>\n",
       "      <th>DataSource</th>\n",
       "      <th>DataValueUnit</th>\n",
       "      <th>DataValue</th>\n",
       "      <th>DataValueAlt</th>\n",
       "      <th>LowConfidenceLimit</th>\n",
       "      <th>HighConfidenceLimit</th>\n",
       "      <th>TopicID</th>\n",
       "      <th>QuestionID</th>\n",
       "      <th>DataValueTypeID</th>\n",
       "      <th>StratificationCategoryID1</th>\n",
       "      <th>StratificationID1</th>\n",
       "      <th>Year</th>\n",
       "    </tr>\n",
       "  </thead>\n",
       "  <tbody>\n",
       "    <tr>\n",
       "      <th>89</th>\n",
       "      <td>89</td>\n",
       "      <td>18824</td>\n",
       "      <td>AZ</td>\n",
       "      <td>NVSS</td>\n",
       "      <td>cases per 100,000</td>\n",
       "      <td>1.3</td>\n",
       "      <td>1.3</td>\n",
       "      <td>0.8</td>\n",
       "      <td>2.0</td>\n",
       "      <td>DIA</td>\n",
       "      <td>DIA04</td>\n",
       "      <td>AGEADJRATE</td>\n",
       "      <td>RACE</td>\n",
       "      <td>HIS</td>\n",
       "      <td>2019</td>\n",
       "    </tr>\n",
       "    <tr>\n",
       "      <th>92</th>\n",
       "      <td>92</td>\n",
       "      <td>18971</td>\n",
       "      <td>AR</td>\n",
       "      <td>NVSS</td>\n",
       "      <td>cases per 100,000</td>\n",
       "      <td>1.7</td>\n",
       "      <td>1.7</td>\n",
       "      <td>1.2</td>\n",
       "      <td>2.3</td>\n",
       "      <td>DIA</td>\n",
       "      <td>DIA04</td>\n",
       "      <td>AGEADJRATE</td>\n",
       "      <td>RACE</td>\n",
       "      <td>WHT</td>\n",
       "      <td>2019</td>\n",
       "    </tr>\n",
       "    <tr>\n",
       "      <th>153</th>\n",
       "      <td>153</td>\n",
       "      <td>21842</td>\n",
       "      <td>AZ</td>\n",
       "      <td>NVSS</td>\n",
       "      <td>cases per 100,000</td>\n",
       "      <td>1.3</td>\n",
       "      <td>1.3</td>\n",
       "      <td>1.0</td>\n",
       "      <td>1.7</td>\n",
       "      <td>DIA</td>\n",
       "      <td>DIA04</td>\n",
       "      <td>AGEADJRATE</td>\n",
       "      <td>RACE</td>\n",
       "      <td>WHT</td>\n",
       "      <td>2019</td>\n",
       "    </tr>\n",
       "    <tr>\n",
       "      <th>193</th>\n",
       "      <td>193</td>\n",
       "      <td>23893</td>\n",
       "      <td>AL</td>\n",
       "      <td>NVSS</td>\n",
       "      <td>cases per 100,000</td>\n",
       "      <td>2.6</td>\n",
       "      <td>2.6</td>\n",
       "      <td>1.8</td>\n",
       "      <td>3.8</td>\n",
       "      <td>DIA</td>\n",
       "      <td>DIA04</td>\n",
       "      <td>AGEADJRATE</td>\n",
       "      <td>RACE</td>\n",
       "      <td>BLK</td>\n",
       "      <td>2019</td>\n",
       "    </tr>\n",
       "    <tr>\n",
       "      <th>202</th>\n",
       "      <td>202</td>\n",
       "      <td>24425</td>\n",
       "      <td>AL</td>\n",
       "      <td>NVSS</td>\n",
       "      <td>cases per 100,000</td>\n",
       "      <td>1.9</td>\n",
       "      <td>1.9</td>\n",
       "      <td>1.5</td>\n",
       "      <td>2.4</td>\n",
       "      <td>DIA</td>\n",
       "      <td>DIA04</td>\n",
       "      <td>AGEADJRATE</td>\n",
       "      <td>RACE</td>\n",
       "      <td>WHT</td>\n",
       "      <td>2019</td>\n",
       "    </tr>\n",
       "    <tr>\n",
       "      <th>299</th>\n",
       "      <td>299</td>\n",
       "      <td>28422</td>\n",
       "      <td>FL</td>\n",
       "      <td>NVSS</td>\n",
       "      <td>cases per 100,000</td>\n",
       "      <td>1.9</td>\n",
       "      <td>1.9</td>\n",
       "      <td>1.4</td>\n",
       "      <td>2.4</td>\n",
       "      <td>DIA</td>\n",
       "      <td>DIA04</td>\n",
       "      <td>AGEADJRATE</td>\n",
       "      <td>RACE</td>\n",
       "      <td>BLK</td>\n",
       "      <td>2019</td>\n",
       "    </tr>\n",
       "    <tr>\n",
       "      <th>339</th>\n",
       "      <td>339</td>\n",
       "      <td>29338</td>\n",
       "      <td>CO</td>\n",
       "      <td>NVSS</td>\n",
       "      <td>cases per 100,000</td>\n",
       "      <td>1.4</td>\n",
       "      <td>1.4</td>\n",
       "      <td>1.0</td>\n",
       "      <td>1.8</td>\n",
       "      <td>DIA</td>\n",
       "      <td>DIA04</td>\n",
       "      <td>AGEADJRATE</td>\n",
       "      <td>RACE</td>\n",
       "      <td>WHT</td>\n",
       "      <td>2019</td>\n",
       "    </tr>\n",
       "    <tr>\n",
       "      <th>347</th>\n",
       "      <td>347</td>\n",
       "      <td>29663</td>\n",
       "      <td>FL</td>\n",
       "      <td>NVSS</td>\n",
       "      <td>cases per 100,000</td>\n",
       "      <td>0.6</td>\n",
       "      <td>0.6</td>\n",
       "      <td>0.4</td>\n",
       "      <td>0.8</td>\n",
       "      <td>DIA</td>\n",
       "      <td>DIA04</td>\n",
       "      <td>AGEADJRATE</td>\n",
       "      <td>RACE</td>\n",
       "      <td>HIS</td>\n",
       "      <td>2019</td>\n",
       "    </tr>\n",
       "    <tr>\n",
       "      <th>381</th>\n",
       "      <td>381</td>\n",
       "      <td>30881</td>\n",
       "      <td>CA</td>\n",
       "      <td>NVSS</td>\n",
       "      <td>cases per 100,000</td>\n",
       "      <td>2.6</td>\n",
       "      <td>2.6</td>\n",
       "      <td>2.0</td>\n",
       "      <td>3.3</td>\n",
       "      <td>DIA</td>\n",
       "      <td>DIA04</td>\n",
       "      <td>AGEADJRATE</td>\n",
       "      <td>RACE</td>\n",
       "      <td>BLK</td>\n",
       "      <td>2019</td>\n",
       "    </tr>\n",
       "    <tr>\n",
       "      <th>409</th>\n",
       "      <td>409</td>\n",
       "      <td>31669</td>\n",
       "      <td>CT</td>\n",
       "      <td>NVSS</td>\n",
       "      <td>cases per 100,000</td>\n",
       "      <td>0.9</td>\n",
       "      <td>0.9</td>\n",
       "      <td>0.6</td>\n",
       "      <td>1.4</td>\n",
       "      <td>DIA</td>\n",
       "      <td>DIA04</td>\n",
       "      <td>AGEADJRATE</td>\n",
       "      <td>RACE</td>\n",
       "      <td>WHT</td>\n",
       "      <td>2019</td>\n",
       "    </tr>\n",
       "    <tr>\n",
       "      <th>419</th>\n",
       "      <td>419</td>\n",
       "      <td>31952</td>\n",
       "      <td>GA</td>\n",
       "      <td>NVSS</td>\n",
       "      <td>cases per 100,000</td>\n",
       "      <td>1.2</td>\n",
       "      <td>1.2</td>\n",
       "      <td>1.0</td>\n",
       "      <td>1.5</td>\n",
       "      <td>DIA</td>\n",
       "      <td>DIA04</td>\n",
       "      <td>AGEADJRATE</td>\n",
       "      <td>RACE</td>\n",
       "      <td>WHT</td>\n",
       "      <td>2019</td>\n",
       "    </tr>\n",
       "    <tr>\n",
       "      <th>526</th>\n",
       "      <td>526</td>\n",
       "      <td>34838</td>\n",
       "      <td>CA</td>\n",
       "      <td>NVSS</td>\n",
       "      <td>cases per 100,000</td>\n",
       "      <td>1.4</td>\n",
       "      <td>1.4</td>\n",
       "      <td>1.2</td>\n",
       "      <td>1.5</td>\n",
       "      <td>DIA</td>\n",
       "      <td>DIA04</td>\n",
       "      <td>AGEADJRATE</td>\n",
       "      <td>RACE</td>\n",
       "      <td>WHT</td>\n",
       "      <td>2019</td>\n",
       "    </tr>\n",
       "    <tr>\n",
       "      <th>557</th>\n",
       "      <td>557</td>\n",
       "      <td>35852</td>\n",
       "      <td>CA</td>\n",
       "      <td>NVSS</td>\n",
       "      <td>cases per 100,000</td>\n",
       "      <td>0.8</td>\n",
       "      <td>0.8</td>\n",
       "      <td>0.6</td>\n",
       "      <td>1.1</td>\n",
       "      <td>DIA</td>\n",
       "      <td>DIA04</td>\n",
       "      <td>AGEADJRATE</td>\n",
       "      <td>RACE</td>\n",
       "      <td>ASN</td>\n",
       "      <td>2019</td>\n",
       "    </tr>\n",
       "    <tr>\n",
       "      <th>593</th>\n",
       "      <td>593</td>\n",
       "      <td>36816</td>\n",
       "      <td>FL</td>\n",
       "      <td>NVSS</td>\n",
       "      <td>cases per 100,000</td>\n",
       "      <td>1.1</td>\n",
       "      <td>1.1</td>\n",
       "      <td>0.9</td>\n",
       "      <td>1.2</td>\n",
       "      <td>DIA</td>\n",
       "      <td>DIA04</td>\n",
       "      <td>AGEADJRATE</td>\n",
       "      <td>RACE</td>\n",
       "      <td>WHT</td>\n",
       "      <td>2019</td>\n",
       "    </tr>\n",
       "    <tr>\n",
       "      <th>648</th>\n",
       "      <td>648</td>\n",
       "      <td>38489</td>\n",
       "      <td>GA</td>\n",
       "      <td>NVSS</td>\n",
       "      <td>cases per 100,000</td>\n",
       "      <td>1.9</td>\n",
       "      <td>1.9</td>\n",
       "      <td>1.5</td>\n",
       "      <td>2.5</td>\n",
       "      <td>DIA</td>\n",
       "      <td>DIA04</td>\n",
       "      <td>AGEADJRATE</td>\n",
       "      <td>RACE</td>\n",
       "      <td>BLK</td>\n",
       "      <td>2019</td>\n",
       "    </tr>\n",
       "    <tr>\n",
       "      <th>663</th>\n",
       "      <td>663</td>\n",
       "      <td>38832</td>\n",
       "      <td>CA</td>\n",
       "      <td>NVSS</td>\n",
       "      <td>cases per 100,000</td>\n",
       "      <td>1.6</td>\n",
       "      <td>1.6</td>\n",
       "      <td>1.4</td>\n",
       "      <td>1.8</td>\n",
       "      <td>DIA</td>\n",
       "      <td>DIA04</td>\n",
       "      <td>AGEADJRATE</td>\n",
       "      <td>RACE</td>\n",
       "      <td>HIS</td>\n",
       "      <td>2019</td>\n",
       "    </tr>\n",
       "    <tr>\n",
       "      <th>692</th>\n",
       "      <td>692</td>\n",
       "      <td>39857</td>\n",
       "      <td>LA</td>\n",
       "      <td>NVSS</td>\n",
       "      <td>cases per 100,000</td>\n",
       "      <td>1.3</td>\n",
       "      <td>1.3</td>\n",
       "      <td>0.9</td>\n",
       "      <td>1.7</td>\n",
       "      <td>DIA</td>\n",
       "      <td>DIA04</td>\n",
       "      <td>AGEADJRATE</td>\n",
       "      <td>RACE</td>\n",
       "      <td>WHT</td>\n",
       "      <td>2019</td>\n",
       "    </tr>\n",
       "    <tr>\n",
       "      <th>720</th>\n",
       "      <td>720</td>\n",
       "      <td>40599</td>\n",
       "      <td>IL</td>\n",
       "      <td>NVSS</td>\n",
       "      <td>cases per 100,000</td>\n",
       "      <td>2.7</td>\n",
       "      <td>2.7</td>\n",
       "      <td>2.0</td>\n",
       "      <td>3.6</td>\n",
       "      <td>DIA</td>\n",
       "      <td>DIA04</td>\n",
       "      <td>AGEADJRATE</td>\n",
       "      <td>RACE</td>\n",
       "      <td>BLK</td>\n",
       "      <td>2019</td>\n",
       "    </tr>\n",
       "    <tr>\n",
       "      <th>786</th>\n",
       "      <td>786</td>\n",
       "      <td>42517</td>\n",
       "      <td>KS</td>\n",
       "      <td>NVSS</td>\n",
       "      <td>cases per 100,000</td>\n",
       "      <td>1.5</td>\n",
       "      <td>1.5</td>\n",
       "      <td>1.0</td>\n",
       "      <td>2.0</td>\n",
       "      <td>DIA</td>\n",
       "      <td>DIA04</td>\n",
       "      <td>AGEADJRATE</td>\n",
       "      <td>RACE</td>\n",
       "      <td>WHT</td>\n",
       "      <td>2019</td>\n",
       "    </tr>\n",
       "    <tr>\n",
       "      <th>816</th>\n",
       "      <td>816</td>\n",
       "      <td>43409</td>\n",
       "      <td>IA</td>\n",
       "      <td>NVSS</td>\n",
       "      <td>cases per 100,000</td>\n",
       "      <td>1.0</td>\n",
       "      <td>1.0</td>\n",
       "      <td>0.7</td>\n",
       "      <td>1.5</td>\n",
       "      <td>DIA</td>\n",
       "      <td>DIA04</td>\n",
       "      <td>AGEADJRATE</td>\n",
       "      <td>RACE</td>\n",
       "      <td>WHT</td>\n",
       "      <td>2019</td>\n",
       "    </tr>\n",
       "    <tr>\n",
       "      <th>858</th>\n",
       "      <td>858</td>\n",
       "      <td>44464</td>\n",
       "      <td>IN</td>\n",
       "      <td>NVSS</td>\n",
       "      <td>cases per 100,000</td>\n",
       "      <td>2.2</td>\n",
       "      <td>2.2</td>\n",
       "      <td>1.8</td>\n",
       "      <td>2.6</td>\n",
       "      <td>DIA</td>\n",
       "      <td>DIA04</td>\n",
       "      <td>AGEADJRATE</td>\n",
       "      <td>RACE</td>\n",
       "      <td>WHT</td>\n",
       "      <td>2019</td>\n",
       "    </tr>\n",
       "    <tr>\n",
       "      <th>971</th>\n",
       "      <td>971</td>\n",
       "      <td>47716</td>\n",
       "      <td>LA</td>\n",
       "      <td>NVSS</td>\n",
       "      <td>cases per 100,000</td>\n",
       "      <td>2.2</td>\n",
       "      <td>2.2</td>\n",
       "      <td>1.5</td>\n",
       "      <td>3.1</td>\n",
       "      <td>DIA</td>\n",
       "      <td>DIA04</td>\n",
       "      <td>AGEADJRATE</td>\n",
       "      <td>RACE</td>\n",
       "      <td>BLK</td>\n",
       "      <td>2019</td>\n",
       "    </tr>\n",
       "    <tr>\n",
       "      <th>1092</th>\n",
       "      <td>1092</td>\n",
       "      <td>50761</td>\n",
       "      <td>IL</td>\n",
       "      <td>NVSS</td>\n",
       "      <td>cases per 100,000</td>\n",
       "      <td>1.0</td>\n",
       "      <td>1.0</td>\n",
       "      <td>0.8</td>\n",
       "      <td>1.3</td>\n",
       "      <td>DIA</td>\n",
       "      <td>DIA04</td>\n",
       "      <td>AGEADJRATE</td>\n",
       "      <td>RACE</td>\n",
       "      <td>WHT</td>\n",
       "      <td>2019</td>\n",
       "    </tr>\n",
       "    <tr>\n",
       "      <th>1126</th>\n",
       "      <td>1126</td>\n",
       "      <td>51632</td>\n",
       "      <td>KY</td>\n",
       "      <td>NVSS</td>\n",
       "      <td>cases per 100,000</td>\n",
       "      <td>2.9</td>\n",
       "      <td>2.9</td>\n",
       "      <td>2.4</td>\n",
       "      <td>3.4</td>\n",
       "      <td>DIA</td>\n",
       "      <td>DIA04</td>\n",
       "      <td>AGEADJRATE</td>\n",
       "      <td>RACE</td>\n",
       "      <td>WHT</td>\n",
       "      <td>2019</td>\n",
       "    </tr>\n",
       "    <tr>\n",
       "      <th>1251</th>\n",
       "      <td>1251</td>\n",
       "      <td>55362</td>\n",
       "      <td>MA</td>\n",
       "      <td>NVSS</td>\n",
       "      <td>cases per 100,000</td>\n",
       "      <td>1.1</td>\n",
       "      <td>1.1</td>\n",
       "      <td>0.8</td>\n",
       "      <td>1.4</td>\n",
       "      <td>DIA</td>\n",
       "      <td>DIA04</td>\n",
       "      <td>AGEADJRATE</td>\n",
       "      <td>RACE</td>\n",
       "      <td>WHT</td>\n",
       "      <td>2019</td>\n",
       "    </tr>\n",
       "    <tr>\n",
       "      <th>1315</th>\n",
       "      <td>1315</td>\n",
       "      <td>57040</td>\n",
       "      <td>MN</td>\n",
       "      <td>NVSS</td>\n",
       "      <td>cases per 100,000</td>\n",
       "      <td>1.8</td>\n",
       "      <td>1.8</td>\n",
       "      <td>1.5</td>\n",
       "      <td>2.2</td>\n",
       "      <td>DIA</td>\n",
       "      <td>DIA04</td>\n",
       "      <td>AGEADJRATE</td>\n",
       "      <td>RACE</td>\n",
       "      <td>WHT</td>\n",
       "      <td>2019</td>\n",
       "    </tr>\n",
       "    <tr>\n",
       "      <th>1393</th>\n",
       "      <td>1393</td>\n",
       "      <td>59127</td>\n",
       "      <td>MI</td>\n",
       "      <td>NVSS</td>\n",
       "      <td>cases per 100,000</td>\n",
       "      <td>2.3</td>\n",
       "      <td>2.3</td>\n",
       "      <td>1.5</td>\n",
       "      <td>3.3</td>\n",
       "      <td>DIA</td>\n",
       "      <td>DIA04</td>\n",
       "      <td>AGEADJRATE</td>\n",
       "      <td>RACE</td>\n",
       "      <td>BLK</td>\n",
       "      <td>2019</td>\n",
       "    </tr>\n",
       "    <tr>\n",
       "      <th>1558</th>\n",
       "      <td>1558</td>\n",
       "      <td>63383</td>\n",
       "      <td>MI</td>\n",
       "      <td>NVSS</td>\n",
       "      <td>cases per 100,000</td>\n",
       "      <td>1.1</td>\n",
       "      <td>1.1</td>\n",
       "      <td>0.9</td>\n",
       "      <td>1.4</td>\n",
       "      <td>DIA</td>\n",
       "      <td>DIA04</td>\n",
       "      <td>AGEADJRATE</td>\n",
       "      <td>RACE</td>\n",
       "      <td>WHT</td>\n",
       "      <td>2019</td>\n",
       "    </tr>\n",
       "    <tr>\n",
       "      <th>1565</th>\n",
       "      <td>1565</td>\n",
       "      <td>63545</td>\n",
       "      <td>MD</td>\n",
       "      <td>NVSS</td>\n",
       "      <td>cases per 100,000</td>\n",
       "      <td>3.2</td>\n",
       "      <td>3.2</td>\n",
       "      <td>2.4</td>\n",
       "      <td>4.1</td>\n",
       "      <td>DIA</td>\n",
       "      <td>DIA04</td>\n",
       "      <td>AGEADJRATE</td>\n",
       "      <td>RACE</td>\n",
       "      <td>BLK</td>\n",
       "      <td>2019</td>\n",
       "    </tr>\n",
       "    <tr>\n",
       "      <th>1569</th>\n",
       "      <td>1569</td>\n",
       "      <td>63635</td>\n",
       "      <td>ME</td>\n",
       "      <td>NVSS</td>\n",
       "      <td>cases per 100,000</td>\n",
       "      <td>1.2</td>\n",
       "      <td>1.2</td>\n",
       "      <td>0.7</td>\n",
       "      <td>1.9</td>\n",
       "      <td>DIA</td>\n",
       "      <td>DIA04</td>\n",
       "      <td>AGEADJRATE</td>\n",
       "      <td>RACE</td>\n",
       "      <td>WHT</td>\n",
       "      <td>2019</td>\n",
       "    </tr>\n",
       "  </tbody>\n",
       "</table>\n",
       "</div>"
      ],
      "text/plain": [
       "      Unnamed: 0.1  Unnamed: 0 LocationAbbr DataSource      DataValueUnit  \\\n",
       "89              89       18824           AZ       NVSS  cases per 100,000   \n",
       "92              92       18971           AR       NVSS  cases per 100,000   \n",
       "153            153       21842           AZ       NVSS  cases per 100,000   \n",
       "193            193       23893           AL       NVSS  cases per 100,000   \n",
       "202            202       24425           AL       NVSS  cases per 100,000   \n",
       "299            299       28422           FL       NVSS  cases per 100,000   \n",
       "339            339       29338           CO       NVSS  cases per 100,000   \n",
       "347            347       29663           FL       NVSS  cases per 100,000   \n",
       "381            381       30881           CA       NVSS  cases per 100,000   \n",
       "409            409       31669           CT       NVSS  cases per 100,000   \n",
       "419            419       31952           GA       NVSS  cases per 100,000   \n",
       "526            526       34838           CA       NVSS  cases per 100,000   \n",
       "557            557       35852           CA       NVSS  cases per 100,000   \n",
       "593            593       36816           FL       NVSS  cases per 100,000   \n",
       "648            648       38489           GA       NVSS  cases per 100,000   \n",
       "663            663       38832           CA       NVSS  cases per 100,000   \n",
       "692            692       39857           LA       NVSS  cases per 100,000   \n",
       "720            720       40599           IL       NVSS  cases per 100,000   \n",
       "786            786       42517           KS       NVSS  cases per 100,000   \n",
       "816            816       43409           IA       NVSS  cases per 100,000   \n",
       "858            858       44464           IN       NVSS  cases per 100,000   \n",
       "971            971       47716           LA       NVSS  cases per 100,000   \n",
       "1092          1092       50761           IL       NVSS  cases per 100,000   \n",
       "1126          1126       51632           KY       NVSS  cases per 100,000   \n",
       "1251          1251       55362           MA       NVSS  cases per 100,000   \n",
       "1315          1315       57040           MN       NVSS  cases per 100,000   \n",
       "1393          1393       59127           MI       NVSS  cases per 100,000   \n",
       "1558          1558       63383           MI       NVSS  cases per 100,000   \n",
       "1565          1565       63545           MD       NVSS  cases per 100,000   \n",
       "1569          1569       63635           ME       NVSS  cases per 100,000   \n",
       "\n",
       "      DataValue  DataValueAlt  LowConfidenceLimit  HighConfidenceLimit  \\\n",
       "89          1.3           1.3                 0.8                  2.0   \n",
       "92          1.7           1.7                 1.2                  2.3   \n",
       "153         1.3           1.3                 1.0                  1.7   \n",
       "193         2.6           2.6                 1.8                  3.8   \n",
       "202         1.9           1.9                 1.5                  2.4   \n",
       "299         1.9           1.9                 1.4                  2.4   \n",
       "339         1.4           1.4                 1.0                  1.8   \n",
       "347         0.6           0.6                 0.4                  0.8   \n",
       "381         2.6           2.6                 2.0                  3.3   \n",
       "409         0.9           0.9                 0.6                  1.4   \n",
       "419         1.2           1.2                 1.0                  1.5   \n",
       "526         1.4           1.4                 1.2                  1.5   \n",
       "557         0.8           0.8                 0.6                  1.1   \n",
       "593         1.1           1.1                 0.9                  1.2   \n",
       "648         1.9           1.9                 1.5                  2.5   \n",
       "663         1.6           1.6                 1.4                  1.8   \n",
       "692         1.3           1.3                 0.9                  1.7   \n",
       "720         2.7           2.7                 2.0                  3.6   \n",
       "786         1.5           1.5                 1.0                  2.0   \n",
       "816         1.0           1.0                 0.7                  1.5   \n",
       "858         2.2           2.2                 1.8                  2.6   \n",
       "971         2.2           2.2                 1.5                  3.1   \n",
       "1092        1.0           1.0                 0.8                  1.3   \n",
       "1126        2.9           2.9                 2.4                  3.4   \n",
       "1251        1.1           1.1                 0.8                  1.4   \n",
       "1315        1.8           1.8                 1.5                  2.2   \n",
       "1393        2.3           2.3                 1.5                  3.3   \n",
       "1558        1.1           1.1                 0.9                  1.4   \n",
       "1565        3.2           3.2                 2.4                  4.1   \n",
       "1569        1.2           1.2                 0.7                  1.9   \n",
       "\n",
       "     TopicID QuestionID DataValueTypeID StratificationCategoryID1  \\\n",
       "89       DIA      DIA04      AGEADJRATE                      RACE   \n",
       "92       DIA      DIA04      AGEADJRATE                      RACE   \n",
       "153      DIA      DIA04      AGEADJRATE                      RACE   \n",
       "193      DIA      DIA04      AGEADJRATE                      RACE   \n",
       "202      DIA      DIA04      AGEADJRATE                      RACE   \n",
       "299      DIA      DIA04      AGEADJRATE                      RACE   \n",
       "339      DIA      DIA04      AGEADJRATE                      RACE   \n",
       "347      DIA      DIA04      AGEADJRATE                      RACE   \n",
       "381      DIA      DIA04      AGEADJRATE                      RACE   \n",
       "409      DIA      DIA04      AGEADJRATE                      RACE   \n",
       "419      DIA      DIA04      AGEADJRATE                      RACE   \n",
       "526      DIA      DIA04      AGEADJRATE                      RACE   \n",
       "557      DIA      DIA04      AGEADJRATE                      RACE   \n",
       "593      DIA      DIA04      AGEADJRATE                      RACE   \n",
       "648      DIA      DIA04      AGEADJRATE                      RACE   \n",
       "663      DIA      DIA04      AGEADJRATE                      RACE   \n",
       "692      DIA      DIA04      AGEADJRATE                      RACE   \n",
       "720      DIA      DIA04      AGEADJRATE                      RACE   \n",
       "786      DIA      DIA04      AGEADJRATE                      RACE   \n",
       "816      DIA      DIA04      AGEADJRATE                      RACE   \n",
       "858      DIA      DIA04      AGEADJRATE                      RACE   \n",
       "971      DIA      DIA04      AGEADJRATE                      RACE   \n",
       "1092     DIA      DIA04      AGEADJRATE                      RACE   \n",
       "1126     DIA      DIA04      AGEADJRATE                      RACE   \n",
       "1251     DIA      DIA04      AGEADJRATE                      RACE   \n",
       "1315     DIA      DIA04      AGEADJRATE                      RACE   \n",
       "1393     DIA      DIA04      AGEADJRATE                      RACE   \n",
       "1558     DIA      DIA04      AGEADJRATE                      RACE   \n",
       "1565     DIA      DIA04      AGEADJRATE                      RACE   \n",
       "1569     DIA      DIA04      AGEADJRATE                      RACE   \n",
       "\n",
       "     StratificationID1  Year  \n",
       "89                 HIS  2019  \n",
       "92                 WHT  2019  \n",
       "153                WHT  2019  \n",
       "193                BLK  2019  \n",
       "202                WHT  2019  \n",
       "299                BLK  2019  \n",
       "339                WHT  2019  \n",
       "347                HIS  2019  \n",
       "381                BLK  2019  \n",
       "409                WHT  2019  \n",
       "419                WHT  2019  \n",
       "526                WHT  2019  \n",
       "557                ASN  2019  \n",
       "593                WHT  2019  \n",
       "648                BLK  2019  \n",
       "663                HIS  2019  \n",
       "692                WHT  2019  \n",
       "720                BLK  2019  \n",
       "786                WHT  2019  \n",
       "816                WHT  2019  \n",
       "858                WHT  2019  \n",
       "971                BLK  2019  \n",
       "1092               WHT  2019  \n",
       "1126               WHT  2019  \n",
       "1251               WHT  2019  \n",
       "1315               WHT  2019  \n",
       "1393               BLK  2019  \n",
       "1558               WHT  2019  \n",
       "1565               BLK  2019  \n",
       "1569               WHT  2019  "
      ]
     },
     "execution_count": 7,
     "metadata": {},
     "output_type": "execute_result"
    }
   ],
   "source": [
    "diabete_data = pd.read_csv(\"diabetes_data.csv\")\n",
    "filtered_data = diabete_data[(diabete_data['QuestionID'] == 'DIA04') &\n",
    "                    (diabete_data['StratificationCategoryID1'] == 'RACE') &\n",
    "                             (diabete_data['DataValueTypeID'] == 'AGEADJRATE')]\n",
    "filtered_data.iloc[:30]"
   ]
  },
  {
   "cell_type": "code",
   "execution_count": 8,
   "id": "7524c407",
   "metadata": {},
   "outputs": [
    {
     "data": {
      "application/vnd.plotly.v1+json": {
       "config": {
        "plotlyServerURL": "https://plot.ly"
       },
       "data": [
        {
         "coloraxis": "coloraxis",
         "hovertemplate": "State: %{x}<br>Race: %{y}<br>Mortality Rate: %{z}<extra></extra>",
         "name": "0",
         "textfont": {
          "size": 10
         },
         "texttemplate": "%{z:.1f}",
         "type": "heatmap",
         "x": [
          "AL",
          "AR",
          "AZ",
          "CA",
          "CO",
          "CT",
          "DC",
          "FL",
          "GA",
          "IA",
          "ID",
          "IL",
          "IN",
          "KS",
          "KY",
          "LA",
          "MA",
          "MD",
          "ME",
          "MI",
          "MN",
          "MO",
          "MS",
          "MT",
          "NC",
          "NE",
          "NH",
          "NJ",
          "NM",
          "NV",
          "NY",
          "OH",
          "OK",
          "OR",
          "PA",
          "SC",
          "SD",
          "TN",
          "TX",
          "US",
          "UT",
          "VA",
          "WA",
          "WI",
          "WV",
          "WY"
         ],
         "xaxis": "x",
         "y": [
          "AIAN",
          "ASN",
          "BLK",
          "HAPI",
          "HIS",
          "MRC",
          "WHT"
         ],
         "yaxis": "y",
         "z": [
          [
           null,
           null,
           7.4,
           null,
           null,
           null,
           null,
           null,
           null,
           null,
           null,
           null,
           null,
           null,
           null,
           null,
           null,
           null,
           null,
           null,
           null,
           null,
           null,
           null,
           null,
           null,
           null,
           null,
           null,
           null,
           null,
           null,
           9.350000000000001,
           null,
           null,
           null,
           null,
           null,
           null,
           4.233333333333333,
           null,
           null,
           null,
           null,
           null,
           null
          ],
          [
           null,
           null,
           null,
           1.1333333333333335,
           null,
           null,
           null,
           null,
           null,
           null,
           null,
           null,
           null,
           null,
           null,
           null,
           null,
           null,
           null,
           null,
           null,
           null,
           null,
           null,
           null,
           null,
           null,
           null,
           null,
           null,
           1.3,
           null,
           null,
           null,
           null,
           null,
           null,
           null,
           1.5499999999999998,
           1.0333333333333334,
           null,
           null,
           null,
           null,
           null,
           null
          ],
          [
           3.7999999999999994,
           4.7,
           null,
           4.2,
           null,
           5.4,
           8.1,
           3.5,
           3.1666666666666665,
           null,
           null,
           3.9666666666666663,
           5.75,
           null,
           7.8,
           3.466666666666667,
           null,
           4.3,
           null,
           4.2,
           8.9,
           4.4,
           3.8000000000000003,
           null,
           3.4,
           null,
           null,
           4.033333333333333,
           null,
           8.25,
           4.233333333333333,
           4.166666666666667,
           9.8,
           null,
           3.5333333333333337,
           5.5,
           null,
           4.6000000000000005,
           4.7,
           3.9666666666666663,
           null,
           2.466666666666667,
           null,
           null,
           null,
           null
          ],
          [
           null,
           null,
           null,
           null,
           null,
           null,
           null,
           null,
           null,
           null,
           null,
           null,
           null,
           null,
           null,
           null,
           null,
           null,
           null,
           null,
           null,
           null,
           null,
           null,
           null,
           null,
           null,
           null,
           null,
           null,
           null,
           null,
           null,
           null,
           null,
           null,
           null,
           null,
           null,
           4.7,
           null,
           null,
           null,
           null,
           null,
           null
          ],
          [
           null,
           null,
           2.3000000000000003,
           2.6,
           4.449999999999999,
           null,
           null,
           1.3333333333333333,
           null,
           null,
           null,
           1.55,
           null,
           null,
           null,
           null,
           null,
           null,
           null,
           null,
           null,
           null,
           null,
           null,
           null,
           null,
           null,
           2.1333333333333333,
           3.1666666666666665,
           3.6,
           1.8999999999999997,
           null,
           null,
           null,
           3.1,
           null,
           null,
           null,
           3.4333333333333336,
           2.3333333333333335,
           null,
           null,
           null,
           null,
           null,
           null
          ],
          [
           null,
           null,
           null,
           null,
           null,
           null,
           null,
           null,
           null,
           null,
           null,
           null,
           null,
           null,
           null,
           null,
           null,
           null,
           null,
           null,
           null,
           null,
           null,
           null,
           null,
           null,
           null,
           null,
           null,
           null,
           null,
           null,
           null,
           null,
           null,
           null,
           null,
           null,
           null,
           1.2333333333333334,
           null,
           null,
           null,
           null,
           null,
           null
          ],
          [
           2.5,
           2.266666666666667,
           1.6333333333333335,
           1.7,
           2.033333333333333,
           1.4333333333333333,
           null,
           1.6000000000000003,
           1.8666666666666665,
           1.7666666666666668,
           2.25,
           1.3666666666666665,
           2.3666666666666667,
           2.033333333333333,
           3.766666666666667,
           1.4666666666666668,
           1.4333333333333333,
           2.033333333333333,
           1.633333333333333,
           1.5,
           1.9666666666666668,
           1.8333333333333333,
           1.9666666666666668,
           2.25,
           1.5,
           1.7666666666666666,
           1.7,
           1.3,
           2.733333333333333,
           3.6333333333333333,
           1.3,
           1.9000000000000001,
           2.966666666666667,
           1.8,
           1.5,
           2.466666666666667,
           3.1,
           2.966666666666667,
           2.6,
           1.8666666666666665,
           1.6333333333333335,
           1.3333333333333333,
           2.1333333333333333,
           1.6666666666666667,
           2.766666666666667,
           3.9
          ]
         ]
        }
       ],
       "layout": {
        "coloraxis": {
         "colorbar": {
          "title": {
           "text": "Mortality Rate"
          }
         },
         "colorscale": [
          [
           0,
           "rgb(247,251,255)"
          ],
          [
           0.125,
           "rgb(222,235,247)"
          ],
          [
           0.25,
           "rgb(198,219,239)"
          ],
          [
           0.375,
           "rgb(158,202,225)"
          ],
          [
           0.5,
           "rgb(107,174,214)"
          ],
          [
           0.625,
           "rgb(66,146,198)"
          ],
          [
           0.75,
           "rgb(33,113,181)"
          ],
          [
           0.875,
           "rgb(8,81,156)"
          ],
          [
           1,
           "rgb(8,48,107)"
          ]
         ]
        },
        "template": {
         "data": {
          "bar": [
           {
            "error_x": {
             "color": "#2a3f5f"
            },
            "error_y": {
             "color": "#2a3f5f"
            },
            "marker": {
             "line": {
              "color": "#E5ECF6",
              "width": 0.5
             },
             "pattern": {
              "fillmode": "overlay",
              "size": 10,
              "solidity": 0.2
             }
            },
            "type": "bar"
           }
          ],
          "barpolar": [
           {
            "marker": {
             "line": {
              "color": "#E5ECF6",
              "width": 0.5
             },
             "pattern": {
              "fillmode": "overlay",
              "size": 10,
              "solidity": 0.2
             }
            },
            "type": "barpolar"
           }
          ],
          "carpet": [
           {
            "aaxis": {
             "endlinecolor": "#2a3f5f",
             "gridcolor": "white",
             "linecolor": "white",
             "minorgridcolor": "white",
             "startlinecolor": "#2a3f5f"
            },
            "baxis": {
             "endlinecolor": "#2a3f5f",
             "gridcolor": "white",
             "linecolor": "white",
             "minorgridcolor": "white",
             "startlinecolor": "#2a3f5f"
            },
            "type": "carpet"
           }
          ],
          "choropleth": [
           {
            "colorbar": {
             "outlinewidth": 0,
             "ticks": ""
            },
            "type": "choropleth"
           }
          ],
          "contour": [
           {
            "colorbar": {
             "outlinewidth": 0,
             "ticks": ""
            },
            "colorscale": [
             [
              0,
              "#0d0887"
             ],
             [
              0.1111111111111111,
              "#46039f"
             ],
             [
              0.2222222222222222,
              "#7201a8"
             ],
             [
              0.3333333333333333,
              "#9c179e"
             ],
             [
              0.4444444444444444,
              "#bd3786"
             ],
             [
              0.5555555555555556,
              "#d8576b"
             ],
             [
              0.6666666666666666,
              "#ed7953"
             ],
             [
              0.7777777777777778,
              "#fb9f3a"
             ],
             [
              0.8888888888888888,
              "#fdca26"
             ],
             [
              1,
              "#f0f921"
             ]
            ],
            "type": "contour"
           }
          ],
          "contourcarpet": [
           {
            "colorbar": {
             "outlinewidth": 0,
             "ticks": ""
            },
            "type": "contourcarpet"
           }
          ],
          "heatmap": [
           {
            "colorbar": {
             "outlinewidth": 0,
             "ticks": ""
            },
            "colorscale": [
             [
              0,
              "#0d0887"
             ],
             [
              0.1111111111111111,
              "#46039f"
             ],
             [
              0.2222222222222222,
              "#7201a8"
             ],
             [
              0.3333333333333333,
              "#9c179e"
             ],
             [
              0.4444444444444444,
              "#bd3786"
             ],
             [
              0.5555555555555556,
              "#d8576b"
             ],
             [
              0.6666666666666666,
              "#ed7953"
             ],
             [
              0.7777777777777778,
              "#fb9f3a"
             ],
             [
              0.8888888888888888,
              "#fdca26"
             ],
             [
              1,
              "#f0f921"
             ]
            ],
            "type": "heatmap"
           }
          ],
          "heatmapgl": [
           {
            "colorbar": {
             "outlinewidth": 0,
             "ticks": ""
            },
            "colorscale": [
             [
              0,
              "#0d0887"
             ],
             [
              0.1111111111111111,
              "#46039f"
             ],
             [
              0.2222222222222222,
              "#7201a8"
             ],
             [
              0.3333333333333333,
              "#9c179e"
             ],
             [
              0.4444444444444444,
              "#bd3786"
             ],
             [
              0.5555555555555556,
              "#d8576b"
             ],
             [
              0.6666666666666666,
              "#ed7953"
             ],
             [
              0.7777777777777778,
              "#fb9f3a"
             ],
             [
              0.8888888888888888,
              "#fdca26"
             ],
             [
              1,
              "#f0f921"
             ]
            ],
            "type": "heatmapgl"
           }
          ],
          "histogram": [
           {
            "marker": {
             "pattern": {
              "fillmode": "overlay",
              "size": 10,
              "solidity": 0.2
             }
            },
            "type": "histogram"
           }
          ],
          "histogram2d": [
           {
            "colorbar": {
             "outlinewidth": 0,
             "ticks": ""
            },
            "colorscale": [
             [
              0,
              "#0d0887"
             ],
             [
              0.1111111111111111,
              "#46039f"
             ],
             [
              0.2222222222222222,
              "#7201a8"
             ],
             [
              0.3333333333333333,
              "#9c179e"
             ],
             [
              0.4444444444444444,
              "#bd3786"
             ],
             [
              0.5555555555555556,
              "#d8576b"
             ],
             [
              0.6666666666666666,
              "#ed7953"
             ],
             [
              0.7777777777777778,
              "#fb9f3a"
             ],
             [
              0.8888888888888888,
              "#fdca26"
             ],
             [
              1,
              "#f0f921"
             ]
            ],
            "type": "histogram2d"
           }
          ],
          "histogram2dcontour": [
           {
            "colorbar": {
             "outlinewidth": 0,
             "ticks": ""
            },
            "colorscale": [
             [
              0,
              "#0d0887"
             ],
             [
              0.1111111111111111,
              "#46039f"
             ],
             [
              0.2222222222222222,
              "#7201a8"
             ],
             [
              0.3333333333333333,
              "#9c179e"
             ],
             [
              0.4444444444444444,
              "#bd3786"
             ],
             [
              0.5555555555555556,
              "#d8576b"
             ],
             [
              0.6666666666666666,
              "#ed7953"
             ],
             [
              0.7777777777777778,
              "#fb9f3a"
             ],
             [
              0.8888888888888888,
              "#fdca26"
             ],
             [
              1,
              "#f0f921"
             ]
            ],
            "type": "histogram2dcontour"
           }
          ],
          "mesh3d": [
           {
            "colorbar": {
             "outlinewidth": 0,
             "ticks": ""
            },
            "type": "mesh3d"
           }
          ],
          "parcoords": [
           {
            "line": {
             "colorbar": {
              "outlinewidth": 0,
              "ticks": ""
             }
            },
            "type": "parcoords"
           }
          ],
          "pie": [
           {
            "automargin": true,
            "type": "pie"
           }
          ],
          "scatter": [
           {
            "fillpattern": {
             "fillmode": "overlay",
             "size": 10,
             "solidity": 0.2
            },
            "type": "scatter"
           }
          ],
          "scatter3d": [
           {
            "line": {
             "colorbar": {
              "outlinewidth": 0,
              "ticks": ""
             }
            },
            "marker": {
             "colorbar": {
              "outlinewidth": 0,
              "ticks": ""
             }
            },
            "type": "scatter3d"
           }
          ],
          "scattercarpet": [
           {
            "marker": {
             "colorbar": {
              "outlinewidth": 0,
              "ticks": ""
             }
            },
            "type": "scattercarpet"
           }
          ],
          "scattergeo": [
           {
            "marker": {
             "colorbar": {
              "outlinewidth": 0,
              "ticks": ""
             }
            },
            "type": "scattergeo"
           }
          ],
          "scattergl": [
           {
            "marker": {
             "colorbar": {
              "outlinewidth": 0,
              "ticks": ""
             }
            },
            "type": "scattergl"
           }
          ],
          "scattermapbox": [
           {
            "marker": {
             "colorbar": {
              "outlinewidth": 0,
              "ticks": ""
             }
            },
            "type": "scattermapbox"
           }
          ],
          "scatterpolar": [
           {
            "marker": {
             "colorbar": {
              "outlinewidth": 0,
              "ticks": ""
             }
            },
            "type": "scatterpolar"
           }
          ],
          "scatterpolargl": [
           {
            "marker": {
             "colorbar": {
              "outlinewidth": 0,
              "ticks": ""
             }
            },
            "type": "scatterpolargl"
           }
          ],
          "scatterternary": [
           {
            "marker": {
             "colorbar": {
              "outlinewidth": 0,
              "ticks": ""
             }
            },
            "type": "scatterternary"
           }
          ],
          "surface": [
           {
            "colorbar": {
             "outlinewidth": 0,
             "ticks": ""
            },
            "colorscale": [
             [
              0,
              "#0d0887"
             ],
             [
              0.1111111111111111,
              "#46039f"
             ],
             [
              0.2222222222222222,
              "#7201a8"
             ],
             [
              0.3333333333333333,
              "#9c179e"
             ],
             [
              0.4444444444444444,
              "#bd3786"
             ],
             [
              0.5555555555555556,
              "#d8576b"
             ],
             [
              0.6666666666666666,
              "#ed7953"
             ],
             [
              0.7777777777777778,
              "#fb9f3a"
             ],
             [
              0.8888888888888888,
              "#fdca26"
             ],
             [
              1,
              "#f0f921"
             ]
            ],
            "type": "surface"
           }
          ],
          "table": [
           {
            "cells": {
             "fill": {
              "color": "#EBF0F8"
             },
             "line": {
              "color": "white"
             }
            },
            "header": {
             "fill": {
              "color": "#C8D4E3"
             },
             "line": {
              "color": "white"
             }
            },
            "type": "table"
           }
          ]
         },
         "layout": {
          "annotationdefaults": {
           "arrowcolor": "#2a3f5f",
           "arrowhead": 0,
           "arrowwidth": 1
          },
          "autotypenumbers": "strict",
          "coloraxis": {
           "colorbar": {
            "outlinewidth": 0,
            "ticks": ""
           }
          },
          "colorscale": {
           "diverging": [
            [
             0,
             "#8e0152"
            ],
            [
             0.1,
             "#c51b7d"
            ],
            [
             0.2,
             "#de77ae"
            ],
            [
             0.3,
             "#f1b6da"
            ],
            [
             0.4,
             "#fde0ef"
            ],
            [
             0.5,
             "#f7f7f7"
            ],
            [
             0.6,
             "#e6f5d0"
            ],
            [
             0.7,
             "#b8e186"
            ],
            [
             0.8,
             "#7fbc41"
            ],
            [
             0.9,
             "#4d9221"
            ],
            [
             1,
             "#276419"
            ]
           ],
           "sequential": [
            [
             0,
             "#0d0887"
            ],
            [
             0.1111111111111111,
             "#46039f"
            ],
            [
             0.2222222222222222,
             "#7201a8"
            ],
            [
             0.3333333333333333,
             "#9c179e"
            ],
            [
             0.4444444444444444,
             "#bd3786"
            ],
            [
             0.5555555555555556,
             "#d8576b"
            ],
            [
             0.6666666666666666,
             "#ed7953"
            ],
            [
             0.7777777777777778,
             "#fb9f3a"
            ],
            [
             0.8888888888888888,
             "#fdca26"
            ],
            [
             1,
             "#f0f921"
            ]
           ],
           "sequentialminus": [
            [
             0,
             "#0d0887"
            ],
            [
             0.1111111111111111,
             "#46039f"
            ],
            [
             0.2222222222222222,
             "#7201a8"
            ],
            [
             0.3333333333333333,
             "#9c179e"
            ],
            [
             0.4444444444444444,
             "#bd3786"
            ],
            [
             0.5555555555555556,
             "#d8576b"
            ],
            [
             0.6666666666666666,
             "#ed7953"
            ],
            [
             0.7777777777777778,
             "#fb9f3a"
            ],
            [
             0.8888888888888888,
             "#fdca26"
            ],
            [
             1,
             "#f0f921"
            ]
           ]
          },
          "colorway": [
           "#636efa",
           "#EF553B",
           "#00cc96",
           "#ab63fa",
           "#FFA15A",
           "#19d3f3",
           "#FF6692",
           "#B6E880",
           "#FF97FF",
           "#FECB52"
          ],
          "font": {
           "color": "#2a3f5f"
          },
          "geo": {
           "bgcolor": "white",
           "lakecolor": "white",
           "landcolor": "#E5ECF6",
           "showlakes": true,
           "showland": true,
           "subunitcolor": "white"
          },
          "hoverlabel": {
           "align": "left"
          },
          "hovermode": "closest",
          "mapbox": {
           "style": "light"
          },
          "paper_bgcolor": "white",
          "plot_bgcolor": "#E5ECF6",
          "polar": {
           "angularaxis": {
            "gridcolor": "white",
            "linecolor": "white",
            "ticks": ""
           },
           "bgcolor": "#E5ECF6",
           "radialaxis": {
            "gridcolor": "white",
            "linecolor": "white",
            "ticks": ""
           }
          },
          "scene": {
           "xaxis": {
            "backgroundcolor": "#E5ECF6",
            "gridcolor": "white",
            "gridwidth": 2,
            "linecolor": "white",
            "showbackground": true,
            "ticks": "",
            "zerolinecolor": "white"
           },
           "yaxis": {
            "backgroundcolor": "#E5ECF6",
            "gridcolor": "white",
            "gridwidth": 2,
            "linecolor": "white",
            "showbackground": true,
            "ticks": "",
            "zerolinecolor": "white"
           },
           "zaxis": {
            "backgroundcolor": "#E5ECF6",
            "gridcolor": "white",
            "gridwidth": 2,
            "linecolor": "white",
            "showbackground": true,
            "ticks": "",
            "zerolinecolor": "white"
           }
          },
          "shapedefaults": {
           "line": {
            "color": "#2a3f5f"
           }
          },
          "ternary": {
           "aaxis": {
            "gridcolor": "white",
            "linecolor": "white",
            "ticks": ""
           },
           "baxis": {
            "gridcolor": "white",
            "linecolor": "white",
            "ticks": ""
           },
           "bgcolor": "#E5ECF6",
           "caxis": {
            "gridcolor": "white",
            "linecolor": "white",
            "ticks": ""
           }
          },
          "title": {
           "x": 0.05
          },
          "xaxis": {
           "automargin": true,
           "gridcolor": "white",
           "linecolor": "white",
           "ticks": "",
           "title": {
            "standoff": 15
           },
           "zerolinecolor": "white",
           "zerolinewidth": 2
          },
          "yaxis": {
           "automargin": true,
           "gridcolor": "white",
           "linecolor": "white",
           "ticks": "",
           "title": {
            "standoff": 15
           },
           "zerolinecolor": "white",
           "zerolinewidth": 2
          }
         }
        },
        "title": {
         "text": "Diabetes Ketoacidosis Mortality Rate per 100,000 by State and Race"
        },
        "xaxis": {
         "anchor": "y",
         "domain": [
          0,
          1
         ],
         "title": {
          "text": "State"
         }
        },
        "yaxis": {
         "anchor": "x",
         "autorange": "reversed",
         "domain": [
          0,
          1
         ],
         "title": {
          "text": "Race"
         }
        }
       }
      },
      "text/html": [
       "<div>                            <div id=\"75cc43e4-f1a6-42ef-b940-fb040064fee1\" class=\"plotly-graph-div\" style=\"height:525px; width:100%;\"></div>            <script type=\"text/javascript\">                require([\"plotly\"], function(Plotly) {                    window.PLOTLYENV=window.PLOTLYENV || {};                                    if (document.getElementById(\"75cc43e4-f1a6-42ef-b940-fb040064fee1\")) {                    Plotly.newPlot(                        \"75cc43e4-f1a6-42ef-b940-fb040064fee1\",                        [{\"coloraxis\":\"coloraxis\",\"name\":\"0\",\"x\":[\"AL\",\"AR\",\"AZ\",\"CA\",\"CO\",\"CT\",\"DC\",\"FL\",\"GA\",\"IA\",\"ID\",\"IL\",\"IN\",\"KS\",\"KY\",\"LA\",\"MA\",\"MD\",\"ME\",\"MI\",\"MN\",\"MO\",\"MS\",\"MT\",\"NC\",\"NE\",\"NH\",\"NJ\",\"NM\",\"NV\",\"NY\",\"OH\",\"OK\",\"OR\",\"PA\",\"SC\",\"SD\",\"TN\",\"TX\",\"US\",\"UT\",\"VA\",\"WA\",\"WI\",\"WV\",\"WY\"],\"y\":[\"AIAN\",\"ASN\",\"BLK\",\"HAPI\",\"HIS\",\"MRC\",\"WHT\"],\"z\":[[null,null,7.4,null,null,null,null,null,null,null,null,null,null,null,null,null,null,null,null,null,null,null,null,null,null,null,null,null,null,null,null,null,9.350000000000001,null,null,null,null,null,null,4.233333333333333,null,null,null,null,null,null],[null,null,null,1.1333333333333335,null,null,null,null,null,null,null,null,null,null,null,null,null,null,null,null,null,null,null,null,null,null,null,null,null,null,1.3,null,null,null,null,null,null,null,1.5499999999999998,1.0333333333333334,null,null,null,null,null,null],[3.7999999999999994,4.7,null,4.2,null,5.4,8.1,3.5,3.1666666666666665,null,null,3.9666666666666663,5.75,null,7.8,3.466666666666667,null,4.3,null,4.2,8.9,4.4,3.8000000000000003,null,3.4,null,null,4.033333333333333,null,8.25,4.233333333333333,4.166666666666667,9.8,null,3.5333333333333337,5.5,null,4.6000000000000005,4.7,3.9666666666666663,null,2.466666666666667,null,null,null,null],[null,null,null,null,null,null,null,null,null,null,null,null,null,null,null,null,null,null,null,null,null,null,null,null,null,null,null,null,null,null,null,null,null,null,null,null,null,null,null,4.7,null,null,null,null,null,null],[null,null,2.3000000000000003,2.6,4.449999999999999,null,null,1.3333333333333333,null,null,null,1.55,null,null,null,null,null,null,null,null,null,null,null,null,null,null,null,2.1333333333333333,3.1666666666666665,3.6,1.8999999999999997,null,null,null,3.1,null,null,null,3.4333333333333336,2.3333333333333335,null,null,null,null,null,null],[null,null,null,null,null,null,null,null,null,null,null,null,null,null,null,null,null,null,null,null,null,null,null,null,null,null,null,null,null,null,null,null,null,null,null,null,null,null,null,1.2333333333333334,null,null,null,null,null,null],[2.5,2.266666666666667,1.6333333333333335,1.7,2.033333333333333,1.4333333333333333,null,1.6000000000000003,1.8666666666666665,1.7666666666666668,2.25,1.3666666666666665,2.3666666666666667,2.033333333333333,3.766666666666667,1.4666666666666668,1.4333333333333333,2.033333333333333,1.633333333333333,1.5,1.9666666666666668,1.8333333333333333,1.9666666666666668,2.25,1.5,1.7666666666666666,1.7,1.3,2.733333333333333,3.6333333333333333,1.3,1.9000000000000001,2.966666666666667,1.8,1.5,2.466666666666667,3.1,2.966666666666667,2.6,1.8666666666666665,1.6333333333333335,1.3333333333333333,2.1333333333333333,1.6666666666666667,2.766666666666667,3.9]],\"type\":\"heatmap\",\"xaxis\":\"x\",\"yaxis\":\"y\",\"hovertemplate\":\"State: %{x}<br>Race: %{y}<br>Mortality Rate: %{z}<extra></extra>\",\"textfont\":{\"size\":10},\"texttemplate\":\"%{z:.1f}\"}],                        {\"template\":{\"data\":{\"histogram2dcontour\":[{\"type\":\"histogram2dcontour\",\"colorbar\":{\"outlinewidth\":0,\"ticks\":\"\"},\"colorscale\":[[0.0,\"#0d0887\"],[0.1111111111111111,\"#46039f\"],[0.2222222222222222,\"#7201a8\"],[0.3333333333333333,\"#9c179e\"],[0.4444444444444444,\"#bd3786\"],[0.5555555555555556,\"#d8576b\"],[0.6666666666666666,\"#ed7953\"],[0.7777777777777778,\"#fb9f3a\"],[0.8888888888888888,\"#fdca26\"],[1.0,\"#f0f921\"]]}],\"choropleth\":[{\"type\":\"choropleth\",\"colorbar\":{\"outlinewidth\":0,\"ticks\":\"\"}}],\"histogram2d\":[{\"type\":\"histogram2d\",\"colorbar\":{\"outlinewidth\":0,\"ticks\":\"\"},\"colorscale\":[[0.0,\"#0d0887\"],[0.1111111111111111,\"#46039f\"],[0.2222222222222222,\"#7201a8\"],[0.3333333333333333,\"#9c179e\"],[0.4444444444444444,\"#bd3786\"],[0.5555555555555556,\"#d8576b\"],[0.6666666666666666,\"#ed7953\"],[0.7777777777777778,\"#fb9f3a\"],[0.8888888888888888,\"#fdca26\"],[1.0,\"#f0f921\"]]}],\"heatmap\":[{\"type\":\"heatmap\",\"colorbar\":{\"outlinewidth\":0,\"ticks\":\"\"},\"colorscale\":[[0.0,\"#0d0887\"],[0.1111111111111111,\"#46039f\"],[0.2222222222222222,\"#7201a8\"],[0.3333333333333333,\"#9c179e\"],[0.4444444444444444,\"#bd3786\"],[0.5555555555555556,\"#d8576b\"],[0.6666666666666666,\"#ed7953\"],[0.7777777777777778,\"#fb9f3a\"],[0.8888888888888888,\"#fdca26\"],[1.0,\"#f0f921\"]]}],\"heatmapgl\":[{\"type\":\"heatmapgl\",\"colorbar\":{\"outlinewidth\":0,\"ticks\":\"\"},\"colorscale\":[[0.0,\"#0d0887\"],[0.1111111111111111,\"#46039f\"],[0.2222222222222222,\"#7201a8\"],[0.3333333333333333,\"#9c179e\"],[0.4444444444444444,\"#bd3786\"],[0.5555555555555556,\"#d8576b\"],[0.6666666666666666,\"#ed7953\"],[0.7777777777777778,\"#fb9f3a\"],[0.8888888888888888,\"#fdca26\"],[1.0,\"#f0f921\"]]}],\"contourcarpet\":[{\"type\":\"contourcarpet\",\"colorbar\":{\"outlinewidth\":0,\"ticks\":\"\"}}],\"contour\":[{\"type\":\"contour\",\"colorbar\":{\"outlinewidth\":0,\"ticks\":\"\"},\"colorscale\":[[0.0,\"#0d0887\"],[0.1111111111111111,\"#46039f\"],[0.2222222222222222,\"#7201a8\"],[0.3333333333333333,\"#9c179e\"],[0.4444444444444444,\"#bd3786\"],[0.5555555555555556,\"#d8576b\"],[0.6666666666666666,\"#ed7953\"],[0.7777777777777778,\"#fb9f3a\"],[0.8888888888888888,\"#fdca26\"],[1.0,\"#f0f921\"]]}],\"surface\":[{\"type\":\"surface\",\"colorbar\":{\"outlinewidth\":0,\"ticks\":\"\"},\"colorscale\":[[0.0,\"#0d0887\"],[0.1111111111111111,\"#46039f\"],[0.2222222222222222,\"#7201a8\"],[0.3333333333333333,\"#9c179e\"],[0.4444444444444444,\"#bd3786\"],[0.5555555555555556,\"#d8576b\"],[0.6666666666666666,\"#ed7953\"],[0.7777777777777778,\"#fb9f3a\"],[0.8888888888888888,\"#fdca26\"],[1.0,\"#f0f921\"]]}],\"mesh3d\":[{\"type\":\"mesh3d\",\"colorbar\":{\"outlinewidth\":0,\"ticks\":\"\"}}],\"scatter\":[{\"fillpattern\":{\"fillmode\":\"overlay\",\"size\":10,\"solidity\":0.2},\"type\":\"scatter\"}],\"parcoords\":[{\"type\":\"parcoords\",\"line\":{\"colorbar\":{\"outlinewidth\":0,\"ticks\":\"\"}}}],\"scatterpolargl\":[{\"type\":\"scatterpolargl\",\"marker\":{\"colorbar\":{\"outlinewidth\":0,\"ticks\":\"\"}}}],\"bar\":[{\"error_x\":{\"color\":\"#2a3f5f\"},\"error_y\":{\"color\":\"#2a3f5f\"},\"marker\":{\"line\":{\"color\":\"#E5ECF6\",\"width\":0.5},\"pattern\":{\"fillmode\":\"overlay\",\"size\":10,\"solidity\":0.2}},\"type\":\"bar\"}],\"scattergeo\":[{\"type\":\"scattergeo\",\"marker\":{\"colorbar\":{\"outlinewidth\":0,\"ticks\":\"\"}}}],\"scatterpolar\":[{\"type\":\"scatterpolar\",\"marker\":{\"colorbar\":{\"outlinewidth\":0,\"ticks\":\"\"}}}],\"histogram\":[{\"marker\":{\"pattern\":{\"fillmode\":\"overlay\",\"size\":10,\"solidity\":0.2}},\"type\":\"histogram\"}],\"scattergl\":[{\"type\":\"scattergl\",\"marker\":{\"colorbar\":{\"outlinewidth\":0,\"ticks\":\"\"}}}],\"scatter3d\":[{\"type\":\"scatter3d\",\"line\":{\"colorbar\":{\"outlinewidth\":0,\"ticks\":\"\"}},\"marker\":{\"colorbar\":{\"outlinewidth\":0,\"ticks\":\"\"}}}],\"scattermapbox\":[{\"type\":\"scattermapbox\",\"marker\":{\"colorbar\":{\"outlinewidth\":0,\"ticks\":\"\"}}}],\"scatterternary\":[{\"type\":\"scatterternary\",\"marker\":{\"colorbar\":{\"outlinewidth\":0,\"ticks\":\"\"}}}],\"scattercarpet\":[{\"type\":\"scattercarpet\",\"marker\":{\"colorbar\":{\"outlinewidth\":0,\"ticks\":\"\"}}}],\"carpet\":[{\"aaxis\":{\"endlinecolor\":\"#2a3f5f\",\"gridcolor\":\"white\",\"linecolor\":\"white\",\"minorgridcolor\":\"white\",\"startlinecolor\":\"#2a3f5f\"},\"baxis\":{\"endlinecolor\":\"#2a3f5f\",\"gridcolor\":\"white\",\"linecolor\":\"white\",\"minorgridcolor\":\"white\",\"startlinecolor\":\"#2a3f5f\"},\"type\":\"carpet\"}],\"table\":[{\"cells\":{\"fill\":{\"color\":\"#EBF0F8\"},\"line\":{\"color\":\"white\"}},\"header\":{\"fill\":{\"color\":\"#C8D4E3\"},\"line\":{\"color\":\"white\"}},\"type\":\"table\"}],\"barpolar\":[{\"marker\":{\"line\":{\"color\":\"#E5ECF6\",\"width\":0.5},\"pattern\":{\"fillmode\":\"overlay\",\"size\":10,\"solidity\":0.2}},\"type\":\"barpolar\"}],\"pie\":[{\"automargin\":true,\"type\":\"pie\"}]},\"layout\":{\"autotypenumbers\":\"strict\",\"colorway\":[\"#636efa\",\"#EF553B\",\"#00cc96\",\"#ab63fa\",\"#FFA15A\",\"#19d3f3\",\"#FF6692\",\"#B6E880\",\"#FF97FF\",\"#FECB52\"],\"font\":{\"color\":\"#2a3f5f\"},\"hovermode\":\"closest\",\"hoverlabel\":{\"align\":\"left\"},\"paper_bgcolor\":\"white\",\"plot_bgcolor\":\"#E5ECF6\",\"polar\":{\"bgcolor\":\"#E5ECF6\",\"angularaxis\":{\"gridcolor\":\"white\",\"linecolor\":\"white\",\"ticks\":\"\"},\"radialaxis\":{\"gridcolor\":\"white\",\"linecolor\":\"white\",\"ticks\":\"\"}},\"ternary\":{\"bgcolor\":\"#E5ECF6\",\"aaxis\":{\"gridcolor\":\"white\",\"linecolor\":\"white\",\"ticks\":\"\"},\"baxis\":{\"gridcolor\":\"white\",\"linecolor\":\"white\",\"ticks\":\"\"},\"caxis\":{\"gridcolor\":\"white\",\"linecolor\":\"white\",\"ticks\":\"\"}},\"coloraxis\":{\"colorbar\":{\"outlinewidth\":0,\"ticks\":\"\"}},\"colorscale\":{\"sequential\":[[0.0,\"#0d0887\"],[0.1111111111111111,\"#46039f\"],[0.2222222222222222,\"#7201a8\"],[0.3333333333333333,\"#9c179e\"],[0.4444444444444444,\"#bd3786\"],[0.5555555555555556,\"#d8576b\"],[0.6666666666666666,\"#ed7953\"],[0.7777777777777778,\"#fb9f3a\"],[0.8888888888888888,\"#fdca26\"],[1.0,\"#f0f921\"]],\"sequentialminus\":[[0.0,\"#0d0887\"],[0.1111111111111111,\"#46039f\"],[0.2222222222222222,\"#7201a8\"],[0.3333333333333333,\"#9c179e\"],[0.4444444444444444,\"#bd3786\"],[0.5555555555555556,\"#d8576b\"],[0.6666666666666666,\"#ed7953\"],[0.7777777777777778,\"#fb9f3a\"],[0.8888888888888888,\"#fdca26\"],[1.0,\"#f0f921\"]],\"diverging\":[[0,\"#8e0152\"],[0.1,\"#c51b7d\"],[0.2,\"#de77ae\"],[0.3,\"#f1b6da\"],[0.4,\"#fde0ef\"],[0.5,\"#f7f7f7\"],[0.6,\"#e6f5d0\"],[0.7,\"#b8e186\"],[0.8,\"#7fbc41\"],[0.9,\"#4d9221\"],[1,\"#276419\"]]},\"xaxis\":{\"gridcolor\":\"white\",\"linecolor\":\"white\",\"ticks\":\"\",\"title\":{\"standoff\":15},\"zerolinecolor\":\"white\",\"automargin\":true,\"zerolinewidth\":2},\"yaxis\":{\"gridcolor\":\"white\",\"linecolor\":\"white\",\"ticks\":\"\",\"title\":{\"standoff\":15},\"zerolinecolor\":\"white\",\"automargin\":true,\"zerolinewidth\":2},\"scene\":{\"xaxis\":{\"backgroundcolor\":\"#E5ECF6\",\"gridcolor\":\"white\",\"linecolor\":\"white\",\"showbackground\":true,\"ticks\":\"\",\"zerolinecolor\":\"white\",\"gridwidth\":2},\"yaxis\":{\"backgroundcolor\":\"#E5ECF6\",\"gridcolor\":\"white\",\"linecolor\":\"white\",\"showbackground\":true,\"ticks\":\"\",\"zerolinecolor\":\"white\",\"gridwidth\":2},\"zaxis\":{\"backgroundcolor\":\"#E5ECF6\",\"gridcolor\":\"white\",\"linecolor\":\"white\",\"showbackground\":true,\"ticks\":\"\",\"zerolinecolor\":\"white\",\"gridwidth\":2}},\"shapedefaults\":{\"line\":{\"color\":\"#2a3f5f\"}},\"annotationdefaults\":{\"arrowcolor\":\"#2a3f5f\",\"arrowhead\":0,\"arrowwidth\":1},\"geo\":{\"bgcolor\":\"white\",\"landcolor\":\"#E5ECF6\",\"subunitcolor\":\"white\",\"showland\":true,\"showlakes\":true,\"lakecolor\":\"white\"},\"title\":{\"x\":0.05},\"mapbox\":{\"style\":\"light\"}}},\"xaxis\":{\"anchor\":\"y\",\"domain\":[0.0,1.0],\"title\":{\"text\":\"State\"}},\"yaxis\":{\"anchor\":\"x\",\"domain\":[0.0,1.0],\"autorange\":\"reversed\",\"title\":{\"text\":\"Race\"}},\"coloraxis\":{\"colorbar\":{\"title\":{\"text\":\"Mortality Rate\"}},\"colorscale\":[[0.0,\"rgb(247,251,255)\"],[0.125,\"rgb(222,235,247)\"],[0.25,\"rgb(198,219,239)\"],[0.375,\"rgb(158,202,225)\"],[0.5,\"rgb(107,174,214)\"],[0.625,\"rgb(66,146,198)\"],[0.75,\"rgb(33,113,181)\"],[0.875,\"rgb(8,81,156)\"],[1.0,\"rgb(8,48,107)\"]]},\"title\":{\"text\":\"Diabetes Ketoacidosis Mortality Rate per 100,000 by State and Race\"}},                        {\"responsive\": true}                    ).then(function(){\n",
       "                            \n",
       "var gd = document.getElementById('75cc43e4-f1a6-42ef-b940-fb040064fee1');\n",
       "var x = new MutationObserver(function (mutations, observer) {{\n",
       "        var display = window.getComputedStyle(gd).display;\n",
       "        if (!display || display === 'none') {{\n",
       "            console.log([gd, 'removed!']);\n",
       "            Plotly.purge(gd);\n",
       "            observer.disconnect();\n",
       "        }}\n",
       "}});\n",
       "\n",
       "// Listen for the removal of the full notebook cells\n",
       "var notebookContainer = gd.closest('#notebook-container');\n",
       "if (notebookContainer) {{\n",
       "    x.observe(notebookContainer, {childList: true});\n",
       "}}\n",
       "\n",
       "// Listen for the clearing of the current output cell\n",
       "var outputEl = gd.closest('.output');\n",
       "if (outputEl) {{\n",
       "    x.observe(outputEl, {childList: true});\n",
       "}}\n",
       "\n",
       "                        })                };                });            </script>        </div>"
      ]
     },
     "metadata": {},
     "output_type": "display_data"
    }
   ],
   "source": [
    "pivot_data = filtered_data.pivot_table(\n",
    "    values='DataValue',\n",
    "    index='StratificationID1', \n",
    "    columns='LocationAbbr', \n",
    ")\n",
    "\n",
    "# Create a heatmap using Plotly \n",
    "fig = px.imshow(\n",
    "    pivot_data,\n",
    "    labels=dict(x=\"State\", y=\"Race\", color=\"Mortality Rate\"),\n",
    "    x=pivot_data.columns,\n",
    "    y=pivot_data.index,\n",
    "    title=\"Diabetes Ketoacidosis Mortality Rate per 100,000 by State and Race\",\n",
    "    aspect=\"auto\",\n",
    "    color_continuous_scale='Blues'\n",
    ")\n",
    "\n",
    "# Adding text to each cell manually\n",
    "fig.update_traces(texttemplate=\"%{z:.1f}\", textfont={\"size\": 10})\n",
    "\n",
    "# Show the plot\n",
    "fig.show()"
   ]
  },
  {
   "cell_type": "code",
   "execution_count": null,
   "id": "6d2b4d2a",
   "metadata": {},
   "outputs": [],
   "source": []
  }
 ],
 "metadata": {
  "kernelspec": {
   "display_name": "Python 3 (ipykernel)",
   "language": "python",
   "name": "python3"
  },
  "language_info": {
   "codemirror_mode": {
    "name": "ipython",
    "version": 3
   },
   "file_extension": ".py",
   "mimetype": "text/x-python",
   "name": "python",
   "nbconvert_exporter": "python",
   "pygments_lexer": "ipython3",
   "version": "3.11.5"
  }
 },
 "nbformat": 4,
 "nbformat_minor": 5
}
